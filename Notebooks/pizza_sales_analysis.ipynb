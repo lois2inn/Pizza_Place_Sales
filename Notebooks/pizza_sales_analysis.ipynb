{
 "cells": [
  {
   "cell_type": "code",
   "execution_count": 1,
   "id": "c4014d28",
   "metadata": {},
   "outputs": [],
   "source": [
    "# Import dependencies\n",
    "import numpy as np\n",
    "import pandas as pd\n",
    "import os\n",
    "\n",
    "import seaborn as sns \n",
    "import matplotlib.pyplot as plt"
   ]
  },
  {
   "cell_type": "code",
   "execution_count": 2,
   "id": "ee51d2ee",
   "metadata": {},
   "outputs": [
    {
     "data": {
      "text/plain": [
       "<contextlib._GeneratorContextManager at 0x7fbb1cbb7c90>"
      ]
     },
     "execution_count": 2,
     "metadata": {},
     "output_type": "execute_result"
    }
   ],
   "source": [
    "# Set the stylesheets for plots\n",
    "plt.style.use('ggplot')\n",
    "plt.style.context('grayscale')"
   ]
  },
  {
   "cell_type": "markdown",
   "id": "871df44a",
   "metadata": {},
   "source": [
    "### Step 1: Load CSV files into Pandas dataframes"
   ]
  },
  {
   "cell_type": "code",
   "execution_count": 3,
   "id": "3fbe5303",
   "metadata": {},
   "outputs": [],
   "source": [
    "# Files to load\n",
    "orders_to_load = os.path.join(\"..\",\"Resources\",\"orders.csv\")\n",
    "pizza_types_to_load = os.path.join(\"..\",\"Resources\",\"pizza_types.csv\")\n",
    "pizzas_to_load = os.path.join(\"..\",\"Resources\",\"pizzas.csv\")\n",
    "order_details_to_load = os.path.join(\"..\",\"Resources\",\"order_details.csv\")"
   ]
  },
  {
   "cell_type": "code",
   "execution_count": 4,
   "id": "6c979b10",
   "metadata": {},
   "outputs": [],
   "source": [
    "# Read the data into pandas dataframe\n",
    "orders_df = pd.read_csv(orders_to_load)\n",
    "pizza_types_df = pd.read_csv(pizza_types_to_load)\n",
    "pizzas_df = pd.read_csv(pizzas_to_load)\n",
    "order_details_df = pd.read_csv(order_details_to_load)"
   ]
  },
  {
   "cell_type": "markdown",
   "id": "28c334db",
   "metadata": {},
   "source": [
    "### Step 2: Inspect orders data"
   ]
  },
  {
   "cell_type": "code",
   "execution_count": 5,
   "id": "01b2024e",
   "metadata": {},
   "outputs": [
    {
     "name": "stdout",
     "output_type": "stream",
     "text": [
      "<class 'pandas.core.frame.DataFrame'>\n",
      "RangeIndex: 21350 entries, 0 to 21349\n",
      "Data columns (total 3 columns):\n",
      " #   Column    Non-Null Count  Dtype \n",
      "---  ------    --------------  ----- \n",
      " 0   order_id  21350 non-null  int64 \n",
      " 1   date      21350 non-null  object\n",
      " 2   time      21350 non-null  object\n",
      "dtypes: int64(1), object(2)\n",
      "memory usage: 500.5+ KB\n"
     ]
    }
   ],
   "source": [
    "# dataframe info\n",
    "orders_df.info()"
   ]
  },
  {
   "cell_type": "code",
   "execution_count": 6,
   "id": "f0a5ca7d",
   "metadata": {},
   "outputs": [
    {
     "data": {
      "text/plain": [
       "order_id    0\n",
       "date        0\n",
       "time        0\n",
       "dtype: int64"
      ]
     },
     "execution_count": 6,
     "metadata": {},
     "output_type": "execute_result"
    }
   ],
   "source": [
    "# Check for null values\n",
    "orders_df.isnull().sum()"
   ]
  },
  {
   "cell_type": "code",
   "execution_count": 7,
   "id": "90cec8b9",
   "metadata": {},
   "outputs": [
    {
     "data": {
      "text/plain": [
       "False    21350\n",
       "dtype: int64"
      ]
     },
     "execution_count": 7,
     "metadata": {},
     "output_type": "execute_result"
    }
   ],
   "source": [
    "# Check for duplicate values\n",
    "orders_df.duplicated().value_counts()"
   ]
  },
  {
   "cell_type": "code",
   "execution_count": 8,
   "id": "11d9d858",
   "metadata": {},
   "outputs": [
    {
     "data": {
      "text/plain": [
       "order_id     int64\n",
       "date        object\n",
       "time        object\n",
       "dtype: object"
      ]
     },
     "execution_count": 8,
     "metadata": {},
     "output_type": "execute_result"
    }
   ],
   "source": [
    "# Datatypes\n",
    "orders_df.dtypes"
   ]
  },
  {
   "cell_type": "markdown",
   "id": "397170c9",
   "metadata": {},
   "source": [
    "#### Add required columns to a new orders dataframe"
   ]
  },
  {
   "cell_type": "code",
   "execution_count": 9,
   "id": "f61ffca0",
   "metadata": {},
   "outputs": [
    {
     "data": {
      "text/html": [
       "<div>\n",
       "<style scoped>\n",
       "    .dataframe tbody tr th:only-of-type {\n",
       "        vertical-align: middle;\n",
       "    }\n",
       "\n",
       "    .dataframe tbody tr th {\n",
       "        vertical-align: top;\n",
       "    }\n",
       "\n",
       "    .dataframe thead th {\n",
       "        text-align: right;\n",
       "    }\n",
       "</style>\n",
       "<table border=\"1\" class=\"dataframe\">\n",
       "  <thead>\n",
       "    <tr style=\"text-align: right;\">\n",
       "      <th></th>\n",
       "      <th>order_id</th>\n",
       "      <th>date</th>\n",
       "      <th>time</th>\n",
       "      <th>date_time</th>\n",
       "    </tr>\n",
       "  </thead>\n",
       "  <tbody>\n",
       "    <tr>\n",
       "      <th>0</th>\n",
       "      <td>1</td>\n",
       "      <td>2015-01-01</td>\n",
       "      <td>11:38:36</td>\n",
       "      <td>2015-01-01 11:38:36</td>\n",
       "    </tr>\n",
       "    <tr>\n",
       "      <th>1</th>\n",
       "      <td>2</td>\n",
       "      <td>2015-01-01</td>\n",
       "      <td>11:57:40</td>\n",
       "      <td>2015-01-01 11:57:40</td>\n",
       "    </tr>\n",
       "    <tr>\n",
       "      <th>2</th>\n",
       "      <td>3</td>\n",
       "      <td>2015-01-01</td>\n",
       "      <td>12:12:28</td>\n",
       "      <td>2015-01-01 12:12:28</td>\n",
       "    </tr>\n",
       "    <tr>\n",
       "      <th>3</th>\n",
       "      <td>4</td>\n",
       "      <td>2015-01-01</td>\n",
       "      <td>12:16:31</td>\n",
       "      <td>2015-01-01 12:16:31</td>\n",
       "    </tr>\n",
       "    <tr>\n",
       "      <th>4</th>\n",
       "      <td>5</td>\n",
       "      <td>2015-01-01</td>\n",
       "      <td>12:21:30</td>\n",
       "      <td>2015-01-01 12:21:30</td>\n",
       "    </tr>\n",
       "    <tr>\n",
       "      <th>...</th>\n",
       "      <td>...</td>\n",
       "      <td>...</td>\n",
       "      <td>...</td>\n",
       "      <td>...</td>\n",
       "    </tr>\n",
       "    <tr>\n",
       "      <th>21345</th>\n",
       "      <td>21346</td>\n",
       "      <td>2015-12-31</td>\n",
       "      <td>20:51:07</td>\n",
       "      <td>2015-12-31 20:51:07</td>\n",
       "    </tr>\n",
       "    <tr>\n",
       "      <th>21346</th>\n",
       "      <td>21347</td>\n",
       "      <td>2015-12-31</td>\n",
       "      <td>21:14:37</td>\n",
       "      <td>2015-12-31 21:14:37</td>\n",
       "    </tr>\n",
       "    <tr>\n",
       "      <th>21347</th>\n",
       "      <td>21348</td>\n",
       "      <td>2015-12-31</td>\n",
       "      <td>21:23:10</td>\n",
       "      <td>2015-12-31 21:23:10</td>\n",
       "    </tr>\n",
       "    <tr>\n",
       "      <th>21348</th>\n",
       "      <td>21349</td>\n",
       "      <td>2015-12-31</td>\n",
       "      <td>22:09:54</td>\n",
       "      <td>2015-12-31 22:09:54</td>\n",
       "    </tr>\n",
       "    <tr>\n",
       "      <th>21349</th>\n",
       "      <td>21350</td>\n",
       "      <td>2015-12-31</td>\n",
       "      <td>23:02:05</td>\n",
       "      <td>2015-12-31 23:02:05</td>\n",
       "    </tr>\n",
       "  </tbody>\n",
       "</table>\n",
       "<p>21350 rows × 4 columns</p>\n",
       "</div>"
      ],
      "text/plain": [
       "       order_id        date      time            date_time\n",
       "0             1  2015-01-01  11:38:36  2015-01-01 11:38:36\n",
       "1             2  2015-01-01  11:57:40  2015-01-01 11:57:40\n",
       "2             3  2015-01-01  12:12:28  2015-01-01 12:12:28\n",
       "3             4  2015-01-01  12:16:31  2015-01-01 12:16:31\n",
       "4             5  2015-01-01  12:21:30  2015-01-01 12:21:30\n",
       "...         ...         ...       ...                  ...\n",
       "21345     21346  2015-12-31  20:51:07  2015-12-31 20:51:07\n",
       "21346     21347  2015-12-31  21:14:37  2015-12-31 21:14:37\n",
       "21347     21348  2015-12-31  21:23:10  2015-12-31 21:23:10\n",
       "21348     21349  2015-12-31  22:09:54  2015-12-31 22:09:54\n",
       "21349     21350  2015-12-31  23:02:05  2015-12-31 23:02:05\n",
       "\n",
       "[21350 rows x 4 columns]"
      ]
     },
     "execution_count": 9,
     "metadata": {},
     "output_type": "execute_result"
    }
   ],
   "source": [
    "# Concatenate date and time to a single column\n",
    "new_orders_df = orders_df.copy()\n",
    "new_orders_df['date_time'] = new_orders_df['date'] + \" \" + new_orders_df[\"time\"]\n",
    "new_orders_df"
   ]
  },
  {
   "cell_type": "code",
   "execution_count": 10,
   "id": "4a0e5f6a",
   "metadata": {},
   "outputs": [],
   "source": [
    "# Convert the order time in string format to datetime format\n",
    "new_orders_df['order_date_time'] = pd.to_datetime(new_orders_df['date_time'])\n",
    "\n",
    "# Convert the date in string format to datetime format\n",
    "new_orders_df['order_date'] = pd.to_datetime(new_orders_df['date'])\n",
    "\n",
    "# Extract hour from datetime\n",
    "new_orders_df['order_hour'] = new_orders_df['order_date_time'].dt.hour\n",
    "\n",
    "# Extract day from datetime\n",
    "new_orders_df['order_day'] = new_orders_df['order_date_time'].dt.day_name()\n",
    "\n",
    "# Extract name of month from datetime\n",
    "new_orders_df['order_month'] = new_orders_df['order_date_time'].dt.month_name()\n",
    "new_orders_df"
   ]
  },
  {
   "cell_type": "code",
   "execution_count": 11,
   "id": "eb5807ce",
   "metadata": {},
   "outputs": [
    {
     "data": {
      "text/html": [
       "<div>\n",
       "<style scoped>\n",
       "    .dataframe tbody tr th:only-of-type {\n",
       "        vertical-align: middle;\n",
       "    }\n",
       "\n",
       "    .dataframe tbody tr th {\n",
       "        vertical-align: top;\n",
       "    }\n",
       "\n",
       "    .dataframe thead th {\n",
       "        text-align: right;\n",
       "    }\n",
       "</style>\n",
       "<table border=\"1\" class=\"dataframe\">\n",
       "  <thead>\n",
       "    <tr style=\"text-align: right;\">\n",
       "      <th></th>\n",
       "      <th>order_id</th>\n",
       "      <th>order_date_time</th>\n",
       "      <th>order_date</th>\n",
       "      <th>order_hour</th>\n",
       "      <th>order_day</th>\n",
       "      <th>order_month</th>\n",
       "    </tr>\n",
       "  </thead>\n",
       "  <tbody>\n",
       "    <tr>\n",
       "      <th>0</th>\n",
       "      <td>1</td>\n",
       "      <td>2015-01-01 11:38:36</td>\n",
       "      <td>2015-01-01</td>\n",
       "      <td>11</td>\n",
       "      <td>Thursday</td>\n",
       "      <td>January</td>\n",
       "    </tr>\n",
       "    <tr>\n",
       "      <th>1</th>\n",
       "      <td>2</td>\n",
       "      <td>2015-01-01 11:57:40</td>\n",
       "      <td>2015-01-01</td>\n",
       "      <td>11</td>\n",
       "      <td>Thursday</td>\n",
       "      <td>January</td>\n",
       "    </tr>\n",
       "    <tr>\n",
       "      <th>2</th>\n",
       "      <td>3</td>\n",
       "      <td>2015-01-01 12:12:28</td>\n",
       "      <td>2015-01-01</td>\n",
       "      <td>12</td>\n",
       "      <td>Thursday</td>\n",
       "      <td>January</td>\n",
       "    </tr>\n",
       "    <tr>\n",
       "      <th>3</th>\n",
       "      <td>4</td>\n",
       "      <td>2015-01-01 12:16:31</td>\n",
       "      <td>2015-01-01</td>\n",
       "      <td>12</td>\n",
       "      <td>Thursday</td>\n",
       "      <td>January</td>\n",
       "    </tr>\n",
       "    <tr>\n",
       "      <th>4</th>\n",
       "      <td>5</td>\n",
       "      <td>2015-01-01 12:21:30</td>\n",
       "      <td>2015-01-01</td>\n",
       "      <td>12</td>\n",
       "      <td>Thursday</td>\n",
       "      <td>January</td>\n",
       "    </tr>\n",
       "    <tr>\n",
       "      <th>...</th>\n",
       "      <td>...</td>\n",
       "      <td>...</td>\n",
       "      <td>...</td>\n",
       "      <td>...</td>\n",
       "      <td>...</td>\n",
       "      <td>...</td>\n",
       "    </tr>\n",
       "    <tr>\n",
       "      <th>21345</th>\n",
       "      <td>21346</td>\n",
       "      <td>2015-12-31 20:51:07</td>\n",
       "      <td>2015-12-31</td>\n",
       "      <td>20</td>\n",
       "      <td>Thursday</td>\n",
       "      <td>December</td>\n",
       "    </tr>\n",
       "    <tr>\n",
       "      <th>21346</th>\n",
       "      <td>21347</td>\n",
       "      <td>2015-12-31 21:14:37</td>\n",
       "      <td>2015-12-31</td>\n",
       "      <td>21</td>\n",
       "      <td>Thursday</td>\n",
       "      <td>December</td>\n",
       "    </tr>\n",
       "    <tr>\n",
       "      <th>21347</th>\n",
       "      <td>21348</td>\n",
       "      <td>2015-12-31 21:23:10</td>\n",
       "      <td>2015-12-31</td>\n",
       "      <td>21</td>\n",
       "      <td>Thursday</td>\n",
       "      <td>December</td>\n",
       "    </tr>\n",
       "    <tr>\n",
       "      <th>21348</th>\n",
       "      <td>21349</td>\n",
       "      <td>2015-12-31 22:09:54</td>\n",
       "      <td>2015-12-31</td>\n",
       "      <td>22</td>\n",
       "      <td>Thursday</td>\n",
       "      <td>December</td>\n",
       "    </tr>\n",
       "    <tr>\n",
       "      <th>21349</th>\n",
       "      <td>21350</td>\n",
       "      <td>2015-12-31 23:02:05</td>\n",
       "      <td>2015-12-31</td>\n",
       "      <td>23</td>\n",
       "      <td>Thursday</td>\n",
       "      <td>December</td>\n",
       "    </tr>\n",
       "  </tbody>\n",
       "</table>\n",
       "<p>21350 rows × 6 columns</p>\n",
       "</div>"
      ],
      "text/plain": [
       "       order_id     order_date_time order_date  order_hour order_day  \\\n",
       "0             1 2015-01-01 11:38:36 2015-01-01          11  Thursday   \n",
       "1             2 2015-01-01 11:57:40 2015-01-01          11  Thursday   \n",
       "2             3 2015-01-01 12:12:28 2015-01-01          12  Thursday   \n",
       "3             4 2015-01-01 12:16:31 2015-01-01          12  Thursday   \n",
       "4             5 2015-01-01 12:21:30 2015-01-01          12  Thursday   \n",
       "...         ...                 ...        ...         ...       ...   \n",
       "21345     21346 2015-12-31 20:51:07 2015-12-31          20  Thursday   \n",
       "21346     21347 2015-12-31 21:14:37 2015-12-31          21  Thursday   \n",
       "21347     21348 2015-12-31 21:23:10 2015-12-31          21  Thursday   \n",
       "21348     21349 2015-12-31 22:09:54 2015-12-31          22  Thursday   \n",
       "21349     21350 2015-12-31 23:02:05 2015-12-31          23  Thursday   \n",
       "\n",
       "      order_month  \n",
       "0         January  \n",
       "1         January  \n",
       "2         January  \n",
       "3         January  \n",
       "4         January  \n",
       "...           ...  \n",
       "21345    December  \n",
       "21346    December  \n",
       "21347    December  \n",
       "21348    December  \n",
       "21349    December  \n",
       "\n",
       "[21350 rows x 6 columns]"
      ]
     },
     "execution_count": 11,
     "metadata": {},
     "output_type": "execute_result"
    }
   ],
   "source": [
    "new_orders_df = new_orders_df.drop(['date','time','date_time'], axis=1)\n",
    "new_orders_df"
   ]
  },
  {
   "cell_type": "markdown",
   "id": "622a703d",
   "metadata": {},
   "source": [
    "#### Order Summary"
   ]
  },
  {
   "cell_type": "code",
   "execution_count": 12,
   "id": "5a857827",
   "metadata": {},
   "outputs": [
    {
     "data": {
      "text/plain": [
       "358"
      ]
     },
     "execution_count": 12,
     "metadata": {},
     "output_type": "execute_result"
    }
   ],
   "source": [
    "# Get the total number of order days.\n",
    "len(new_orders_df[\"order_date\"].unique())"
   ]
  },
  {
   "cell_type": "code",
   "execution_count": 13,
   "id": "a1296b49",
   "metadata": {},
   "outputs": [
    {
     "data": {
      "text/plain": [
       "21350"
      ]
     },
     "execution_count": 13,
     "metadata": {},
     "output_type": "execute_result"
    }
   ],
   "source": [
    "# Get the total number orders placed in the store.\n",
    "new_orders_df[\"order_id\"].count()"
   ]
  },
  {
   "cell_type": "code",
   "execution_count": 14,
   "id": "9ea0d0bf",
   "metadata": {},
   "outputs": [
    {
     "name": "stdout",
     "output_type": "stream",
     "text": [
      "The typical number of orders per day: 60\n"
     ]
    }
   ],
   "source": [
    "# The number of orders per day (rounded to nearest integer)\n",
    "print(f'Typical number of orders per day: {round(new_orders_df[\"order_id\"].count()/len(new_orders_df[\"order_date\"].unique()))}')"
   ]
  },
  {
   "cell_type": "code",
   "execution_count": 17,
   "id": "ea77879b",
   "metadata": {},
   "outputs": [
    {
     "data": {
      "text/plain": [
       "order_hour\n",
       "12    2520\n",
       "13    2455\n",
       "18    2399\n",
       "17    2336\n",
       "19    2009\n",
       "Name: order_id, dtype: int64"
      ]
     },
     "execution_count": 17,
     "metadata": {},
     "output_type": "execute_result"
    }
   ],
   "source": [
    "# Peak hours in the store\n",
    "peak_hours = new_orders_df.groupby(['order_hour']).count()[\"order_id\"]\n",
    "peak_hours.sort_values(ascending=False).head(5)"
   ]
  },
  {
   "cell_type": "code",
   "execution_count": 24,
   "id": "3717700b",
   "metadata": {},
   "outputs": [
    {
     "data": {
      "text/plain": [
       "Text(0.5, 1.0, 'Pizza Orders by Hour')"
      ]
     },
     "execution_count": 24,
     "metadata": {},
     "output_type": "execute_result"
    },
    {
     "data": {
      "image/png": "[encoded data removed]",
      "text/plain": [
       "<Figure size 640x480 with 1 Axes>"
      ]
     },
     "metadata": {},
     "output_type": "display_data"
    }
   ],
   "source": [
    "# Plot the peak hours in a day\n",
    "sns.countplot(data = new_orders_df.sort_values(\"order_hour\",ascending=True), x=\"order_hour\")\n",
    "plt.xlabel(\"Hours\",fontsize=8,color=\"black\")\n",
    "plt.ylabel(\"Orders\",fontsize= 8, color=\"black\")\n",
    "plt.title(\"Orders by Hour\")"
   ]
  },
  {
   "cell_type": "markdown",
   "id": "b897e51f",
   "metadata": {},
   "source": [
    "- **Noon and evening hours are the peak hours in this pizza store.**"
   ]
  },
  {
   "cell_type": "code",
   "execution_count": 25,
   "id": "7149a45c",
   "metadata": {},
   "outputs": [
    {
     "data": {
      "text/plain": [
       "Friday       3538\n",
       "Monday       2794\n",
       "Saturday     3158\n",
       "Sunday       2624\n",
       "Thursday     3239\n",
       "Tuesday      2973\n",
       "Wednesday    3024\n",
       "Name: order_day, dtype: int64"
      ]
     },
     "execution_count": 25,
     "metadata": {},
     "output_type": "execute_result"
    }
   ],
   "source": [
    "# Busiest day of the week\n",
    "new_orders_df[\"order_day\"].value_counts().sort_index()"
   ]
  },
  {
   "cell_type": "code",
   "execution_count": 27,
   "id": "a5bb7ad3",
   "metadata": {},
   "outputs": [
    {
     "data": {
      "text/plain": [
       "(array([0, 1, 2, 3, 4, 5, 6]),\n",
       " [Text(0, 0, 'Thursday'),\n",
       "  Text(1, 0, 'Friday'),\n",
       "  Text(2, 0, 'Saturday'),\n",
       "  Text(3, 0, 'Sunday'),\n",
       "  Text(4, 0, 'Monday'),\n",
       "  Text(5, 0, 'Tuesday'),\n",
       "  Text(6, 0, 'Wednesday')])"
      ]
     },
     "execution_count": 27,
     "metadata": {},
     "output_type": "execute_result"
    },
    {
     "data": {
      "image/png": "[encoded data removed]",
      "text/plain": [
       "<Figure size 640x480 with 1 Axes>"
      ]
     },
     "metadata": {},
     "output_type": "display_data"
    }
   ],
   "source": [
    "# Plot the busiest days in a week\n",
    "sns.countplot(data=new_orders_df,x=\"order_day\")\n",
    "plt.xlabel(\"Day of Week\",fontsize=8,color=\"black\")\n",
    "plt.ylabel(\"Orders\",fontsize=8,color=\"black\")\n",
    "plt.title(\"Orders By Day\")\n",
    "plt.xticks(rotation=45)"
   ]
  },
  {
   "cell_type": "markdown",
   "id": "b92b6e9e",
   "metadata": {},
   "source": [
    "- **Friday is the busiest day of the week followed by Thursday.**"
   ]
  },
  {
   "cell_type": "code",
   "execution_count": 31,
   "id": "efccdccf",
   "metadata": {},
   "outputs": [
    {
     "data": {
      "text/plain": [
       "October      1646\n",
       "September    1661\n",
       "December     1680\n",
       "February     1685\n",
       "June         1773\n",
       "November     1792\n",
       "April        1799\n",
       "March        1840\n",
       "August       1841\n",
       "January      1845\n",
       "May          1853\n",
       "July         1935\n",
       "Name: order_month, dtype: int64"
      ]
     },
     "execution_count": 31,
     "metadata": {},
     "output_type": "execute_result"
    }
   ],
   "source": [
    "# Orders per month\n",
    "new_orders_df[\"order_month\"].value_counts().sort_values()"
   ]
  },
  {
   "cell_type": "code",
   "execution_count": 29,
   "id": "80e07670",
   "metadata": {},
   "outputs": [
    {
     "data": {
      "text/plain": [
       "(array([ 0,  1,  2,  3,  4,  5,  6,  7,  8,  9, 10, 11]),\n",
       " [Text(0, 0, 'January'),\n",
       "  Text(1, 0, 'February'),\n",
       "  Text(2, 0, 'March'),\n",
       "  Text(3, 0, 'April'),\n",
       "  Text(4, 0, 'May'),\n",
       "  Text(5, 0, 'June'),\n",
       "  Text(6, 0, 'July'),\n",
       "  Text(7, 0, 'August'),\n",
       "  Text(8, 0, 'September'),\n",
       "  Text(9, 0, 'October'),\n",
       "  Text(10, 0, 'November'),\n",
       "  Text(11, 0, 'December')])"
      ]
     },
     "execution_count": 29,
     "metadata": {},
     "output_type": "execute_result"
    },
    {
     "data": {
      "image/png": "[encoded data removed]",
      "text/plain": [
       "<Figure size 640x480 with 1 Axes>"
      ]
     },
     "metadata": {},
     "output_type": "display_data"
    }
   ],
   "source": [
    "# Plot the busiest months in a year\n",
    "sns.countplot(data=new_orders_df,x=\"order_month\")\n",
    "plt.xlabel(\"Month\",fontsize=8,color=\"black\")\n",
    "plt.ylabel(\"Orders\",fontsize=8,color=\"black\")\n",
    "plt.title(\"Orders By Month\")\n",
    "plt.xticks(rotation=90)"
   ]
  },
  {
   "cell_type": "markdown",
   "id": "f7ebd2e3",
   "metadata": {},
   "source": [
    "- **July and May have the most orders in the year while October and September have least orders.**"
   ]
  },
  {
   "cell_type": "markdown",
   "id": "f7769177",
   "metadata": {},
   "source": [
    "### Step 3: Inspect pizza types data"
   ]
  },
  {
   "cell_type": "code",
   "execution_count": 19,
   "id": "37820f86",
   "metadata": {},
   "outputs": [
    {
     "name": "stdout",
     "output_type": "stream",
     "text": [
      "<class 'pandas.core.frame.DataFrame'>\n",
      "RangeIndex: 32 entries, 0 to 31\n",
      "Data columns (total 4 columns):\n",
      " #   Column         Non-Null Count  Dtype \n",
      "---  ------         --------------  ----- \n",
      " 0   pizza_type_id  32 non-null     object\n",
      " 1   name           32 non-null     object\n",
      " 2   category       32 non-null     object\n",
      " 3   ingredients    32 non-null     object\n",
      "dtypes: object(4)\n",
      "memory usage: 1.1+ KB\n"
     ]
    }
   ],
   "source": [
    "pizza_types_df.info()"
   ]
  },
  {
   "cell_type": "code",
   "execution_count": 20,
   "id": "0e5e5c5f",
   "metadata": {},
   "outputs": [
    {
     "data": {
      "text/plain": [
       "pizza_type_id    0\n",
       "name             0\n",
       "category         0\n",
       "ingredients      0\n",
       "dtype: int64"
      ]
     },
     "execution_count": 20,
     "metadata": {},
     "output_type": "execute_result"
    }
   ],
   "source": [
    "# Check for null values\n",
    "pizza_types_df.isnull().sum()"
   ]
  },
  {
   "cell_type": "code",
   "execution_count": 21,
   "id": "c40febf9",
   "metadata": {},
   "outputs": [
    {
     "data": {
      "text/plain": [
       "False    32\n",
       "dtype: int64"
      ]
     },
     "execution_count": 21,
     "metadata": {},
     "output_type": "execute_result"
    }
   ],
   "source": [
    "# Check for duplicate values\n",
    "pizza_types_df.duplicated().value_counts()"
   ]
  },
  {
   "cell_type": "code",
   "execution_count": 22,
   "id": "ca8c4c4c",
   "metadata": {},
   "outputs": [
    {
     "data": {
      "text/html": [
       "<div>\n",
       "<style scoped>\n",
       "    .dataframe tbody tr th:only-of-type {\n",
       "        vertical-align: middle;\n",
       "    }\n",
       "\n",
       "    .dataframe tbody tr th {\n",
       "        vertical-align: top;\n",
       "    }\n",
       "\n",
       "    .dataframe thead th {\n",
       "        text-align: right;\n",
       "    }\n",
       "</style>\n",
       "<table border=\"1\" class=\"dataframe\">\n",
       "  <thead>\n",
       "    <tr style=\"text-align: right;\">\n",
       "      <th></th>\n",
       "      <th>pizza_type_id</th>\n",
       "      <th>name</th>\n",
       "      <th>category</th>\n",
       "      <th>ingredients</th>\n",
       "    </tr>\n",
       "  </thead>\n",
       "  <tbody>\n",
       "    <tr>\n",
       "      <th>7</th>\n",
       "      <td>classic_dlx</td>\n",
       "      <td>The Classic Deluxe Pizza</td>\n",
       "      <td>Classic</td>\n",
       "      <td>Pepperoni, Mushrooms, Red Onions, Red Peppers,...</td>\n",
       "    </tr>\n",
       "    <tr>\n",
       "      <th>20</th>\n",
       "      <td>soppressata</td>\n",
       "      <td>The Soppressata Pizza</td>\n",
       "      <td>Supreme</td>\n",
       "      <td>Soppressata Salami, Fontina Cheese, Mozzarella...</td>\n",
       "    </tr>\n",
       "    <tr>\n",
       "      <th>27</th>\n",
       "      <td>mediterraneo</td>\n",
       "      <td>The Mediterranean Pizza</td>\n",
       "      <td>Veggie</td>\n",
       "      <td>Spinach, Artichokes, Kalamata Olives, Sun-drie...</td>\n",
       "    </tr>\n",
       "    <tr>\n",
       "      <th>4</th>\n",
       "      <td>southw_ckn</td>\n",
       "      <td>The Southwest Chicken Pizza</td>\n",
       "      <td>Chicken</td>\n",
       "      <td>Chicken, Tomatoes, Red Peppers, Red Onions, Ja...</td>\n",
       "    </tr>\n",
       "    <tr>\n",
       "      <th>15</th>\n",
       "      <td>calabrese</td>\n",
       "      <td>The Calabrese Pizza</td>\n",
       "      <td>Supreme</td>\n",
       "      <td>ëNduja Salami, Pancetta, Tomatoes, Red Onions,...</td>\n",
       "    </tr>\n",
       "  </tbody>\n",
       "</table>\n",
       "</div>"
      ],
      "text/plain": [
       "   pizza_type_id                         name category  \\\n",
       "7    classic_dlx     The Classic Deluxe Pizza  Classic   \n",
       "20   soppressata        The Soppressata Pizza  Supreme   \n",
       "27  mediterraneo      The Mediterranean Pizza   Veggie   \n",
       "4     southw_ckn  The Southwest Chicken Pizza  Chicken   \n",
       "15     calabrese          The Calabrese Pizza  Supreme   \n",
       "\n",
       "                                          ingredients  \n",
       "7   Pepperoni, Mushrooms, Red Onions, Red Peppers,...  \n",
       "20  Soppressata Salami, Fontina Cheese, Mozzarella...  \n",
       "27  Spinach, Artichokes, Kalamata Olives, Sun-drie...  \n",
       "4   Chicken, Tomatoes, Red Peppers, Red Onions, Ja...  \n",
       "15  ëNduja Salami, Pancetta, Tomatoes, Red Onions,...  "
      ]
     },
     "execution_count": 22,
     "metadata": {},
     "output_type": "execute_result"
    }
   ],
   "source": [
    "pizza_types_df.sample(5)"
   ]
  },
  {
   "cell_type": "markdown",
   "id": "b34b5368",
   "metadata": {},
   "source": [
    "#### Pizza Types Summary"
   ]
  },
  {
   "cell_type": "code",
   "execution_count": 23,
   "id": "174288b7",
   "metadata": {},
   "outputs": [
    {
     "data": {
      "text/plain": [
       "array(['Chicken', 'Classic', 'Supreme', 'Veggie'], dtype=object)"
      ]
     },
     "execution_count": 23,
     "metadata": {},
     "output_type": "execute_result"
    }
   ],
   "source": [
    "# Categories of pizzas available\n",
    "pizza_types_df['category'].unique()"
   ]
  },
  {
   "cell_type": "code",
   "execution_count": 32,
   "id": "236bd508",
   "metadata": {},
   "outputs": [
    {
     "data": {
      "text/plain": [
       "([<matplotlib.patches.Wedge at 0x7fbb1ea08d10>,\n",
       "  <matplotlib.patches.Wedge at 0x7fbb1ea13510>,\n",
       "  <matplotlib.patches.Wedge at 0x7fbb1ea13d90>,\n",
       "  <matplotlib.patches.Wedge at 0x7fbb1ea13a90>],\n",
       " [Text(0.6978326125800102, 0.8503114986990107, 'Supreme'),\n",
       "  Text(-0.9701133907831905, 0.5185364105085977, 'Veggie'),\n",
       "  Text(-0.4209517756015994, -1.0162674857624152, 'Classic'),\n",
       "  Text(0.9146165735327998, -0.6111272563215624, 'Chicken')],\n",
       " [Text(0.38063597049818737, 0.46380627201764213, '28.1%'),\n",
       "  Text(-0.5291527586090129, 0.28283804209559865, '28.1%'),\n",
       "  Text(-0.22961005941905419, -0.5543277195067718, '25.0%'),\n",
       "  Text(0.4988817673815271, -0.3333421398117613, '18.8%')])"
      ]
     },
     "execution_count": 32,
     "metadata": {},
     "output_type": "execute_result"
    },
    {
     "data": {
      "image/png": "[encoded data removed]",
      "text/plain": [
       "<Figure size 640x480 with 1 Axes>"
      ]
     },
     "metadata": {},
     "output_type": "display_data"
    }
   ],
   "source": [
    "# Pie chart with pizza categories\n",
    "labels = pizza_types_df[\"category\"].value_counts().index\n",
    "sizes = pizza_types_df[\"category\"].value_counts()\n",
    "plt.pie(sizes, labels=labels, rotatelabels=False, autopct='%1.1f%%')"
   ]
  },
  {
   "cell_type": "markdown",
   "id": "409e5b91",
   "metadata": {},
   "source": [
    "- **Veggie and Supreme categories have more pizza types compared to Classic and Chicken.**"
   ]
  },
  {
   "cell_type": "markdown",
   "id": "d6b130eb",
   "metadata": {},
   "source": [
    "### Step 4: Inspect pizzas data"
   ]
  },
  {
   "cell_type": "code",
   "execution_count": 34,
   "id": "76daa21c",
   "metadata": {},
   "outputs": [
    {
     "name": "stdout",
     "output_type": "stream",
     "text": [
      "<class 'pandas.core.frame.DataFrame'>\n",
      "RangeIndex: 96 entries, 0 to 95\n",
      "Data columns (total 4 columns):\n",
      " #   Column         Non-Null Count  Dtype  \n",
      "---  ------         --------------  -----  \n",
      " 0   pizza_id       96 non-null     object \n",
      " 1   pizza_type_id  96 non-null     object \n",
      " 2   size           96 non-null     object \n",
      " 3   price          96 non-null     float64\n",
      "dtypes: float64(1), object(3)\n",
      "memory usage: 3.1+ KB\n"
     ]
    }
   ],
   "source": [
    "# Dataframe info\n",
    "pizzas_df.info()"
   ]
  },
  {
   "cell_type": "code",
   "execution_count": 35,
   "id": "c087f6f4",
   "metadata": {},
   "outputs": [
    {
     "data": {
      "text/plain": [
       "pizza_id         0\n",
       "pizza_type_id    0\n",
       "size             0\n",
       "price            0\n",
       "dtype: int64"
      ]
     },
     "execution_count": 35,
     "metadata": {},
     "output_type": "execute_result"
    }
   ],
   "source": [
    "# Check for null values\n",
    "pizzas_df.isnull().sum()"
   ]
  },
  {
   "cell_type": "code",
   "execution_count": 36,
   "id": "25fd0aec",
   "metadata": {},
   "outputs": [
    {
     "data": {
      "text/plain": [
       "False    96\n",
       "dtype: int64"
      ]
     },
     "execution_count": 36,
     "metadata": {},
     "output_type": "execute_result"
    }
   ],
   "source": [
    "# Check for duplicate values\n",
    "pizzas_df.duplicated().value_counts()"
   ]
  },
  {
   "cell_type": "code",
   "execution_count": 33,
   "id": "1f1b22b4",
   "metadata": {},
   "outputs": [
    {
     "data": {
      "text/html": [
       "<div>\n",
       "<style scoped>\n",
       "    .dataframe tbody tr th:only-of-type {\n",
       "        vertical-align: middle;\n",
       "    }\n",
       "\n",
       "    .dataframe tbody tr th {\n",
       "        vertical-align: top;\n",
       "    }\n",
       "\n",
       "    .dataframe thead th {\n",
       "        text-align: right;\n",
       "    }\n",
       "</style>\n",
       "<table border=\"1\" class=\"dataframe\">\n",
       "  <thead>\n",
       "    <tr style=\"text-align: right;\">\n",
       "      <th></th>\n",
       "      <th>pizza_id</th>\n",
       "      <th>pizza_type_id</th>\n",
       "      <th>size</th>\n",
       "      <th>price</th>\n",
       "    </tr>\n",
       "  </thead>\n",
       "  <tbody>\n",
       "    <tr>\n",
       "      <th>91</th>\n",
       "      <td>spinach_fet_m</td>\n",
       "      <td>spinach_fet</td>\n",
       "      <td>M</td>\n",
       "      <td>16.00</td>\n",
       "    </tr>\n",
       "    <tr>\n",
       "      <th>92</th>\n",
       "      <td>spinach_fet_l</td>\n",
       "      <td>spinach_fet</td>\n",
       "      <td>L</td>\n",
       "      <td>20.25</td>\n",
       "    </tr>\n",
       "    <tr>\n",
       "      <th>93</th>\n",
       "      <td>veggie_veg_s</td>\n",
       "      <td>veggie_veg</td>\n",
       "      <td>S</td>\n",
       "      <td>12.00</td>\n",
       "    </tr>\n",
       "    <tr>\n",
       "      <th>94</th>\n",
       "      <td>veggie_veg_m</td>\n",
       "      <td>veggie_veg</td>\n",
       "      <td>M</td>\n",
       "      <td>16.00</td>\n",
       "    </tr>\n",
       "    <tr>\n",
       "      <th>95</th>\n",
       "      <td>veggie_veg_l</td>\n",
       "      <td>veggie_veg</td>\n",
       "      <td>L</td>\n",
       "      <td>20.25</td>\n",
       "    </tr>\n",
       "  </tbody>\n",
       "</table>\n",
       "</div>"
      ],
      "text/plain": [
       "         pizza_id pizza_type_id size  price\n",
       "91  spinach_fet_m   spinach_fet    M  16.00\n",
       "92  spinach_fet_l   spinach_fet    L  20.25\n",
       "93   veggie_veg_s    veggie_veg    S  12.00\n",
       "94   veggie_veg_m    veggie_veg    M  16.00\n",
       "95   veggie_veg_l    veggie_veg    L  20.25"
      ]
     },
     "execution_count": 33,
     "metadata": {},
     "output_type": "execute_result"
    }
   ],
   "source": [
    "# Display last few rows of dataframe \n",
    "pizzas_df.tail(5)"
   ]
  },
  {
   "cell_type": "markdown",
   "id": "0d7d3a97",
   "metadata": {},
   "source": [
    "#### Pizzas data summary"
   ]
  },
  {
   "cell_type": "code",
   "execution_count": 49,
   "id": "59866002",
   "metadata": {},
   "outputs": [
    {
     "data": {
      "text/html": [
       "<div>\n",
       "<style scoped>\n",
       "    .dataframe tbody tr th:only-of-type {\n",
       "        vertical-align: middle;\n",
       "    }\n",
       "\n",
       "    .dataframe tbody tr th {\n",
       "        vertical-align: top;\n",
       "    }\n",
       "\n",
       "    .dataframe thead th {\n",
       "        text-align: right;\n",
       "    }\n",
       "</style>\n",
       "<table border=\"1\" class=\"dataframe\">\n",
       "  <thead>\n",
       "    <tr style=\"text-align: right;\">\n",
       "      <th></th>\n",
       "      <th>price</th>\n",
       "    </tr>\n",
       "  </thead>\n",
       "  <tbody>\n",
       "    <tr>\n",
       "      <th>count</th>\n",
       "      <td>96.000000</td>\n",
       "    </tr>\n",
       "    <tr>\n",
       "      <th>mean</th>\n",
       "      <td>16.440625</td>\n",
       "    </tr>\n",
       "    <tr>\n",
       "      <th>std</th>\n",
       "      <td>4.090266</td>\n",
       "    </tr>\n",
       "    <tr>\n",
       "      <th>min</th>\n",
       "      <td>9.750000</td>\n",
       "    </tr>\n",
       "    <tr>\n",
       "      <th>25%</th>\n",
       "      <td>12.500000</td>\n",
       "    </tr>\n",
       "    <tr>\n",
       "      <th>50%</th>\n",
       "      <td>16.250000</td>\n",
       "    </tr>\n",
       "    <tr>\n",
       "      <th>75%</th>\n",
       "      <td>20.250000</td>\n",
       "    </tr>\n",
       "    <tr>\n",
       "      <th>max</th>\n",
       "      <td>35.950000</td>\n",
       "    </tr>\n",
       "  </tbody>\n",
       "</table>\n",
       "</div>"
      ],
      "text/plain": [
       "           price\n",
       "count  96.000000\n",
       "mean   16.440625\n",
       "std     4.090266\n",
       "min     9.750000\n",
       "25%    12.500000\n",
       "50%    16.250000\n",
       "75%    20.250000\n",
       "max    35.950000"
      ]
     },
     "execution_count": 49,
     "metadata": {},
     "output_type": "execute_result"
    }
   ],
   "source": [
    "# Get pizza price statistics\n",
    "pizzas_df.describe()"
   ]
  },
  {
   "cell_type": "code",
   "execution_count": 41,
   "id": "03b78c12",
   "metadata": {},
   "outputs": [
    {
     "data": {
      "text/html": [
       "<div>\n",
       "<style scoped>\n",
       "    .dataframe tbody tr th:only-of-type {\n",
       "        vertical-align: middle;\n",
       "    }\n",
       "\n",
       "    .dataframe tbody tr th {\n",
       "        vertical-align: top;\n",
       "    }\n",
       "\n",
       "    .dataframe thead th {\n",
       "        text-align: right;\n",
       "    }\n",
       "</style>\n",
       "<table border=\"1\" class=\"dataframe\">\n",
       "  <thead>\n",
       "    <tr style=\"text-align: right;\">\n",
       "      <th></th>\n",
       "      <th>pizza_id</th>\n",
       "      <th>pizza_type_id</th>\n",
       "      <th>size</th>\n",
       "      <th>price</th>\n",
       "    </tr>\n",
       "  </thead>\n",
       "  <tbody>\n",
       "    <tr>\n",
       "      <th>43</th>\n",
       "      <td>the_greek_xxl</td>\n",
       "      <td>the_greek</td>\n",
       "      <td>XXL</td>\n",
       "      <td>35.95</td>\n",
       "    </tr>\n",
       "  </tbody>\n",
       "</table>\n",
       "</div>"
      ],
      "text/plain": [
       "         pizza_id pizza_type_id size  price\n",
       "43  the_greek_xxl     the_greek  XXL  35.95"
      ]
     },
     "execution_count": 41,
     "metadata": {},
     "output_type": "execute_result"
    }
   ],
   "source": [
    "# The most expensive pizza offered\n",
    "max_price = pizzas_df['price'].max()\n",
    "expensive_pizza = pizzas_df['price'] == max_price\n",
    "pizzas_df[expensive_pizza]"
   ]
  },
  {
   "cell_type": "code",
   "execution_count": 42,
   "id": "c740c2f5",
   "metadata": {},
   "outputs": [
    {
     "data": {
      "text/html": [
       "<div>\n",
       "<style scoped>\n",
       "    .dataframe tbody tr th:only-of-type {\n",
       "        vertical-align: middle;\n",
       "    }\n",
       "\n",
       "    .dataframe tbody tr th {\n",
       "        vertical-align: top;\n",
       "    }\n",
       "\n",
       "    .dataframe thead th {\n",
       "        text-align: right;\n",
       "    }\n",
       "</style>\n",
       "<table border=\"1\" class=\"dataframe\">\n",
       "  <thead>\n",
       "    <tr style=\"text-align: right;\">\n",
       "      <th></th>\n",
       "      <th>pizza_id</th>\n",
       "      <th>pizza_type_id</th>\n",
       "      <th>size</th>\n",
       "      <th>price</th>\n",
       "    </tr>\n",
       "  </thead>\n",
       "  <tbody>\n",
       "    <tr>\n",
       "      <th>36</th>\n",
       "      <td>pepperoni_s</td>\n",
       "      <td>pepperoni</td>\n",
       "      <td>S</td>\n",
       "      <td>9.75</td>\n",
       "    </tr>\n",
       "  </tbody>\n",
       "</table>\n",
       "</div>"
      ],
      "text/plain": [
       "       pizza_id pizza_type_id size  price\n",
       "36  pepperoni_s     pepperoni    S   9.75"
      ]
     },
     "execution_count": 42,
     "metadata": {},
     "output_type": "execute_result"
    }
   ],
   "source": [
    "# Least expensive pizza\n",
    "least_price = pizzas_df['price'].min()\n",
    "least_expensive_pizza = pizzas_df['price'] == least_price\n",
    "pizzas_df[least_expensive_pizza]"
   ]
  },
  {
   "cell_type": "code",
   "execution_count": 37,
   "id": "f72182df",
   "metadata": {},
   "outputs": [
    {
     "data": {
      "text/plain": [
       "array(['S', 'M', 'L', 'XL', 'XXL'], dtype=object)"
      ]
     },
     "execution_count": 37,
     "metadata": {},
     "output_type": "execute_result"
    }
   ],
   "source": [
    "# Pizza sizes offered\n",
    "pizzas_df['size'].unique()"
   ]
  },
  {
   "cell_type": "code",
   "execution_count": 38,
   "id": "5f23fa79",
   "metadata": {},
   "outputs": [
    {
     "data": {
      "text/plain": [
       "([<matplotlib.patches.Wedge at 0x7fbb1ea820d0>,\n",
       "  <matplotlib.patches.Wedge at 0x7fbb1ea82a50>,\n",
       "  <matplotlib.patches.Wedge at 0x7fbb1ea8f2d0>,\n",
       "  <matplotlib.patches.Wedge at 0x7fbb1ea82f90>,\n",
       "  <matplotlib.patches.Wedge at 0x7fbb1ea9d310>],\n",
       " [Text(0.5499999702695115, 0.9526279613277875, 'S'),\n",
       "  Text(-1.0994110473472416, 0.03599095679252379, 'M'),\n",
       "  Text(0.45397770151505074, -1.0019502215814475, 'L'),\n",
       "  Text(1.0947031927147481, -0.10781892162388282, 'XL'),\n",
       "  Text(1.0994110440828242, -0.03599105651011783, 'XXL')],\n",
       " [Text(0.2999999837833699, 0.5196152516333385, '33.3%'),\n",
       "  Text(-0.5996787530984954, 0.019631430977740245, '32.3%'),\n",
       "  Text(0.24762420082639128, -0.5465183026807895, '32.3%'),\n",
       "  Text(0.5971108323898626, -0.05881032088575426, '1.0%'),\n",
       "  Text(0.599678751317904, -0.019631485369155176, '1.0%')])"
      ]
     },
     "execution_count": 38,
     "metadata": {},
     "output_type": "execute_result"
    },
    {
     "data": {
      "image/png": "[encoded data removed]",
      "text/plain": [
       "<Figure size 640x480 with 1 Axes>"
      ]
     },
     "metadata": {},
     "output_type": "display_data"
    }
   ],
   "source": [
    "# Pie chart with pizza sizes\n",
    "labels = pizzas_df[\"size\"].value_counts().index\n",
    "sizes = pizzas_df[\"size\"].value_counts()\n",
    "plt.pie(sizes, labels=labels, rotatelabels=False, autopct='%1.1f%%')"
   ]
  },
  {
   "cell_type": "markdown",
   "id": "88f93d51",
   "metadata": {},
   "source": [
    "- **The store offers more Small size pizzas compared to other sizes.**"
   ]
  },
  {
   "cell_type": "markdown",
   "id": "9989a6dc",
   "metadata": {},
   "source": [
    "### Step 5: Inspect order_details data"
   ]
  },
  {
   "cell_type": "code",
   "execution_count": 43,
   "id": "1a2bae8b",
   "metadata": {},
   "outputs": [
    {
     "name": "stdout",
     "output_type": "stream",
     "text": [
      "<class 'pandas.core.frame.DataFrame'>\n",
      "RangeIndex: 48620 entries, 0 to 48619\n",
      "Data columns (total 4 columns):\n",
      " #   Column            Non-Null Count  Dtype \n",
      "---  ------            --------------  ----- \n",
      " 0   order_details_id  48620 non-null  int64 \n",
      " 1   order_id          48620 non-null  int64 \n",
      " 2   pizza_id          48620 non-null  object\n",
      " 3   quantity          48620 non-null  int64 \n",
      "dtypes: int64(3), object(1)\n",
      "memory usage: 1.5+ MB\n"
     ]
    }
   ],
   "source": [
    "order_details_df.info()"
   ]
  },
  {
   "cell_type": "code",
   "execution_count": 44,
   "id": "4348c07a",
   "metadata": {},
   "outputs": [
    {
     "data": {
      "text/plain": [
       "order_details_id    0\n",
       "order_id            0\n",
       "pizza_id            0\n",
       "quantity            0\n",
       "dtype: int64"
      ]
     },
     "execution_count": 44,
     "metadata": {},
     "output_type": "execute_result"
    }
   ],
   "source": [
    "# Check for null values\n",
    "order_details_df.isnull().sum()"
   ]
  },
  {
   "cell_type": "code",
   "execution_count": 45,
   "id": "6cb56eba",
   "metadata": {},
   "outputs": [
    {
     "data": {
      "text/plain": [
       "False    48620\n",
       "dtype: int64"
      ]
     },
     "execution_count": 45,
     "metadata": {},
     "output_type": "execute_result"
    }
   ],
   "source": [
    "# Check for duplicates\n",
    "order_details_df.duplicated().value_counts()"
   ]
  },
  {
   "cell_type": "code",
   "execution_count": 46,
   "id": "ced71710",
   "metadata": {},
   "outputs": [
    {
     "data": {
      "text/html": [
       "<div>\n",
       "<style scoped>\n",
       "    .dataframe tbody tr th:only-of-type {\n",
       "        vertical-align: middle;\n",
       "    }\n",
       "\n",
       "    .dataframe tbody tr th {\n",
       "        vertical-align: top;\n",
       "    }\n",
       "\n",
       "    .dataframe thead th {\n",
       "        text-align: right;\n",
       "    }\n",
       "</style>\n",
       "<table border=\"1\" class=\"dataframe\">\n",
       "  <thead>\n",
       "    <tr style=\"text-align: right;\">\n",
       "      <th></th>\n",
       "      <th>order_details_id</th>\n",
       "      <th>order_id</th>\n",
       "      <th>pizza_id</th>\n",
       "      <th>quantity</th>\n",
       "    </tr>\n",
       "  </thead>\n",
       "  <tbody>\n",
       "    <tr>\n",
       "      <th>26274</th>\n",
       "      <td>26275</td>\n",
       "      <td>11568</td>\n",
       "      <td>sicilian_m</td>\n",
       "      <td>1</td>\n",
       "    </tr>\n",
       "    <tr>\n",
       "      <th>16417</th>\n",
       "      <td>16418</td>\n",
       "      <td>7228</td>\n",
       "      <td>pep_msh_pep_s</td>\n",
       "      <td>1</td>\n",
       "    </tr>\n",
       "    <tr>\n",
       "      <th>36807</th>\n",
       "      <td>36808</td>\n",
       "      <td>16242</td>\n",
       "      <td>mediterraneo_s</td>\n",
       "      <td>1</td>\n",
       "    </tr>\n",
       "    <tr>\n",
       "      <th>42528</th>\n",
       "      <td>42529</td>\n",
       "      <td>18707</td>\n",
       "      <td>calabrese_m</td>\n",
       "      <td>1</td>\n",
       "    </tr>\n",
       "    <tr>\n",
       "      <th>10057</th>\n",
       "      <td>10058</td>\n",
       "      <td>4401</td>\n",
       "      <td>thai_ckn_l</td>\n",
       "      <td>1</td>\n",
       "    </tr>\n",
       "  </tbody>\n",
       "</table>\n",
       "</div>"
      ],
      "text/plain": [
       "       order_details_id  order_id        pizza_id  quantity\n",
       "26274             26275     11568      sicilian_m         1\n",
       "16417             16418      7228   pep_msh_pep_s         1\n",
       "36807             36808     16242  mediterraneo_s         1\n",
       "42528             42529     18707     calabrese_m         1\n",
       "10057             10058      4401      thai_ckn_l         1"
      ]
     },
     "execution_count": 46,
     "metadata": {},
     "output_type": "execute_result"
    }
   ],
   "source": [
    "order_details_df.sample(5)"
   ]
  },
  {
   "cell_type": "code",
   "execution_count": 47,
   "id": "5d648179",
   "metadata": {},
   "outputs": [
    {
     "data": {
      "text/plain": [
       "49574"
      ]
     },
     "execution_count": 47,
     "metadata": {},
     "output_type": "execute_result"
    }
   ],
   "source": [
    "# Total pizzas sold in the store\n",
    "order_details_df['quantity'].sum()"
   ]
  },
  {
   "cell_type": "markdown",
   "id": "30abfc75",
   "metadata": {},
   "source": [
    "### Step 6: Join the data frames"
   ]
  },
  {
   "cell_type": "code",
   "execution_count": 48,
   "id": "db47b388",
   "metadata": {},
   "outputs": [
    {
     "data": {
      "text/html": [
       "<div>\n",
       "<style scoped>\n",
       "    .dataframe tbody tr th:only-of-type {\n",
       "        vertical-align: middle;\n",
       "    }\n",
       "\n",
       "    .dataframe tbody tr th {\n",
       "        vertical-align: top;\n",
       "    }\n",
       "\n",
       "    .dataframe thead th {\n",
       "        text-align: right;\n",
       "    }\n",
       "</style>\n",
       "<table border=\"1\" class=\"dataframe\">\n",
       "  <thead>\n",
       "    <tr style=\"text-align: right;\">\n",
       "      <th></th>\n",
       "      <th>order_id</th>\n",
       "      <th>order_date_time</th>\n",
       "      <th>order_date</th>\n",
       "      <th>order_hour</th>\n",
       "      <th>order_day</th>\n",
       "      <th>order_month</th>\n",
       "      <th>order_details_id</th>\n",
       "      <th>pizza_id</th>\n",
       "      <th>quantity</th>\n",
       "      <th>pizza_type_id</th>\n",
       "      <th>size</th>\n",
       "      <th>price</th>\n",
       "      <th>name</th>\n",
       "      <th>category</th>\n",
       "      <th>ingredients</th>\n",
       "    </tr>\n",
       "  </thead>\n",
       "  <tbody>\n",
       "    <tr>\n",
       "      <th>0</th>\n",
       "      <td>1</td>\n",
       "      <td>2015-01-01 11:38:36</td>\n",
       "      <td>2015-01-01</td>\n",
       "      <td>11</td>\n",
       "      <td>Thursday</td>\n",
       "      <td>January</td>\n",
       "      <td>1</td>\n",
       "      <td>hawaiian_m</td>\n",
       "      <td>1</td>\n",
       "      <td>hawaiian</td>\n",
       "      <td>M</td>\n",
       "      <td>13.25</td>\n",
       "      <td>The Hawaiian Pizza</td>\n",
       "      <td>Classic</td>\n",
       "      <td>Sliced Ham, Pineapple, Mozzarella Cheese</td>\n",
       "    </tr>\n",
       "    <tr>\n",
       "      <th>1</th>\n",
       "      <td>77</td>\n",
       "      <td>2015-01-02 12:22:46</td>\n",
       "      <td>2015-01-02</td>\n",
       "      <td>12</td>\n",
       "      <td>Friday</td>\n",
       "      <td>January</td>\n",
       "      <td>179</td>\n",
       "      <td>hawaiian_m</td>\n",
       "      <td>1</td>\n",
       "      <td>hawaiian</td>\n",
       "      <td>M</td>\n",
       "      <td>13.25</td>\n",
       "      <td>The Hawaiian Pizza</td>\n",
       "      <td>Classic</td>\n",
       "      <td>Sliced Ham, Pineapple, Mozzarella Cheese</td>\n",
       "    </tr>\n",
       "    <tr>\n",
       "      <th>2</th>\n",
       "      <td>146</td>\n",
       "      <td>2015-01-03 14:22:10</td>\n",
       "      <td>2015-01-03</td>\n",
       "      <td>14</td>\n",
       "      <td>Saturday</td>\n",
       "      <td>January</td>\n",
       "      <td>357</td>\n",
       "      <td>hawaiian_m</td>\n",
       "      <td>1</td>\n",
       "      <td>hawaiian</td>\n",
       "      <td>M</td>\n",
       "      <td>13.25</td>\n",
       "      <td>The Hawaiian Pizza</td>\n",
       "      <td>Classic</td>\n",
       "      <td>Sliced Ham, Pineapple, Mozzarella Cheese</td>\n",
       "    </tr>\n",
       "    <tr>\n",
       "      <th>3</th>\n",
       "      <td>163</td>\n",
       "      <td>2015-01-03 16:54:54</td>\n",
       "      <td>2015-01-03</td>\n",
       "      <td>16</td>\n",
       "      <td>Saturday</td>\n",
       "      <td>January</td>\n",
       "      <td>389</td>\n",
       "      <td>hawaiian_m</td>\n",
       "      <td>1</td>\n",
       "      <td>hawaiian</td>\n",
       "      <td>M</td>\n",
       "      <td>13.25</td>\n",
       "      <td>The Hawaiian Pizza</td>\n",
       "      <td>Classic</td>\n",
       "      <td>Sliced Ham, Pineapple, Mozzarella Cheese</td>\n",
       "    </tr>\n",
       "    <tr>\n",
       "      <th>4</th>\n",
       "      <td>247</td>\n",
       "      <td>2015-01-04 20:55:29</td>\n",
       "      <td>2015-01-04</td>\n",
       "      <td>20</td>\n",
       "      <td>Sunday</td>\n",
       "      <td>January</td>\n",
       "      <td>568</td>\n",
       "      <td>hawaiian_m</td>\n",
       "      <td>1</td>\n",
       "      <td>hawaiian</td>\n",
       "      <td>M</td>\n",
       "      <td>13.25</td>\n",
       "      <td>The Hawaiian Pizza</td>\n",
       "      <td>Classic</td>\n",
       "      <td>Sliced Ham, Pineapple, Mozzarella Cheese</td>\n",
       "    </tr>\n",
       "    <tr>\n",
       "      <th>5</th>\n",
       "      <td>314</td>\n",
       "      <td>2015-01-06 12:11:58</td>\n",
       "      <td>2015-01-06</td>\n",
       "      <td>12</td>\n",
       "      <td>Tuesday</td>\n",
       "      <td>January</td>\n",
       "      <td>716</td>\n",
       "      <td>hawaiian_m</td>\n",
       "      <td>1</td>\n",
       "      <td>hawaiian</td>\n",
       "      <td>M</td>\n",
       "      <td>13.25</td>\n",
       "      <td>The Hawaiian Pizza</td>\n",
       "      <td>Classic</td>\n",
       "      <td>Sliced Ham, Pineapple, Mozzarella Cheese</td>\n",
       "    </tr>\n",
       "    <tr>\n",
       "      <th>6</th>\n",
       "      <td>351</td>\n",
       "      <td>2015-01-06 17:37:29</td>\n",
       "      <td>2015-01-06</td>\n",
       "      <td>17</td>\n",
       "      <td>Tuesday</td>\n",
       "      <td>January</td>\n",
       "      <td>806</td>\n",
       "      <td>hawaiian_m</td>\n",
       "      <td>1</td>\n",
       "      <td>hawaiian</td>\n",
       "      <td>M</td>\n",
       "      <td>13.25</td>\n",
       "      <td>The Hawaiian Pizza</td>\n",
       "      <td>Classic</td>\n",
       "      <td>Sliced Ham, Pineapple, Mozzarella Cheese</td>\n",
       "    </tr>\n",
       "    <tr>\n",
       "      <th>7</th>\n",
       "      <td>377</td>\n",
       "      <td>2015-01-07 12:03:18</td>\n",
       "      <td>2015-01-07</td>\n",
       "      <td>12</td>\n",
       "      <td>Wednesday</td>\n",
       "      <td>January</td>\n",
       "      <td>856</td>\n",
       "      <td>hawaiian_m</td>\n",
       "      <td>1</td>\n",
       "      <td>hawaiian</td>\n",
       "      <td>M</td>\n",
       "      <td>13.25</td>\n",
       "      <td>The Hawaiian Pizza</td>\n",
       "      <td>Classic</td>\n",
       "      <td>Sliced Ham, Pineapple, Mozzarella Cheese</td>\n",
       "    </tr>\n",
       "    <tr>\n",
       "      <th>8</th>\n",
       "      <td>558</td>\n",
       "      <td>2015-01-09 20:51:10</td>\n",
       "      <td>2015-01-09</td>\n",
       "      <td>20</td>\n",
       "      <td>Friday</td>\n",
       "      <td>January</td>\n",
       "      <td>1263</td>\n",
       "      <td>hawaiian_m</td>\n",
       "      <td>1</td>\n",
       "      <td>hawaiian</td>\n",
       "      <td>M</td>\n",
       "      <td>13.25</td>\n",
       "      <td>The Hawaiian Pizza</td>\n",
       "      <td>Classic</td>\n",
       "      <td>Sliced Ham, Pineapple, Mozzarella Cheese</td>\n",
       "    </tr>\n",
       "    <tr>\n",
       "      <th>9</th>\n",
       "      <td>580</td>\n",
       "      <td>2015-01-10 13:56:01</td>\n",
       "      <td>2015-01-10</td>\n",
       "      <td>13</td>\n",
       "      <td>Saturday</td>\n",
       "      <td>January</td>\n",
       "      <td>1312</td>\n",
       "      <td>hawaiian_m</td>\n",
       "      <td>1</td>\n",
       "      <td>hawaiian</td>\n",
       "      <td>M</td>\n",
       "      <td>13.25</td>\n",
       "      <td>The Hawaiian Pizza</td>\n",
       "      <td>Classic</td>\n",
       "      <td>Sliced Ham, Pineapple, Mozzarella Cheese</td>\n",
       "    </tr>\n",
       "  </tbody>\n",
       "</table>\n",
       "</div>"
      ],
      "text/plain": [
       "   order_id     order_date_time order_date  order_hour  order_day order_month  \\\n",
       "0         1 2015-01-01 11:38:36 2015-01-01          11   Thursday     January   \n",
       "1        77 2015-01-02 12:22:46 2015-01-02          12     Friday     January   \n",
       "2       146 2015-01-03 14:22:10 2015-01-03          14   Saturday     January   \n",
       "3       163 2015-01-03 16:54:54 2015-01-03          16   Saturday     January   \n",
       "4       247 2015-01-04 20:55:29 2015-01-04          20     Sunday     January   \n",
       "5       314 2015-01-06 12:11:58 2015-01-06          12    Tuesday     January   \n",
       "6       351 2015-01-06 17:37:29 2015-01-06          17    Tuesday     January   \n",
       "7       377 2015-01-07 12:03:18 2015-01-07          12  Wednesday     January   \n",
       "8       558 2015-01-09 20:51:10 2015-01-09          20     Friday     January   \n",
       "9       580 2015-01-10 13:56:01 2015-01-10          13   Saturday     January   \n",
       "\n",
       "   order_details_id    pizza_id  quantity pizza_type_id size  price  \\\n",
       "0                 1  hawaiian_m         1      hawaiian    M  13.25   \n",
       "1               179  hawaiian_m         1      hawaiian    M  13.25   \n",
       "2               357  hawaiian_m         1      hawaiian    M  13.25   \n",
       "3               389  hawaiian_m         1      hawaiian    M  13.25   \n",
       "4               568  hawaiian_m         1      hawaiian    M  13.25   \n",
       "5               716  hawaiian_m         1      hawaiian    M  13.25   \n",
       "6               806  hawaiian_m         1      hawaiian    M  13.25   \n",
       "7               856  hawaiian_m         1      hawaiian    M  13.25   \n",
       "8              1263  hawaiian_m         1      hawaiian    M  13.25   \n",
       "9              1312  hawaiian_m         1      hawaiian    M  13.25   \n",
       "\n",
       "                 name category                               ingredients  \n",
       "0  The Hawaiian Pizza  Classic  Sliced Ham, Pineapple, Mozzarella Cheese  \n",
       "1  The Hawaiian Pizza  Classic  Sliced Ham, Pineapple, Mozzarella Cheese  \n",
       "2  The Hawaiian Pizza  Classic  Sliced Ham, Pineapple, Mozzarella Cheese  \n",
       "3  The Hawaiian Pizza  Classic  Sliced Ham, Pineapple, Mozzarella Cheese  \n",
       "4  The Hawaiian Pizza  Classic  Sliced Ham, Pineapple, Mozzarella Cheese  \n",
       "5  The Hawaiian Pizza  Classic  Sliced Ham, Pineapple, Mozzarella Cheese  \n",
       "6  The Hawaiian Pizza  Classic  Sliced Ham, Pineapple, Mozzarella Cheese  \n",
       "7  The Hawaiian Pizza  Classic  Sliced Ham, Pineapple, Mozzarella Cheese  \n",
       "8  The Hawaiian Pizza  Classic  Sliced Ham, Pineapple, Mozzarella Cheese  \n",
       "9  The Hawaiian Pizza  Classic  Sliced Ham, Pineapple, Mozzarella Cheese  "
      ]
     },
     "execution_count": 48,
     "metadata": {},
     "output_type": "execute_result"
    }
   ],
   "source": [
    "sales_order_df = (new_orders_df\n",
    "                  .merge(order_details_df, how='inner', on=['order_id'])\n",
    "                  .merge(pizzas_df, how='inner', on=['pizza_id'])\n",
    "                  .merge(pizza_types_df, how='inner', on=['pizza_type_id'])\n",
    "                 )\n",
    "\n",
    "sales_order_df.head(10)"
   ]
  },
  {
   "cell_type": "markdown",
   "id": "4358369e",
   "metadata": {},
   "source": [
    "### Step 7: Data Analysis\n",
    "- How many pizzas are typically in an order? Do we have any bestsellers?\n",
    "- How much money did we make this year? Can we identify any seasonality in the sales?\n",
    "- Are there any pizzas we should take of the menu, or any promotions we could leverage?"
   ]
  },
  {
   "cell_type": "code",
   "execution_count": 51,
   "id": "16b221a6",
   "metadata": {},
   "outputs": [
    {
     "data": {
      "text/plain": [
       "[<matplotlib.lines.Line2D at 0x7fbb1f8d3950>]"
      ]
     },
     "execution_count": 51,
     "metadata": {},
     "output_type": "execute_result"
    },
    {
     "data": {
      "image/png": "[encoded data removed]",
      "text/plain": [
       "<Figure size 3200x800 with 1 Axes>"
      ]
     },
     "metadata": {},
     "output_type": "display_data"
    }
   ],
   "source": [
    "# Plot the sales per date in the year\n",
    "order_groups_by_day_df = sales_order_df.groupby('order_date')['price'].sum().reset_index()\n",
    "plt.figure(figsize=(32, 8))\n",
    "plt.plot(order_groups_by_day_df['price'])\n"
   ]
  },
  {
   "cell_type": "code",
   "execution_count": null,
   "id": "65b549db",
   "metadata": {},
   "outputs": [],
   "source": []
  }
 ],
 "metadata": {
  "kernelspec": {
   "display_name": "mlenv",
   "language": "python",
   "name": "mlenv"
  },
  "language_info": {
   "codemirror_mode": {
    "name": "ipython",
    "version": 3
   },
   "file_extension": ".py",
   "mimetype": "text/x-python",
   "name": "python",
   "nbconvert_exporter": "python",
   "pygments_lexer": "ipython3",
   "version": "3.7.13"
  }
 },
 "nbformat": 4,
 "nbformat_minor": 5
}
