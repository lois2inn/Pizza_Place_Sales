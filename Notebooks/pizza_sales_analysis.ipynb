{
 "cells": [
  {
   "cell_type": "code",
   "execution_count": 1,
   "id": "82399326",
   "metadata": {},
   "outputs": [],
   "source": [
    "# Import dependencies\n",
    "import numpy as np\n",
    "import pandas as pd\n",
    "import os\n",
    "\n",
    "import seaborn as sns \n",
    "import matplotlib.pyplot as plt"
   ]
  },
  {
   "cell_type": "code",
   "execution_count": 2,
   "id": "4b2cdfb7",
   "metadata": {},
   "outputs": [
    {
     "data": {
      "text/plain": [
       "<contextlib._GeneratorContextManager at 0x7fdd5fecce50>"
      ]
     },
     "execution_count": 2,
     "metadata": {},
     "output_type": "execute_result"
    }
   ],
   "source": [
    "# Set the stylesheets for plots\n",
    "plt.style.use('ggplot')\n",
    "plt.style.context('grayscale')"
   ]
  },
  {
   "cell_type": "markdown",
   "id": "268f282b",
   "metadata": {},
   "source": [
    "### Step 1: Load CSV files into Pandas dataframes"
   ]
  },
  {
   "cell_type": "code",
   "execution_count": 3,
   "id": "4f3eb758",
   "metadata": {},
   "outputs": [],
   "source": [
    "# Files to load\n",
    "orders_to_load = os.path.join(\"..\",\"Resources\",\"orders.csv\")\n",
    "pizza_types_to_load = os.path.join(\"..\",\"Resources\",\"pizza_types.csv\")\n",
    "pizzas_to_load = os.path.join(\"..\",\"Resources\",\"pizzas.csv\")\n",
    "order_details_to_load = os.path.join(\"..\",\"Resources\",\"order_details.csv\")"
   ]
  },
  {
   "cell_type": "code",
   "execution_count": 4,
   "id": "ae97857e",
   "metadata": {},
   "outputs": [],
   "source": [
    "# Read the data into pandas dataframe\n",
    "orders_df = pd.read_csv(orders_to_load)\n",
    "pizza_types_df = pd.read_csv(pizza_types_to_load)\n",
    "pizzas_df = pd.read_csv(pizzas_to_load)\n",
    "order_details_df = pd.read_csv(order_details_to_load)"
   ]
  },
  {
   "cell_type": "markdown",
   "id": "a28c1c35",
   "metadata": {},
   "source": [
    "### Step 2: Inspect orders data"
   ]
  },
  {
   "cell_type": "code",
   "execution_count": 5,
   "id": "824fd57a",
   "metadata": {},
   "outputs": [
    {
     "name": "stdout",
     "output_type": "stream",
     "text": [
      "<class 'pandas.core.frame.DataFrame'>\n",
      "RangeIndex: 21350 entries, 0 to 21349\n",
      "Data columns (total 3 columns):\n",
      " #   Column    Non-Null Count  Dtype \n",
      "---  ------    --------------  ----- \n",
      " 0   order_id  21350 non-null  int64 \n",
      " 1   date      21350 non-null  object\n",
      " 2   time      21350 non-null  object\n",
      "dtypes: int64(1), object(2)\n",
      "memory usage: 500.5+ KB\n"
     ]
    }
   ],
   "source": [
    "# dataframe info\n",
    "orders_df.info()"
   ]
  },
  {
   "cell_type": "code",
   "execution_count": 6,
   "id": "c29780a9",
   "metadata": {},
   "outputs": [
    {
     "data": {
      "text/plain": [
       "order_id    0\n",
       "date        0\n",
       "time        0\n",
       "dtype: int64"
      ]
     },
     "execution_count": 6,
     "metadata": {},
     "output_type": "execute_result"
    }
   ],
   "source": [
    "# Check for null values\n",
    "orders_df.isnull().sum()"
   ]
  },
  {
   "cell_type": "code",
   "execution_count": 7,
   "id": "bc8f84c0",
   "metadata": {},
   "outputs": [
    {
     "data": {
      "text/plain": [
       "False    21350\n",
       "dtype: int64"
      ]
     },
     "execution_count": 7,
     "metadata": {},
     "output_type": "execute_result"
    }
   ],
   "source": [
    "# Check for duplicate values\n",
    "orders_df.duplicated().value_counts()"
   ]
  },
  {
   "cell_type": "code",
   "execution_count": 8,
   "id": "ac8b312b",
   "metadata": {},
   "outputs": [
    {
     "data": {
      "text/plain": [
       "order_id     int64\n",
       "date        object\n",
       "time        object\n",
       "dtype: object"
      ]
     },
     "execution_count": 8,
     "metadata": {},
     "output_type": "execute_result"
    }
   ],
   "source": [
    "# Datatypes\n",
    "orders_df.dtypes"
   ]
  },
  {
   "cell_type": "markdown",
   "id": "88ba26e7",
   "metadata": {},
   "source": [
    "#### Add required columns to a new orders dataframe"
   ]
  },
  {
   "cell_type": "code",
   "execution_count": 9,
   "id": "78835001",
   "metadata": {},
   "outputs": [
    {
     "data": {
      "text/html": [
       "<div>\n",
       "<style scoped>\n",
       "    .dataframe tbody tr th:only-of-type {\n",
       "        vertical-align: middle;\n",
       "    }\n",
       "\n",
       "    .dataframe tbody tr th {\n",
       "        vertical-align: top;\n",
       "    }\n",
       "\n",
       "    .dataframe thead th {\n",
       "        text-align: right;\n",
       "    }\n",
       "</style>\n",
       "<table border=\"1\" class=\"dataframe\">\n",
       "  <thead>\n",
       "    <tr style=\"text-align: right;\">\n",
       "      <th></th>\n",
       "      <th>order_id</th>\n",
       "      <th>date</th>\n",
       "      <th>time</th>\n",
       "      <th>date_time</th>\n",
       "    </tr>\n",
       "  </thead>\n",
       "  <tbody>\n",
       "    <tr>\n",
       "      <th>0</th>\n",
       "      <td>1</td>\n",
       "      <td>2015-01-01</td>\n",
       "      <td>11:38:36</td>\n",
       "      <td>2015-01-01 11:38:36</td>\n",
       "    </tr>\n",
       "    <tr>\n",
       "      <th>1</th>\n",
       "      <td>2</td>\n",
       "      <td>2015-01-01</td>\n",
       "      <td>11:57:40</td>\n",
       "      <td>2015-01-01 11:57:40</td>\n",
       "    </tr>\n",
       "    <tr>\n",
       "      <th>2</th>\n",
       "      <td>3</td>\n",
       "      <td>2015-01-01</td>\n",
       "      <td>12:12:28</td>\n",
       "      <td>2015-01-01 12:12:28</td>\n",
       "    </tr>\n",
       "    <tr>\n",
       "      <th>3</th>\n",
       "      <td>4</td>\n",
       "      <td>2015-01-01</td>\n",
       "      <td>12:16:31</td>\n",
       "      <td>2015-01-01 12:16:31</td>\n",
       "    </tr>\n",
       "    <tr>\n",
       "      <th>4</th>\n",
       "      <td>5</td>\n",
       "      <td>2015-01-01</td>\n",
       "      <td>12:21:30</td>\n",
       "      <td>2015-01-01 12:21:30</td>\n",
       "    </tr>\n",
       "    <tr>\n",
       "      <th>...</th>\n",
       "      <td>...</td>\n",
       "      <td>...</td>\n",
       "      <td>...</td>\n",
       "      <td>...</td>\n",
       "    </tr>\n",
       "    <tr>\n",
       "      <th>21345</th>\n",
       "      <td>21346</td>\n",
       "      <td>2015-12-31</td>\n",
       "      <td>20:51:07</td>\n",
       "      <td>2015-12-31 20:51:07</td>\n",
       "    </tr>\n",
       "    <tr>\n",
       "      <th>21346</th>\n",
       "      <td>21347</td>\n",
       "      <td>2015-12-31</td>\n",
       "      <td>21:14:37</td>\n",
       "      <td>2015-12-31 21:14:37</td>\n",
       "    </tr>\n",
       "    <tr>\n",
       "      <th>21347</th>\n",
       "      <td>21348</td>\n",
       "      <td>2015-12-31</td>\n",
       "      <td>21:23:10</td>\n",
       "      <td>2015-12-31 21:23:10</td>\n",
       "    </tr>\n",
       "    <tr>\n",
       "      <th>21348</th>\n",
       "      <td>21349</td>\n",
       "      <td>2015-12-31</td>\n",
       "      <td>22:09:54</td>\n",
       "      <td>2015-12-31 22:09:54</td>\n",
       "    </tr>\n",
       "    <tr>\n",
       "      <th>21349</th>\n",
       "      <td>21350</td>\n",
       "      <td>2015-12-31</td>\n",
       "      <td>23:02:05</td>\n",
       "      <td>2015-12-31 23:02:05</td>\n",
       "    </tr>\n",
       "  </tbody>\n",
       "</table>\n",
       "<p>21350 rows × 4 columns</p>\n",
       "</div>"
      ],
      "text/plain": [
       "       order_id        date      time            date_time\n",
       "0             1  2015-01-01  11:38:36  2015-01-01 11:38:36\n",
       "1             2  2015-01-01  11:57:40  2015-01-01 11:57:40\n",
       "2             3  2015-01-01  12:12:28  2015-01-01 12:12:28\n",
       "3             4  2015-01-01  12:16:31  2015-01-01 12:16:31\n",
       "4             5  2015-01-01  12:21:30  2015-01-01 12:21:30\n",
       "...         ...         ...       ...                  ...\n",
       "21345     21346  2015-12-31  20:51:07  2015-12-31 20:51:07\n",
       "21346     21347  2015-12-31  21:14:37  2015-12-31 21:14:37\n",
       "21347     21348  2015-12-31  21:23:10  2015-12-31 21:23:10\n",
       "21348     21349  2015-12-31  22:09:54  2015-12-31 22:09:54\n",
       "21349     21350  2015-12-31  23:02:05  2015-12-31 23:02:05\n",
       "\n",
       "[21350 rows x 4 columns]"
      ]
     },
     "execution_count": 9,
     "metadata": {},
     "output_type": "execute_result"
    }
   ],
   "source": [
    "# Concatenate date and time to a single column\n",
    "new_orders_df = orders_df.copy()\n",
    "new_orders_df['date_time'] = new_orders_df['date'] + \" \" + new_orders_df[\"time\"]\n",
    "new_orders_df"
   ]
  },
  {
   "cell_type": "code",
   "execution_count": 10,
   "id": "8bee3a4e",
   "metadata": {},
   "outputs": [
    {
     "data": {
      "text/html": [
       "<div>\n",
       "<style scoped>\n",
       "    .dataframe tbody tr th:only-of-type {\n",
       "        vertical-align: middle;\n",
       "    }\n",
       "\n",
       "    .dataframe tbody tr th {\n",
       "        vertical-align: top;\n",
       "    }\n",
       "\n",
       "    .dataframe thead th {\n",
       "        text-align: right;\n",
       "    }\n",
       "</style>\n",
       "<table border=\"1\" class=\"dataframe\">\n",
       "  <thead>\n",
       "    <tr style=\"text-align: right;\">\n",
       "      <th></th>\n",
       "      <th>order_id</th>\n",
       "      <th>date</th>\n",
       "      <th>time</th>\n",
       "      <th>date_time</th>\n",
       "      <th>order_date_time</th>\n",
       "      <th>order_date</th>\n",
       "      <th>order_hour</th>\n",
       "      <th>order_day</th>\n",
       "      <th>order_month</th>\n",
       "    </tr>\n",
       "  </thead>\n",
       "  <tbody>\n",
       "    <tr>\n",
       "      <th>0</th>\n",
       "      <td>1</td>\n",
       "      <td>2015-01-01</td>\n",
       "      <td>11:38:36</td>\n",
       "      <td>2015-01-01 11:38:36</td>\n",
       "      <td>2015-01-01 11:38:36</td>\n",
       "      <td>2015-01-01</td>\n",
       "      <td>11</td>\n",
       "      <td>Thursday</td>\n",
       "      <td>January</td>\n",
       "    </tr>\n",
       "    <tr>\n",
       "      <th>1</th>\n",
       "      <td>2</td>\n",
       "      <td>2015-01-01</td>\n",
       "      <td>11:57:40</td>\n",
       "      <td>2015-01-01 11:57:40</td>\n",
       "      <td>2015-01-01 11:57:40</td>\n",
       "      <td>2015-01-01</td>\n",
       "      <td>11</td>\n",
       "      <td>Thursday</td>\n",
       "      <td>January</td>\n",
       "    </tr>\n",
       "    <tr>\n",
       "      <th>2</th>\n",
       "      <td>3</td>\n",
       "      <td>2015-01-01</td>\n",
       "      <td>12:12:28</td>\n",
       "      <td>2015-01-01 12:12:28</td>\n",
       "      <td>2015-01-01 12:12:28</td>\n",
       "      <td>2015-01-01</td>\n",
       "      <td>12</td>\n",
       "      <td>Thursday</td>\n",
       "      <td>January</td>\n",
       "    </tr>\n",
       "    <tr>\n",
       "      <th>3</th>\n",
       "      <td>4</td>\n",
       "      <td>2015-01-01</td>\n",
       "      <td>12:16:31</td>\n",
       "      <td>2015-01-01 12:16:31</td>\n",
       "      <td>2015-01-01 12:16:31</td>\n",
       "      <td>2015-01-01</td>\n",
       "      <td>12</td>\n",
       "      <td>Thursday</td>\n",
       "      <td>January</td>\n",
       "    </tr>\n",
       "    <tr>\n",
       "      <th>4</th>\n",
       "      <td>5</td>\n",
       "      <td>2015-01-01</td>\n",
       "      <td>12:21:30</td>\n",
       "      <td>2015-01-01 12:21:30</td>\n",
       "      <td>2015-01-01 12:21:30</td>\n",
       "      <td>2015-01-01</td>\n",
       "      <td>12</td>\n",
       "      <td>Thursday</td>\n",
       "      <td>January</td>\n",
       "    </tr>\n",
       "    <tr>\n",
       "      <th>...</th>\n",
       "      <td>...</td>\n",
       "      <td>...</td>\n",
       "      <td>...</td>\n",
       "      <td>...</td>\n",
       "      <td>...</td>\n",
       "      <td>...</td>\n",
       "      <td>...</td>\n",
       "      <td>...</td>\n",
       "      <td>...</td>\n",
       "    </tr>\n",
       "    <tr>\n",
       "      <th>21345</th>\n",
       "      <td>21346</td>\n",
       "      <td>2015-12-31</td>\n",
       "      <td>20:51:07</td>\n",
       "      <td>2015-12-31 20:51:07</td>\n",
       "      <td>2015-12-31 20:51:07</td>\n",
       "      <td>2015-12-31</td>\n",
       "      <td>20</td>\n",
       "      <td>Thursday</td>\n",
       "      <td>December</td>\n",
       "    </tr>\n",
       "    <tr>\n",
       "      <th>21346</th>\n",
       "      <td>21347</td>\n",
       "      <td>2015-12-31</td>\n",
       "      <td>21:14:37</td>\n",
       "      <td>2015-12-31 21:14:37</td>\n",
       "      <td>2015-12-31 21:14:37</td>\n",
       "      <td>2015-12-31</td>\n",
       "      <td>21</td>\n",
       "      <td>Thursday</td>\n",
       "      <td>December</td>\n",
       "    </tr>\n",
       "    <tr>\n",
       "      <th>21347</th>\n",
       "      <td>21348</td>\n",
       "      <td>2015-12-31</td>\n",
       "      <td>21:23:10</td>\n",
       "      <td>2015-12-31 21:23:10</td>\n",
       "      <td>2015-12-31 21:23:10</td>\n",
       "      <td>2015-12-31</td>\n",
       "      <td>21</td>\n",
       "      <td>Thursday</td>\n",
       "      <td>December</td>\n",
       "    </tr>\n",
       "    <tr>\n",
       "      <th>21348</th>\n",
       "      <td>21349</td>\n",
       "      <td>2015-12-31</td>\n",
       "      <td>22:09:54</td>\n",
       "      <td>2015-12-31 22:09:54</td>\n",
       "      <td>2015-12-31 22:09:54</td>\n",
       "      <td>2015-12-31</td>\n",
       "      <td>22</td>\n",
       "      <td>Thursday</td>\n",
       "      <td>December</td>\n",
       "    </tr>\n",
       "    <tr>\n",
       "      <th>21349</th>\n",
       "      <td>21350</td>\n",
       "      <td>2015-12-31</td>\n",
       "      <td>23:02:05</td>\n",
       "      <td>2015-12-31 23:02:05</td>\n",
       "      <td>2015-12-31 23:02:05</td>\n",
       "      <td>2015-12-31</td>\n",
       "      <td>23</td>\n",
       "      <td>Thursday</td>\n",
       "      <td>December</td>\n",
       "    </tr>\n",
       "  </tbody>\n",
       "</table>\n",
       "<p>21350 rows × 9 columns</p>\n",
       "</div>"
      ],
      "text/plain": [
       "       order_id        date      time            date_time  \\\n",
       "0             1  2015-01-01  11:38:36  2015-01-01 11:38:36   \n",
       "1             2  2015-01-01  11:57:40  2015-01-01 11:57:40   \n",
       "2             3  2015-01-01  12:12:28  2015-01-01 12:12:28   \n",
       "3             4  2015-01-01  12:16:31  2015-01-01 12:16:31   \n",
       "4             5  2015-01-01  12:21:30  2015-01-01 12:21:30   \n",
       "...         ...         ...       ...                  ...   \n",
       "21345     21346  2015-12-31  20:51:07  2015-12-31 20:51:07   \n",
       "21346     21347  2015-12-31  21:14:37  2015-12-31 21:14:37   \n",
       "21347     21348  2015-12-31  21:23:10  2015-12-31 21:23:10   \n",
       "21348     21349  2015-12-31  22:09:54  2015-12-31 22:09:54   \n",
       "21349     21350  2015-12-31  23:02:05  2015-12-31 23:02:05   \n",
       "\n",
       "          order_date_time order_date  order_hour order_day order_month  \n",
       "0     2015-01-01 11:38:36 2015-01-01          11  Thursday     January  \n",
       "1     2015-01-01 11:57:40 2015-01-01          11  Thursday     January  \n",
       "2     2015-01-01 12:12:28 2015-01-01          12  Thursday     January  \n",
       "3     2015-01-01 12:16:31 2015-01-01          12  Thursday     January  \n",
       "4     2015-01-01 12:21:30 2015-01-01          12  Thursday     January  \n",
       "...                   ...        ...         ...       ...         ...  \n",
       "21345 2015-12-31 20:51:07 2015-12-31          20  Thursday    December  \n",
       "21346 2015-12-31 21:14:37 2015-12-31          21  Thursday    December  \n",
       "21347 2015-12-31 21:23:10 2015-12-31          21  Thursday    December  \n",
       "21348 2015-12-31 22:09:54 2015-12-31          22  Thursday    December  \n",
       "21349 2015-12-31 23:02:05 2015-12-31          23  Thursday    December  \n",
       "\n",
       "[21350 rows x 9 columns]"
      ]
     },
     "execution_count": 10,
     "metadata": {},
     "output_type": "execute_result"
    }
   ],
   "source": [
    "# Convert the order time in string format to datetime format\n",
    "new_orders_df['order_date_time'] = pd.to_datetime(new_orders_df['date_time'])\n",
    "\n",
    "# Convert the date in string format to datetime format\n",
    "new_orders_df['order_date'] = pd.to_datetime(new_orders_df['date'])\n",
    "\n",
    "# Extract hour from datetime\n",
    "new_orders_df['order_hour'] = new_orders_df['order_date_time'].dt.hour\n",
    "\n",
    "# Extract day from datetime\n",
    "new_orders_df['order_day'] = new_orders_df['order_date_time'].dt.day_name()\n",
    "\n",
    "# Extract name of month from datetime\n",
    "new_orders_df['order_month'] = new_orders_df['order_date_time'].dt.month_name()\n",
    "new_orders_df"
   ]
  },
  {
   "cell_type": "code",
   "execution_count": 11,
   "id": "a60d5731",
   "metadata": {},
   "outputs": [
    {
     "data": {
      "text/html": [
       "<div>\n",
       "<style scoped>\n",
       "    .dataframe tbody tr th:only-of-type {\n",
       "        vertical-align: middle;\n",
       "    }\n",
       "\n",
       "    .dataframe tbody tr th {\n",
       "        vertical-align: top;\n",
       "    }\n",
       "\n",
       "    .dataframe thead th {\n",
       "        text-align: right;\n",
       "    }\n",
       "</style>\n",
       "<table border=\"1\" class=\"dataframe\">\n",
       "  <thead>\n",
       "    <tr style=\"text-align: right;\">\n",
       "      <th></th>\n",
       "      <th>order_id</th>\n",
       "      <th>order_date_time</th>\n",
       "      <th>order_date</th>\n",
       "      <th>order_hour</th>\n",
       "      <th>order_day</th>\n",
       "      <th>order_month</th>\n",
       "    </tr>\n",
       "  </thead>\n",
       "  <tbody>\n",
       "    <tr>\n",
       "      <th>0</th>\n",
       "      <td>1</td>\n",
       "      <td>2015-01-01 11:38:36</td>\n",
       "      <td>2015-01-01</td>\n",
       "      <td>11</td>\n",
       "      <td>Thursday</td>\n",
       "      <td>January</td>\n",
       "    </tr>\n",
       "    <tr>\n",
       "      <th>1</th>\n",
       "      <td>2</td>\n",
       "      <td>2015-01-01 11:57:40</td>\n",
       "      <td>2015-01-01</td>\n",
       "      <td>11</td>\n",
       "      <td>Thursday</td>\n",
       "      <td>January</td>\n",
       "    </tr>\n",
       "    <tr>\n",
       "      <th>2</th>\n",
       "      <td>3</td>\n",
       "      <td>2015-01-01 12:12:28</td>\n",
       "      <td>2015-01-01</td>\n",
       "      <td>12</td>\n",
       "      <td>Thursday</td>\n",
       "      <td>January</td>\n",
       "    </tr>\n",
       "    <tr>\n",
       "      <th>3</th>\n",
       "      <td>4</td>\n",
       "      <td>2015-01-01 12:16:31</td>\n",
       "      <td>2015-01-01</td>\n",
       "      <td>12</td>\n",
       "      <td>Thursday</td>\n",
       "      <td>January</td>\n",
       "    </tr>\n",
       "    <tr>\n",
       "      <th>4</th>\n",
       "      <td>5</td>\n",
       "      <td>2015-01-01 12:21:30</td>\n",
       "      <td>2015-01-01</td>\n",
       "      <td>12</td>\n",
       "      <td>Thursday</td>\n",
       "      <td>January</td>\n",
       "    </tr>\n",
       "    <tr>\n",
       "      <th>...</th>\n",
       "      <td>...</td>\n",
       "      <td>...</td>\n",
       "      <td>...</td>\n",
       "      <td>...</td>\n",
       "      <td>...</td>\n",
       "      <td>...</td>\n",
       "    </tr>\n",
       "    <tr>\n",
       "      <th>21345</th>\n",
       "      <td>21346</td>\n",
       "      <td>2015-12-31 20:51:07</td>\n",
       "      <td>2015-12-31</td>\n",
       "      <td>20</td>\n",
       "      <td>Thursday</td>\n",
       "      <td>December</td>\n",
       "    </tr>\n",
       "    <tr>\n",
       "      <th>21346</th>\n",
       "      <td>21347</td>\n",
       "      <td>2015-12-31 21:14:37</td>\n",
       "      <td>2015-12-31</td>\n",
       "      <td>21</td>\n",
       "      <td>Thursday</td>\n",
       "      <td>December</td>\n",
       "    </tr>\n",
       "    <tr>\n",
       "      <th>21347</th>\n",
       "      <td>21348</td>\n",
       "      <td>2015-12-31 21:23:10</td>\n",
       "      <td>2015-12-31</td>\n",
       "      <td>21</td>\n",
       "      <td>Thursday</td>\n",
       "      <td>December</td>\n",
       "    </tr>\n",
       "    <tr>\n",
       "      <th>21348</th>\n",
       "      <td>21349</td>\n",
       "      <td>2015-12-31 22:09:54</td>\n",
       "      <td>2015-12-31</td>\n",
       "      <td>22</td>\n",
       "      <td>Thursday</td>\n",
       "      <td>December</td>\n",
       "    </tr>\n",
       "    <tr>\n",
       "      <th>21349</th>\n",
       "      <td>21350</td>\n",
       "      <td>2015-12-31 23:02:05</td>\n",
       "      <td>2015-12-31</td>\n",
       "      <td>23</td>\n",
       "      <td>Thursday</td>\n",
       "      <td>December</td>\n",
       "    </tr>\n",
       "  </tbody>\n",
       "</table>\n",
       "<p>21350 rows × 6 columns</p>\n",
       "</div>"
      ],
      "text/plain": [
       "       order_id     order_date_time order_date  order_hour order_day  \\\n",
       "0             1 2015-01-01 11:38:36 2015-01-01          11  Thursday   \n",
       "1             2 2015-01-01 11:57:40 2015-01-01          11  Thursday   \n",
       "2             3 2015-01-01 12:12:28 2015-01-01          12  Thursday   \n",
       "3             4 2015-01-01 12:16:31 2015-01-01          12  Thursday   \n",
       "4             5 2015-01-01 12:21:30 2015-01-01          12  Thursday   \n",
       "...         ...                 ...        ...         ...       ...   \n",
       "21345     21346 2015-12-31 20:51:07 2015-12-31          20  Thursday   \n",
       "21346     21347 2015-12-31 21:14:37 2015-12-31          21  Thursday   \n",
       "21347     21348 2015-12-31 21:23:10 2015-12-31          21  Thursday   \n",
       "21348     21349 2015-12-31 22:09:54 2015-12-31          22  Thursday   \n",
       "21349     21350 2015-12-31 23:02:05 2015-12-31          23  Thursday   \n",
       "\n",
       "      order_month  \n",
       "0         January  \n",
       "1         January  \n",
       "2         January  \n",
       "3         January  \n",
       "4         January  \n",
       "...           ...  \n",
       "21345    December  \n",
       "21346    December  \n",
       "21347    December  \n",
       "21348    December  \n",
       "21349    December  \n",
       "\n",
       "[21350 rows x 6 columns]"
      ]
     },
     "execution_count": 11,
     "metadata": {},
     "output_type": "execute_result"
    }
   ],
   "source": [
    "new_orders_df = new_orders_df.drop(['date','time','date_time'], axis=1)\n",
    "new_orders_df"
   ]
  },
  {
   "cell_type": "markdown",
   "id": "583ac67d",
   "metadata": {},
   "source": [
    "#### Order Summary"
   ]
  },
  {
   "cell_type": "code",
   "execution_count": 12,
   "id": "3b157550",
   "metadata": {},
   "outputs": [
    {
     "data": {
      "text/plain": [
       "358"
      ]
     },
     "execution_count": 12,
     "metadata": {},
     "output_type": "execute_result"
    }
   ],
   "source": [
    "# Get the total number of order days.\n",
    "len(new_orders_df[\"order_date\"].unique())"
   ]
  },
  {
   "cell_type": "code",
   "execution_count": 13,
   "id": "ac8305f7",
   "metadata": {},
   "outputs": [
    {
     "data": {
      "text/plain": [
       "21350"
      ]
     },
     "execution_count": 13,
     "metadata": {},
     "output_type": "execute_result"
    }
   ],
   "source": [
    "# Get the total number orders placed in the store.\n",
    "new_orders_df[\"order_id\"].count()"
   ]
  },
  {
   "cell_type": "code",
   "execution_count": 14,
   "id": "f6410ad1",
   "metadata": {},
   "outputs": [
    {
     "name": "stdout",
     "output_type": "stream",
     "text": [
      "Typical number of orders per day: 60\n"
     ]
    }
   ],
   "source": [
    "# The number of orders per day (rounded to nearest integer)\n",
    "print(f'Typical number of orders per day: {round(new_orders_df[\"order_id\"].count()/len(new_orders_df[\"order_date\"].unique()))}')"
   ]
  },
  {
   "cell_type": "code",
   "execution_count": 15,
   "id": "2aad7230",
   "metadata": {},
   "outputs": [
    {
     "data": {
      "text/plain": [
       "order_hour\n",
       "12    2520\n",
       "13    2455\n",
       "18    2399\n",
       "17    2336\n",
       "19    2009\n",
       "Name: order_id, dtype: int64"
      ]
     },
     "execution_count": 15,
     "metadata": {},
     "output_type": "execute_result"
    }
   ],
   "source": [
    "# Peak hours in the store\n",
    "peak_hours = new_orders_df.groupby(['order_hour']).count()[\"order_id\"]\n",
    "peak_hours.sort_values(ascending=False).head(5)"
   ]
  },
  {
   "cell_type": "code",
   "execution_count": 16,
   "id": "c7f2c1b4",
   "metadata": {},
   "outputs": [
    {
     "data": {
      "text/plain": [
       "Text(0.5, 1.0, 'Orders by Hour')"
      ]
     },
     "execution_count": 16,
     "metadata": {},
     "output_type": "execute_result"
    },
    {
     "data": {
      "image/png": "[encoded data removed]",
      "text/plain": [
       "<Figure size 640x480 with 1 Axes>"
      ]
     },
     "metadata": {},
     "output_type": "display_data"
    }
   ],
   "source": [
    "# Plot the peak hours in a day\n",
    "sns.countplot(data = new_orders_df.sort_values(\"order_hour\",ascending=True), x=\"order_hour\")\n",
    "plt.xlabel(\"Hours\",fontsize=8,color=\"black\")\n",
    "plt.ylabel(\"Orders\",fontsize= 8, color=\"black\")\n",
    "plt.title(\"Orders by Hour\")"
   ]
  },
  {
   "cell_type": "markdown",
   "id": "8295b48d",
   "metadata": {},
   "source": [
    "- **Noon and evening hours are the peak hours in this pizza store.**"
   ]
  },
  {
   "cell_type": "code",
   "execution_count": 17,
   "id": "fdd2b8e8",
   "metadata": {},
   "outputs": [
    {
     "data": {
      "text/plain": [
       "Friday       3538\n",
       "Monday       2794\n",
       "Saturday     3158\n",
       "Sunday       2624\n",
       "Thursday     3239\n",
       "Tuesday      2973\n",
       "Wednesday    3024\n",
       "Name: order_day, dtype: int64"
      ]
     },
     "execution_count": 17,
     "metadata": {},
     "output_type": "execute_result"
    }
   ],
   "source": [
    "# Busiest day of the week\n",
    "new_orders_df[\"order_day\"].value_counts().sort_index()"
   ]
  },
  {
   "cell_type": "code",
   "execution_count": 18,
   "id": "64b0a65d",
   "metadata": {},
   "outputs": [
    {
     "data": {
      "text/plain": [
       "(array([0, 1, 2, 3, 4, 5, 6]),\n",
       " [Text(0, 0, 'Thursday'),\n",
       "  Text(1, 0, 'Friday'),\n",
       "  Text(2, 0, 'Saturday'),\n",
       "  Text(3, 0, 'Sunday'),\n",
       "  Text(4, 0, 'Monday'),\n",
       "  Text(5, 0, 'Tuesday'),\n",
       "  Text(6, 0, 'Wednesday')])"
      ]
     },
     "execution_count": 18,
     "metadata": {},
     "output_type": "execute_result"
    },
    {
     "data": {
      "image/png": "[encoded data removed]",
      "text/plain": [
       "<Figure size 640x480 with 1 Axes>"
      ]
     },
     "metadata": {},
     "output_type": "display_data"
    }
   ],
   "source": [
    "# Plot the busiest days in a week\n",
    "sns.countplot(data=new_orders_df,x=\"order_day\")\n",
    "plt.xlabel(\"Day of Week\",fontsize=8,color=\"black\")\n",
    "plt.ylabel(\"Orders\",fontsize=8,color=\"black\")\n",
    "plt.title(\"Orders By Day\")\n",
    "plt.xticks(rotation=45)"
   ]
  },
  {
   "cell_type": "markdown",
   "id": "aa5a4da1",
   "metadata": {},
   "source": [
    "- **Friday is the busiest day of the week followed by Thursday.**"
   ]
  },
  {
   "cell_type": "code",
   "execution_count": 19,
   "id": "b17e065d",
   "metadata": {},
   "outputs": [
    {
     "data": {
      "text/plain": [
       "October      1646\n",
       "September    1661\n",
       "December     1680\n",
       "February     1685\n",
       "June         1773\n",
       "November     1792\n",
       "April        1799\n",
       "March        1840\n",
       "August       1841\n",
       "January      1845\n",
       "May          1853\n",
       "July         1935\n",
       "Name: order_month, dtype: int64"
      ]
     },
     "execution_count": 19,
     "metadata": {},
     "output_type": "execute_result"
    }
   ],
   "source": [
    "# Orders per month\n",
    "new_orders_df[\"order_month\"].value_counts().sort_values()"
   ]
  },
  {
   "cell_type": "code",
   "execution_count": 20,
   "id": "68622d0c",
   "metadata": {},
   "outputs": [
    {
     "data": {
      "text/plain": [
       "(array([ 0,  1,  2,  3,  4,  5,  6,  7,  8,  9, 10, 11]),\n",
       " [Text(0, 0, 'January'),\n",
       "  Text(1, 0, 'February'),\n",
       "  Text(2, 0, 'March'),\n",
       "  Text(3, 0, 'April'),\n",
       "  Text(4, 0, 'May'),\n",
       "  Text(5, 0, 'June'),\n",
       "  Text(6, 0, 'July'),\n",
       "  Text(7, 0, 'August'),\n",
       "  Text(8, 0, 'September'),\n",
       "  Text(9, 0, 'October'),\n",
       "  Text(10, 0, 'November'),\n",
       "  Text(11, 0, 'December')])"
      ]
     },
     "execution_count": 20,
     "metadata": {},
     "output_type": "execute_result"
    },
    {
     "data": {
      "image/png": "[encoded data removed]",
      "text/plain": [
       "<Figure size 640x480 with 1 Axes>"
      ]
     },
     "metadata": {},
     "output_type": "display_data"
    }
   ],
   "source": [
    "# Plot the busiest months in a year\n",
    "sns.countplot(data=new_orders_df,x=\"order_month\")\n",
    "plt.xlabel(\"Month\",fontsize=8,color=\"black\")\n",
    "plt.ylabel(\"Orders\",fontsize=8,color=\"black\")\n",
    "plt.title(\"Orders By Month\")\n",
    "plt.xticks(rotation=90)"
   ]
  },
  {
   "cell_type": "markdown",
   "id": "0ee04e21",
   "metadata": {},
   "source": [
    "- **July and May have the most orders in the year while October and September have least orders.**"
   ]
  },
  {
   "cell_type": "markdown",
   "id": "3ffabac2",
   "metadata": {},
   "source": [
    "### Step 3: Inspect pizza types data"
   ]
  },
  {
   "cell_type": "code",
   "execution_count": 21,
   "id": "aae627dc",
   "metadata": {},
   "outputs": [
    {
     "name": "stdout",
     "output_type": "stream",
     "text": [
      "<class 'pandas.core.frame.DataFrame'>\n",
      "RangeIndex: 32 entries, 0 to 31\n",
      "Data columns (total 4 columns):\n",
      " #   Column         Non-Null Count  Dtype \n",
      "---  ------         --------------  ----- \n",
      " 0   pizza_type_id  32 non-null     object\n",
      " 1   name           32 non-null     object\n",
      " 2   category       32 non-null     object\n",
      " 3   ingredients    32 non-null     object\n",
      "dtypes: object(4)\n",
      "memory usage: 1.1+ KB\n"
     ]
    }
   ],
   "source": [
    "pizza_types_df.info()"
   ]
  },
  {
   "cell_type": "code",
   "execution_count": 22,
   "id": "f39966d9",
   "metadata": {},
   "outputs": [
    {
     "data": {
      "text/plain": [
       "pizza_type_id    0\n",
       "name             0\n",
       "category         0\n",
       "ingredients      0\n",
       "dtype: int64"
      ]
     },
     "execution_count": 22,
     "metadata": {},
     "output_type": "execute_result"
    }
   ],
   "source": [
    "# Check for null values\n",
    "pizza_types_df.isnull().sum()"
   ]
  },
  {
   "cell_type": "code",
   "execution_count": 23,
   "id": "040b9e24",
   "metadata": {},
   "outputs": [
    {
     "data": {
      "text/plain": [
       "0"
      ]
     },
     "execution_count": 23,
     "metadata": {},
     "output_type": "execute_result"
    }
   ],
   "source": [
    "# Check for duplicate values\n",
    "pizza_types_df.duplicated().sum()"
   ]
  },
  {
   "cell_type": "code",
   "execution_count": 24,
   "id": "ef739f38",
   "metadata": {},
   "outputs": [
    {
     "data": {
      "text/html": [
       "<div>\n",
       "<style scoped>\n",
       "    .dataframe tbody tr th:only-of-type {\n",
       "        vertical-align: middle;\n",
       "    }\n",
       "\n",
       "    .dataframe tbody tr th {\n",
       "        vertical-align: top;\n",
       "    }\n",
       "\n",
       "    .dataframe thead th {\n",
       "        text-align: right;\n",
       "    }\n",
       "</style>\n",
       "<table border=\"1\" class=\"dataframe\">\n",
       "  <thead>\n",
       "    <tr style=\"text-align: right;\">\n",
       "      <th></th>\n",
       "      <th>pizza_type_id</th>\n",
       "      <th>name</th>\n",
       "      <th>category</th>\n",
       "      <th>ingredients</th>\n",
       "    </tr>\n",
       "  </thead>\n",
       "  <tbody>\n",
       "    <tr>\n",
       "      <th>11</th>\n",
       "      <td>pep_msh_pep</td>\n",
       "      <td>The Pepperoni, Mushroom, and Peppers Pizza</td>\n",
       "      <td>Classic</td>\n",
       "      <td>Pepperoni, Mushrooms, Green Peppers</td>\n",
       "    </tr>\n",
       "    <tr>\n",
       "      <th>14</th>\n",
       "      <td>brie_carre</td>\n",
       "      <td>The Brie Carre Pizza</td>\n",
       "      <td>Supreme</td>\n",
       "      <td>Brie Carre Cheese, Prosciutto, Caramelized Oni...</td>\n",
       "    </tr>\n",
       "    <tr>\n",
       "      <th>15</th>\n",
       "      <td>calabrese</td>\n",
       "      <td>The Calabrese Pizza</td>\n",
       "      <td>Supreme</td>\n",
       "      <td>ëNduja Salami, Pancetta, Tomatoes, Red Onions,...</td>\n",
       "    </tr>\n",
       "    <tr>\n",
       "      <th>24</th>\n",
       "      <td>four_cheese</td>\n",
       "      <td>The Four Cheese Pizza</td>\n",
       "      <td>Veggie</td>\n",
       "      <td>Ricotta Cheese, Gorgonzola Piccante Cheese, Mo...</td>\n",
       "    </tr>\n",
       "    <tr>\n",
       "      <th>23</th>\n",
       "      <td>five_cheese</td>\n",
       "      <td>The Five Cheese Pizza</td>\n",
       "      <td>Veggie</td>\n",
       "      <td>Mozzarella Cheese, Provolone Cheese, Smoked Go...</td>\n",
       "    </tr>\n",
       "  </tbody>\n",
       "</table>\n",
       "</div>"
      ],
      "text/plain": [
       "   pizza_type_id                                        name category  \\\n",
       "11   pep_msh_pep  The Pepperoni, Mushroom, and Peppers Pizza  Classic   \n",
       "14    brie_carre                        The Brie Carre Pizza  Supreme   \n",
       "15     calabrese                         The Calabrese Pizza  Supreme   \n",
       "24   four_cheese                       The Four Cheese Pizza   Veggie   \n",
       "23   five_cheese                       The Five Cheese Pizza   Veggie   \n",
       "\n",
       "                                          ingredients  \n",
       "11                Pepperoni, Mushrooms, Green Peppers  \n",
       "14  Brie Carre Cheese, Prosciutto, Caramelized Oni...  \n",
       "15  ëNduja Salami, Pancetta, Tomatoes, Red Onions,...  \n",
       "24  Ricotta Cheese, Gorgonzola Piccante Cheese, Mo...  \n",
       "23  Mozzarella Cheese, Provolone Cheese, Smoked Go...  "
      ]
     },
     "execution_count": 24,
     "metadata": {},
     "output_type": "execute_result"
    }
   ],
   "source": [
    "pizza_types_df.sample(5)"
   ]
  },
  {
   "cell_type": "markdown",
   "id": "e3455bec",
   "metadata": {},
   "source": [
    "#### Pizza Types Summary"
   ]
  },
  {
   "cell_type": "code",
   "execution_count": 25,
   "id": "05c307e2",
   "metadata": {},
   "outputs": [
    {
     "data": {
      "text/plain": [
       "array(['Chicken', 'Classic', 'Supreme', 'Veggie'], dtype=object)"
      ]
     },
     "execution_count": 25,
     "metadata": {},
     "output_type": "execute_result"
    }
   ],
   "source": [
    "# Categories of pizzas available\n",
    "pizza_types_df['category'].unique()"
   ]
  },
  {
   "cell_type": "code",
   "execution_count": 26,
   "id": "6126e4e1",
   "metadata": {},
   "outputs": [
    {
     "data": {
      "text/plain": [
       "([<matplotlib.patches.Wedge at 0x7fdd60ab1d90>,\n",
       "  <matplotlib.patches.Wedge at 0x7fdd60ac0690>,\n",
       "  <matplotlib.patches.Wedge at 0x7fdd60ac0ed0>,\n",
       "  <matplotlib.patches.Wedge at 0x7fdd60ac0bd0>],\n",
       " [Text(0.6978326125800102, 0.8503114986990107, 'Supreme'),\n",
       "  Text(-0.9701133907831905, 0.5185364105085977, 'Veggie'),\n",
       "  Text(-0.4209517756015994, -1.0162674857624152, 'Classic'),\n",
       "  Text(0.9146165735327998, -0.6111272563215624, 'Chicken')],\n",
       " [Text(0.38063597049818737, 0.46380627201764213, '28.1%'),\n",
       "  Text(-0.5291527586090129, 0.28283804209559865, '28.1%'),\n",
       "  Text(-0.22961005941905419, -0.5543277195067718, '25.0%'),\n",
       "  Text(0.4988817673815271, -0.3333421398117613, '18.8%')])"
      ]
     },
     "execution_count": 26,
     "metadata": {},
     "output_type": "execute_result"
    },
    {
     "data": {
      "image/png": "[encoded data removed]",
      "text/plain": [
       "<Figure size 640x480 with 1 Axes>"
      ]
     },
     "metadata": {},
     "output_type": "display_data"
    }
   ],
   "source": [
    "# Pie chart with pizza categories\n",
    "labels = pizza_types_df[\"category\"].value_counts().index\n",
    "sizes = pizza_types_df[\"category\"].value_counts()\n",
    "plt.pie(sizes, labels=labels, rotatelabels=False, autopct='%1.1f%%')"
   ]
  },
  {
   "cell_type": "markdown",
   "id": "2aedf253",
   "metadata": {},
   "source": [
    "- **Veggie and Supreme categories have more pizza types compared to Classic and Chicken.**"
   ]
  },
  {
   "cell_type": "markdown",
   "id": "15570cf6",
   "metadata": {},
   "source": [
    "### Step 4: Inspect pizzas data"
   ]
  },
  {
   "cell_type": "code",
   "execution_count": 27,
   "id": "b5de4f2e",
   "metadata": {},
   "outputs": [
    {
     "name": "stdout",
     "output_type": "stream",
     "text": [
      "<class 'pandas.core.frame.DataFrame'>\n",
      "RangeIndex: 96 entries, 0 to 95\n",
      "Data columns (total 4 columns):\n",
      " #   Column         Non-Null Count  Dtype  \n",
      "---  ------         --------------  -----  \n",
      " 0   pizza_id       96 non-null     object \n",
      " 1   pizza_type_id  96 non-null     object \n",
      " 2   size           96 non-null     object \n",
      " 3   price          96 non-null     float64\n",
      "dtypes: float64(1), object(3)\n",
      "memory usage: 3.1+ KB\n"
     ]
    }
   ],
   "source": [
    "# Dataframe info\n",
    "pizzas_df.info()"
   ]
  },
  {
   "cell_type": "code",
   "execution_count": 28,
   "id": "e37769e0",
   "metadata": {},
   "outputs": [
    {
     "data": {
      "text/plain": [
       "pizza_id         0\n",
       "pizza_type_id    0\n",
       "size             0\n",
       "price            0\n",
       "dtype: int64"
      ]
     },
     "execution_count": 28,
     "metadata": {},
     "output_type": "execute_result"
    }
   ],
   "source": [
    "# Check for null values\n",
    "pizzas_df.isnull().sum()"
   ]
  },
  {
   "cell_type": "code",
   "execution_count": 29,
   "id": "a6b99f50",
   "metadata": {},
   "outputs": [
    {
     "data": {
      "text/plain": [
       "0"
      ]
     },
     "execution_count": 29,
     "metadata": {},
     "output_type": "execute_result"
    }
   ],
   "source": [
    "# Check for duplicate values\n",
    "pizzas_df.duplicated().sum()"
   ]
  },
  {
   "cell_type": "code",
   "execution_count": 30,
   "id": "0f1f3a80",
   "metadata": {},
   "outputs": [
    {
     "data": {
      "text/html": [
       "<div>\n",
       "<style scoped>\n",
       "    .dataframe tbody tr th:only-of-type {\n",
       "        vertical-align: middle;\n",
       "    }\n",
       "\n",
       "    .dataframe tbody tr th {\n",
       "        vertical-align: top;\n",
       "    }\n",
       "\n",
       "    .dataframe thead th {\n",
       "        text-align: right;\n",
       "    }\n",
       "</style>\n",
       "<table border=\"1\" class=\"dataframe\">\n",
       "  <thead>\n",
       "    <tr style=\"text-align: right;\">\n",
       "      <th></th>\n",
       "      <th>pizza_id</th>\n",
       "      <th>pizza_type_id</th>\n",
       "      <th>size</th>\n",
       "      <th>price</th>\n",
       "    </tr>\n",
       "  </thead>\n",
       "  <tbody>\n",
       "    <tr>\n",
       "      <th>91</th>\n",
       "      <td>spinach_fet_m</td>\n",
       "      <td>spinach_fet</td>\n",
       "      <td>M</td>\n",
       "      <td>16.00</td>\n",
       "    </tr>\n",
       "    <tr>\n",
       "      <th>92</th>\n",
       "      <td>spinach_fet_l</td>\n",
       "      <td>spinach_fet</td>\n",
       "      <td>L</td>\n",
       "      <td>20.25</td>\n",
       "    </tr>\n",
       "    <tr>\n",
       "      <th>93</th>\n",
       "      <td>veggie_veg_s</td>\n",
       "      <td>veggie_veg</td>\n",
       "      <td>S</td>\n",
       "      <td>12.00</td>\n",
       "    </tr>\n",
       "    <tr>\n",
       "      <th>94</th>\n",
       "      <td>veggie_veg_m</td>\n",
       "      <td>veggie_veg</td>\n",
       "      <td>M</td>\n",
       "      <td>16.00</td>\n",
       "    </tr>\n",
       "    <tr>\n",
       "      <th>95</th>\n",
       "      <td>veggie_veg_l</td>\n",
       "      <td>veggie_veg</td>\n",
       "      <td>L</td>\n",
       "      <td>20.25</td>\n",
       "    </tr>\n",
       "  </tbody>\n",
       "</table>\n",
       "</div>"
      ],
      "text/plain": [
       "         pizza_id pizza_type_id size  price\n",
       "91  spinach_fet_m   spinach_fet    M  16.00\n",
       "92  spinach_fet_l   spinach_fet    L  20.25\n",
       "93   veggie_veg_s    veggie_veg    S  12.00\n",
       "94   veggie_veg_m    veggie_veg    M  16.00\n",
       "95   veggie_veg_l    veggie_veg    L  20.25"
      ]
     },
     "execution_count": 30,
     "metadata": {},
     "output_type": "execute_result"
    }
   ],
   "source": [
    "# Display last few rows of dataframe \n",
    "pizzas_df.tail(5)"
   ]
  },
  {
   "cell_type": "markdown",
   "id": "e75f8bcf",
   "metadata": {},
   "source": [
    "#### Pizzas data summary"
   ]
  },
  {
   "cell_type": "code",
   "execution_count": 31,
   "id": "fcc06a28",
   "metadata": {},
   "outputs": [
    {
     "data": {
      "text/html": [
       "<div>\n",
       "<style scoped>\n",
       "    .dataframe tbody tr th:only-of-type {\n",
       "        vertical-align: middle;\n",
       "    }\n",
       "\n",
       "    .dataframe tbody tr th {\n",
       "        vertical-align: top;\n",
       "    }\n",
       "\n",
       "    .dataframe thead th {\n",
       "        text-align: right;\n",
       "    }\n",
       "</style>\n",
       "<table border=\"1\" class=\"dataframe\">\n",
       "  <thead>\n",
       "    <tr style=\"text-align: right;\">\n",
       "      <th></th>\n",
       "      <th>price</th>\n",
       "    </tr>\n",
       "  </thead>\n",
       "  <tbody>\n",
       "    <tr>\n",
       "      <th>count</th>\n",
       "      <td>96.000000</td>\n",
       "    </tr>\n",
       "    <tr>\n",
       "      <th>mean</th>\n",
       "      <td>16.440625</td>\n",
       "    </tr>\n",
       "    <tr>\n",
       "      <th>std</th>\n",
       "      <td>4.090266</td>\n",
       "    </tr>\n",
       "    <tr>\n",
       "      <th>min</th>\n",
       "      <td>9.750000</td>\n",
       "    </tr>\n",
       "    <tr>\n",
       "      <th>25%</th>\n",
       "      <td>12.500000</td>\n",
       "    </tr>\n",
       "    <tr>\n",
       "      <th>50%</th>\n",
       "      <td>16.250000</td>\n",
       "    </tr>\n",
       "    <tr>\n",
       "      <th>75%</th>\n",
       "      <td>20.250000</td>\n",
       "    </tr>\n",
       "    <tr>\n",
       "      <th>max</th>\n",
       "      <td>35.950000</td>\n",
       "    </tr>\n",
       "  </tbody>\n",
       "</table>\n",
       "</div>"
      ],
      "text/plain": [
       "           price\n",
       "count  96.000000\n",
       "mean   16.440625\n",
       "std     4.090266\n",
       "min     9.750000\n",
       "25%    12.500000\n",
       "50%    16.250000\n",
       "75%    20.250000\n",
       "max    35.950000"
      ]
     },
     "execution_count": 31,
     "metadata": {},
     "output_type": "execute_result"
    }
   ],
   "source": [
    "# Get pizza price statistics\n",
    "pizzas_df.describe()"
   ]
  },
  {
   "cell_type": "code",
   "execution_count": 32,
   "id": "0349ed59",
   "metadata": {},
   "outputs": [
    {
     "data": {
      "text/html": [
       "<div>\n",
       "<style scoped>\n",
       "    .dataframe tbody tr th:only-of-type {\n",
       "        vertical-align: middle;\n",
       "    }\n",
       "\n",
       "    .dataframe tbody tr th {\n",
       "        vertical-align: top;\n",
       "    }\n",
       "\n",
       "    .dataframe thead th {\n",
       "        text-align: right;\n",
       "    }\n",
       "</style>\n",
       "<table border=\"1\" class=\"dataframe\">\n",
       "  <thead>\n",
       "    <tr style=\"text-align: right;\">\n",
       "      <th></th>\n",
       "      <th>pizza_id</th>\n",
       "      <th>pizza_type_id</th>\n",
       "      <th>size</th>\n",
       "      <th>price</th>\n",
       "    </tr>\n",
       "  </thead>\n",
       "  <tbody>\n",
       "    <tr>\n",
       "      <th>43</th>\n",
       "      <td>the_greek_xxl</td>\n",
       "      <td>the_greek</td>\n",
       "      <td>XXL</td>\n",
       "      <td>35.95</td>\n",
       "    </tr>\n",
       "  </tbody>\n",
       "</table>\n",
       "</div>"
      ],
      "text/plain": [
       "         pizza_id pizza_type_id size  price\n",
       "43  the_greek_xxl     the_greek  XXL  35.95"
      ]
     },
     "execution_count": 32,
     "metadata": {},
     "output_type": "execute_result"
    }
   ],
   "source": [
    "# The most expensive pizza offered\n",
    "max_price = pizzas_df['price'].max()\n",
    "expensive_pizza = pizzas_df['price'] == max_price\n",
    "pizzas_df[expensive_pizza]"
   ]
  },
  {
   "cell_type": "code",
   "execution_count": 33,
   "id": "750184de",
   "metadata": {},
   "outputs": [
    {
     "data": {
      "text/html": [
       "<div>\n",
       "<style scoped>\n",
       "    .dataframe tbody tr th:only-of-type {\n",
       "        vertical-align: middle;\n",
       "    }\n",
       "\n",
       "    .dataframe tbody tr th {\n",
       "        vertical-align: top;\n",
       "    }\n",
       "\n",
       "    .dataframe thead th {\n",
       "        text-align: right;\n",
       "    }\n",
       "</style>\n",
       "<table border=\"1\" class=\"dataframe\">\n",
       "  <thead>\n",
       "    <tr style=\"text-align: right;\">\n",
       "      <th></th>\n",
       "      <th>pizza_id</th>\n",
       "      <th>pizza_type_id</th>\n",
       "      <th>size</th>\n",
       "      <th>price</th>\n",
       "    </tr>\n",
       "  </thead>\n",
       "  <tbody>\n",
       "    <tr>\n",
       "      <th>36</th>\n",
       "      <td>pepperoni_s</td>\n",
       "      <td>pepperoni</td>\n",
       "      <td>S</td>\n",
       "      <td>9.75</td>\n",
       "    </tr>\n",
       "  </tbody>\n",
       "</table>\n",
       "</div>"
      ],
      "text/plain": [
       "       pizza_id pizza_type_id size  price\n",
       "36  pepperoni_s     pepperoni    S   9.75"
      ]
     },
     "execution_count": 33,
     "metadata": {},
     "output_type": "execute_result"
    }
   ],
   "source": [
    "# Least expensive pizza\n",
    "least_price = pizzas_df['price'].min()\n",
    "least_expensive_pizza = pizzas_df['price'] == least_price\n",
    "pizzas_df[least_expensive_pizza]"
   ]
  },
  {
   "cell_type": "code",
   "execution_count": 34,
   "id": "f48fa67a",
   "metadata": {},
   "outputs": [
    {
     "data": {
      "text/plain": [
       "array(['S', 'M', 'L', 'XL', 'XXL'], dtype=object)"
      ]
     },
     "execution_count": 34,
     "metadata": {},
     "output_type": "execute_result"
    }
   ],
   "source": [
    "# Pizza sizes offered\n",
    "pizzas_df['size'].unique()"
   ]
  },
  {
   "cell_type": "code",
   "execution_count": 35,
   "id": "e6ee14ed",
   "metadata": {},
   "outputs": [
    {
     "data": {
      "text/plain": [
       "([<matplotlib.patches.Wedge at 0x7fdd60c1dd10>,\n",
       "  <matplotlib.patches.Wedge at 0x7fdd60c29650>,\n",
       "  <matplotlib.patches.Wedge at 0x7fdd60c29d90>,\n",
       "  <matplotlib.patches.Wedge at 0x7fdd60c29a90>,\n",
       "  <matplotlib.patches.Wedge at 0x7fdd60c37dd0>],\n",
       " [Text(0.5499999702695115, 0.9526279613277875, 'S'),\n",
       "  Text(-1.0994110473472416, 0.03599095679252379, 'M'),\n",
       "  Text(0.45397770151505074, -1.0019502215814475, 'L'),\n",
       "  Text(1.0947031927147481, -0.10781892162388282, 'XL'),\n",
       "  Text(1.0994110440828242, -0.03599105651011783, 'XXL')],\n",
       " [Text(0.2999999837833699, 0.5196152516333385, '33.3%'),\n",
       "  Text(-0.5996787530984954, 0.019631430977740245, '32.3%'),\n",
       "  Text(0.24762420082639128, -0.5465183026807895, '32.3%'),\n",
       "  Text(0.5971108323898626, -0.05881032088575426, '1.0%'),\n",
       "  Text(0.599678751317904, -0.019631485369155176, '1.0%')])"
      ]
     },
     "execution_count": 35,
     "metadata": {},
     "output_type": "execute_result"
    },
    {
     "data": {
      "image/png": "[encoded data removed]",
      "text/plain": [
       "<Figure size 640x480 with 1 Axes>"
      ]
     },
     "metadata": {},
     "output_type": "display_data"
    }
   ],
   "source": [
    "# Pie chart with pizza sizes\n",
    "labels = pizzas_df[\"size\"].value_counts().index\n",
    "sizes = pizzas_df[\"size\"].value_counts()\n",
    "plt.pie(sizes, labels=labels, rotatelabels=False, autopct='%1.1f%%')"
   ]
  },
  {
   "cell_type": "markdown",
   "id": "c466d8c7",
   "metadata": {},
   "source": [
    "- **The store offers more Small size pizzas compared to other sizes.**"
   ]
  },
  {
   "cell_type": "code",
   "execution_count": 36,
   "id": "fd502208",
   "metadata": {},
   "outputs": [
    {
     "data": {
      "text/plain": [
       "32"
      ]
     },
     "execution_count": 36,
     "metadata": {},
     "output_type": "execute_result"
    }
   ],
   "source": [
    "# The number of unique pizzas offered in the store\n",
    "pizzas_df['pizza_type_id'].nunique()"
   ]
  },
  {
   "cell_type": "markdown",
   "id": "503f2658",
   "metadata": {},
   "source": [
    "### Step 5: Inspect order_details data"
   ]
  },
  {
   "cell_type": "code",
   "execution_count": 37,
   "id": "f8ade018",
   "metadata": {},
   "outputs": [
    {
     "name": "stdout",
     "output_type": "stream",
     "text": [
      "<class 'pandas.core.frame.DataFrame'>\n",
      "RangeIndex: 48620 entries, 0 to 48619\n",
      "Data columns (total 4 columns):\n",
      " #   Column            Non-Null Count  Dtype \n",
      "---  ------            --------------  ----- \n",
      " 0   order_details_id  48620 non-null  int64 \n",
      " 1   order_id          48620 non-null  int64 \n",
      " 2   pizza_id          48620 non-null  object\n",
      " 3   quantity          48620 non-null  int64 \n",
      "dtypes: int64(3), object(1)\n",
      "memory usage: 1.5+ MB\n"
     ]
    }
   ],
   "source": [
    "order_details_df.info()"
   ]
  },
  {
   "cell_type": "code",
   "execution_count": 38,
   "id": "c10557ff",
   "metadata": {},
   "outputs": [
    {
     "data": {
      "text/plain": [
       "order_details_id    0\n",
       "order_id            0\n",
       "pizza_id            0\n",
       "quantity            0\n",
       "dtype: int64"
      ]
     },
     "execution_count": 38,
     "metadata": {},
     "output_type": "execute_result"
    }
   ],
   "source": [
    "# Check for null values\n",
    "order_details_df.isnull().sum()"
   ]
  },
  {
   "cell_type": "code",
   "execution_count": 39,
   "id": "144000c4",
   "metadata": {},
   "outputs": [
    {
     "data": {
      "text/plain": [
       "False    48620\n",
       "dtype: int64"
      ]
     },
     "execution_count": 39,
     "metadata": {},
     "output_type": "execute_result"
    }
   ],
   "source": [
    "# Check for duplicates\n",
    "order_details_df.duplicated().value_counts()"
   ]
  },
  {
   "cell_type": "code",
   "execution_count": 40,
   "id": "8aeed45a",
   "metadata": {},
   "outputs": [
    {
     "data": {
      "text/html": [
       "<div>\n",
       "<style scoped>\n",
       "    .dataframe tbody tr th:only-of-type {\n",
       "        vertical-align: middle;\n",
       "    }\n",
       "\n",
       "    .dataframe tbody tr th {\n",
       "        vertical-align: top;\n",
       "    }\n",
       "\n",
       "    .dataframe thead th {\n",
       "        text-align: right;\n",
       "    }\n",
       "</style>\n",
       "<table border=\"1\" class=\"dataframe\">\n",
       "  <thead>\n",
       "    <tr style=\"text-align: right;\">\n",
       "      <th></th>\n",
       "      <th>order_details_id</th>\n",
       "      <th>order_id</th>\n",
       "      <th>pizza_id</th>\n",
       "      <th>quantity</th>\n",
       "    </tr>\n",
       "  </thead>\n",
       "  <tbody>\n",
       "    <tr>\n",
       "      <th>23467</th>\n",
       "      <td>23468</td>\n",
       "      <td>10316</td>\n",
       "      <td>big_meat_s</td>\n",
       "      <td>1</td>\n",
       "    </tr>\n",
       "    <tr>\n",
       "      <th>29503</th>\n",
       "      <td>29504</td>\n",
       "      <td>13035</td>\n",
       "      <td>four_cheese_l</td>\n",
       "      <td>1</td>\n",
       "    </tr>\n",
       "    <tr>\n",
       "      <th>10795</th>\n",
       "      <td>10796</td>\n",
       "      <td>4729</td>\n",
       "      <td>classic_dlx_s</td>\n",
       "      <td>1</td>\n",
       "    </tr>\n",
       "    <tr>\n",
       "      <th>40564</th>\n",
       "      <td>40565</td>\n",
       "      <td>17871</td>\n",
       "      <td>thai_ckn_l</td>\n",
       "      <td>1</td>\n",
       "    </tr>\n",
       "    <tr>\n",
       "      <th>6033</th>\n",
       "      <td>6034</td>\n",
       "      <td>2675</td>\n",
       "      <td>pep_msh_pep_m</td>\n",
       "      <td>1</td>\n",
       "    </tr>\n",
       "  </tbody>\n",
       "</table>\n",
       "</div>"
      ],
      "text/plain": [
       "       order_details_id  order_id       pizza_id  quantity\n",
       "23467             23468     10316     big_meat_s         1\n",
       "29503             29504     13035  four_cheese_l         1\n",
       "10795             10796      4729  classic_dlx_s         1\n",
       "40564             40565     17871     thai_ckn_l         1\n",
       "6033               6034      2675  pep_msh_pep_m         1"
      ]
     },
     "execution_count": 40,
     "metadata": {},
     "output_type": "execute_result"
    }
   ],
   "source": [
    "order_details_df.sample(5)"
   ]
  },
  {
   "cell_type": "code",
   "execution_count": 41,
   "id": "e18a3a7c",
   "metadata": {},
   "outputs": [
    {
     "data": {
      "text/plain": [
       "49574"
      ]
     },
     "execution_count": 41,
     "metadata": {},
     "output_type": "execute_result"
    }
   ],
   "source": [
    "# Total pizzas sold in the store\n",
    "order_details_df['quantity'].sum()"
   ]
  },
  {
   "cell_type": "markdown",
   "id": "fb9142e5",
   "metadata": {},
   "source": [
    "### Step 6: Join the data frames"
   ]
  },
  {
   "cell_type": "code",
   "execution_count": 42,
   "id": "c023a275",
   "metadata": {},
   "outputs": [
    {
     "data": {
      "text/html": [
       "<div>\n",
       "<style scoped>\n",
       "    .dataframe tbody tr th:only-of-type {\n",
       "        vertical-align: middle;\n",
       "    }\n",
       "\n",
       "    .dataframe tbody tr th {\n",
       "        vertical-align: top;\n",
       "    }\n",
       "\n",
       "    .dataframe thead th {\n",
       "        text-align: right;\n",
       "    }\n",
       "</style>\n",
       "<table border=\"1\" class=\"dataframe\">\n",
       "  <thead>\n",
       "    <tr style=\"text-align: right;\">\n",
       "      <th></th>\n",
       "      <th>order_id</th>\n",
       "      <th>order_date_time</th>\n",
       "      <th>order_date</th>\n",
       "      <th>order_hour</th>\n",
       "      <th>order_day</th>\n",
       "      <th>order_month</th>\n",
       "      <th>order_details_id</th>\n",
       "      <th>pizza_id</th>\n",
       "      <th>quantity</th>\n",
       "      <th>pizza_type_id</th>\n",
       "      <th>size</th>\n",
       "      <th>price</th>\n",
       "      <th>name</th>\n",
       "      <th>category</th>\n",
       "      <th>ingredients</th>\n",
       "    </tr>\n",
       "  </thead>\n",
       "  <tbody>\n",
       "    <tr>\n",
       "      <th>44996</th>\n",
       "      <td>17814</td>\n",
       "      <td>2015-10-31 13:08:25</td>\n",
       "      <td>2015-10-31</td>\n",
       "      <td>13</td>\n",
       "      <td>Saturday</td>\n",
       "      <td>October</td>\n",
       "      <td>40445</td>\n",
       "      <td>sicilian_m</td>\n",
       "      <td>1</td>\n",
       "      <td>sicilian</td>\n",
       "      <td>M</td>\n",
       "      <td>16.25</td>\n",
       "      <td>The Sicilian Pizza</td>\n",
       "      <td>Supreme</td>\n",
       "      <td>Coarse Sicilian Salami, Tomatoes, Green Olives...</td>\n",
       "    </tr>\n",
       "    <tr>\n",
       "      <th>42229</th>\n",
       "      <td>12494</td>\n",
       "      <td>2015-07-28 12:10:56</td>\n",
       "      <td>2015-07-28</td>\n",
       "      <td>12</td>\n",
       "      <td>Tuesday</td>\n",
       "      <td>July</td>\n",
       "      <td>28360</td>\n",
       "      <td>peppr_salami_l</td>\n",
       "      <td>1</td>\n",
       "      <td>peppr_salami</td>\n",
       "      <td>L</td>\n",
       "      <td>20.75</td>\n",
       "      <td>The Pepper Salami Pizza</td>\n",
       "      <td>Supreme</td>\n",
       "      <td>Genoa Salami, Capocollo, Pepperoni, Tomatoes, ...</td>\n",
       "    </tr>\n",
       "    <tr>\n",
       "      <th>29687</th>\n",
       "      <td>2958</td>\n",
       "      <td>2015-02-19 12:56:06</td>\n",
       "      <td>2015-02-19</td>\n",
       "      <td>12</td>\n",
       "      <td>Thursday</td>\n",
       "      <td>February</td>\n",
       "      <td>6704</td>\n",
       "      <td>pepperoni_m</td>\n",
       "      <td>1</td>\n",
       "      <td>pepperoni</td>\n",
       "      <td>M</td>\n",
       "      <td>12.50</td>\n",
       "      <td>The Pepperoni Pizza</td>\n",
       "      <td>Classic</td>\n",
       "      <td>Mozzarella Cheese, Pepperoni</td>\n",
       "    </tr>\n",
       "    <tr>\n",
       "      <th>46640</th>\n",
       "      <td>3692</td>\n",
       "      <td>2015-03-04 11:31:04</td>\n",
       "      <td>2015-03-04</td>\n",
       "      <td>11</td>\n",
       "      <td>Wednesday</td>\n",
       "      <td>March</td>\n",
       "      <td>8423</td>\n",
       "      <td>ckn_alfredo_l</td>\n",
       "      <td>1</td>\n",
       "      <td>ckn_alfredo</td>\n",
       "      <td>L</td>\n",
       "      <td>20.75</td>\n",
       "      <td>The Chicken Alfredo Pizza</td>\n",
       "      <td>Chicken</td>\n",
       "      <td>Chicken, Red Onions, Red Peppers, Mushrooms, A...</td>\n",
       "    </tr>\n",
       "    <tr>\n",
       "      <th>42326</th>\n",
       "      <td>16077</td>\n",
       "      <td>2015-09-28 15:04:54</td>\n",
       "      <td>2015-09-28</td>\n",
       "      <td>15</td>\n",
       "      <td>Monday</td>\n",
       "      <td>September</td>\n",
       "      <td>36409</td>\n",
       "      <td>peppr_salami_l</td>\n",
       "      <td>1</td>\n",
       "      <td>peppr_salami</td>\n",
       "      <td>L</td>\n",
       "      <td>20.75</td>\n",
       "      <td>The Pepper Salami Pizza</td>\n",
       "      <td>Supreme</td>\n",
       "      <td>Genoa Salami, Capocollo, Pepperoni, Tomatoes, ...</td>\n",
       "    </tr>\n",
       "  </tbody>\n",
       "</table>\n",
       "</div>"
      ],
      "text/plain": [
       "       order_id     order_date_time order_date  order_hour  order_day  \\\n",
       "44996     17814 2015-10-31 13:08:25 2015-10-31          13   Saturday   \n",
       "42229     12494 2015-07-28 12:10:56 2015-07-28          12    Tuesday   \n",
       "29687      2958 2015-02-19 12:56:06 2015-02-19          12   Thursday   \n",
       "46640      3692 2015-03-04 11:31:04 2015-03-04          11  Wednesday   \n",
       "42326     16077 2015-09-28 15:04:54 2015-09-28          15     Monday   \n",
       "\n",
       "      order_month  order_details_id        pizza_id  quantity pizza_type_id  \\\n",
       "44996     October             40445      sicilian_m         1      sicilian   \n",
       "42229        July             28360  peppr_salami_l         1  peppr_salami   \n",
       "29687    February              6704     pepperoni_m         1     pepperoni   \n",
       "46640       March              8423   ckn_alfredo_l         1   ckn_alfredo   \n",
       "42326   September             36409  peppr_salami_l         1  peppr_salami   \n",
       "\n",
       "      size  price                       name category  \\\n",
       "44996    M  16.25         The Sicilian Pizza  Supreme   \n",
       "42229    L  20.75    The Pepper Salami Pizza  Supreme   \n",
       "29687    M  12.50        The Pepperoni Pizza  Classic   \n",
       "46640    L  20.75  The Chicken Alfredo Pizza  Chicken   \n",
       "42326    L  20.75    The Pepper Salami Pizza  Supreme   \n",
       "\n",
       "                                             ingredients  \n",
       "44996  Coarse Sicilian Salami, Tomatoes, Green Olives...  \n",
       "42229  Genoa Salami, Capocollo, Pepperoni, Tomatoes, ...  \n",
       "29687                       Mozzarella Cheese, Pepperoni  \n",
       "46640  Chicken, Red Onions, Red Peppers, Mushrooms, A...  \n",
       "42326  Genoa Salami, Capocollo, Pepperoni, Tomatoes, ...  "
      ]
     },
     "execution_count": 42,
     "metadata": {},
     "output_type": "execute_result"
    }
   ],
   "source": [
    "sales_order_df = (new_orders_df\n",
    "                  .merge(order_details_df, how='inner', on=['order_id'])\n",
    "                  .merge(pizzas_df, how='inner', on=['pizza_id'])\n",
    "                  .merge(pizza_types_df, how='inner', on=['pizza_type_id'])\n",
    "                 )\n",
    "\n",
    "sales_order_df.sample(5)"
   ]
  },
  {
   "cell_type": "markdown",
   "id": "58bcda17",
   "metadata": {},
   "source": [
    "#### Inspect the merged dataframe"
   ]
  },
  {
   "cell_type": "code",
   "execution_count": 43,
   "id": "f46dfaf7",
   "metadata": {},
   "outputs": [
    {
     "name": "stdout",
     "output_type": "stream",
     "text": [
      "<class 'pandas.core.frame.DataFrame'>\n",
      "Int64Index: 48620 entries, 0 to 48619\n",
      "Data columns (total 15 columns):\n",
      " #   Column            Non-Null Count  Dtype         \n",
      "---  ------            --------------  -----         \n",
      " 0   order_id          48620 non-null  int64         \n",
      " 1   order_date_time   48620 non-null  datetime64[ns]\n",
      " 2   order_date        48620 non-null  datetime64[ns]\n",
      " 3   order_hour        48620 non-null  int64         \n",
      " 4   order_day         48620 non-null  object        \n",
      " 5   order_month       48620 non-null  object        \n",
      " 6   order_details_id  48620 non-null  int64         \n",
      " 7   pizza_id          48620 non-null  object        \n",
      " 8   quantity          48620 non-null  int64         \n",
      " 9   pizza_type_id     48620 non-null  object        \n",
      " 10  size              48620 non-null  object        \n",
      " 11  price             48620 non-null  float64       \n",
      " 12  name              48620 non-null  object        \n",
      " 13  category          48620 non-null  object        \n",
      " 14  ingredients       48620 non-null  object        \n",
      "dtypes: datetime64[ns](2), float64(1), int64(4), object(8)\n",
      "memory usage: 5.9+ MB\n"
     ]
    }
   ],
   "source": [
    "sales_order_df.info()"
   ]
  },
  {
   "cell_type": "code",
   "execution_count": 44,
   "id": "057715f3",
   "metadata": {},
   "outputs": [
    {
     "data": {
      "text/plain": [
       "order_id            0\n",
       "order_date_time     0\n",
       "order_date          0\n",
       "order_hour          0\n",
       "order_day           0\n",
       "order_month         0\n",
       "order_details_id    0\n",
       "pizza_id            0\n",
       "quantity            0\n",
       "pizza_type_id       0\n",
       "size                0\n",
       "price               0\n",
       "name                0\n",
       "category            0\n",
       "ingredients         0\n",
       "dtype: int64"
      ]
     },
     "execution_count": 44,
     "metadata": {},
     "output_type": "execute_result"
    }
   ],
   "source": [
    "sales_order_df.isna().sum()"
   ]
  },
  {
   "cell_type": "code",
   "execution_count": 45,
   "id": "b77a4dbb",
   "metadata": {},
   "outputs": [
    {
     "data": {
      "text/plain": [
       "0"
      ]
     },
     "execution_count": 45,
     "metadata": {},
     "output_type": "execute_result"
    }
   ],
   "source": [
    "sales_order_df.duplicated().sum()"
   ]
  },
  {
   "cell_type": "code",
   "execution_count": 46,
   "id": "bf0eae00",
   "metadata": {},
   "outputs": [
    {
     "data": {
      "text/html": [
       "<style type=\"text/css\">\n",
       "#T_96be4_row0_col0, #T_96be4_row0_col1, #T_96be4_row0_col2, #T_96be4_row0_col3, #T_96be4_row0_col4, #T_96be4_row0_col5, #T_96be4_row0_col6, #T_96be4_row0_col7, #T_96be4_row1_col0 {\n",
       "  background-color: #f7fbff;\n",
       "  color: #000000;\n",
       "}\n",
       "#T_96be4_row1_col1, #T_96be4_row1_col2, #T_96be4_row1_col3, #T_96be4_row1_col4, #T_96be4_row1_col5, #T_96be4_row1_col6, #T_96be4_row1_col7 {\n",
       "  background-color: #08306b;\n",
       "  color: #f1f1f1;\n",
       "}\n",
       "</style>\n",
       "<table id=\"T_96be4_\">\n",
       "  <thead>\n",
       "    <tr>\n",
       "      <th class=\"blank level0\" >&nbsp;</th>\n",
       "      <th class=\"col_heading level0 col0\" >count</th>\n",
       "      <th class=\"col_heading level0 col1\" >mean</th>\n",
       "      <th class=\"col_heading level0 col2\" >std</th>\n",
       "      <th class=\"col_heading level0 col3\" >min</th>\n",
       "      <th class=\"col_heading level0 col4\" >25%</th>\n",
       "      <th class=\"col_heading level0 col5\" >50%</th>\n",
       "      <th class=\"col_heading level0 col6\" >75%</th>\n",
       "      <th class=\"col_heading level0 col7\" >max</th>\n",
       "    </tr>\n",
       "  </thead>\n",
       "  <tbody>\n",
       "    <tr>\n",
       "      <th id=\"T_96be4_level0_row0\" class=\"row_heading level0 row0\" >quantity</th>\n",
       "      <td id=\"T_96be4_row0_col0\" class=\"data row0 col0\" >48620.000000</td>\n",
       "      <td id=\"T_96be4_row0_col1\" class=\"data row0 col1\" >1.019622</td>\n",
       "      <td id=\"T_96be4_row0_col2\" class=\"data row0 col2\" >0.143077</td>\n",
       "      <td id=\"T_96be4_row0_col3\" class=\"data row0 col3\" >1.000000</td>\n",
       "      <td id=\"T_96be4_row0_col4\" class=\"data row0 col4\" >1.000000</td>\n",
       "      <td id=\"T_96be4_row0_col5\" class=\"data row0 col5\" >1.000000</td>\n",
       "      <td id=\"T_96be4_row0_col6\" class=\"data row0 col6\" >1.000000</td>\n",
       "      <td id=\"T_96be4_row0_col7\" class=\"data row0 col7\" >4.000000</td>\n",
       "    </tr>\n",
       "    <tr>\n",
       "      <th id=\"T_96be4_level0_row1\" class=\"row_heading level0 row1\" >price</th>\n",
       "      <td id=\"T_96be4_row1_col0\" class=\"data row1 col0\" >48620.000000</td>\n",
       "      <td id=\"T_96be4_row1_col1\" class=\"data row1 col1\" >16.494132</td>\n",
       "      <td id=\"T_96be4_row1_col2\" class=\"data row1 col2\" >3.621789</td>\n",
       "      <td id=\"T_96be4_row1_col3\" class=\"data row1 col3\" >9.750000</td>\n",
       "      <td id=\"T_96be4_row1_col4\" class=\"data row1 col4\" >12.750000</td>\n",
       "      <td id=\"T_96be4_row1_col5\" class=\"data row1 col5\" >16.500000</td>\n",
       "      <td id=\"T_96be4_row1_col6\" class=\"data row1 col6\" >20.250000</td>\n",
       "      <td id=\"T_96be4_row1_col7\" class=\"data row1 col7\" >35.950000</td>\n",
       "    </tr>\n",
       "  </tbody>\n",
       "</table>\n"
      ],
      "text/plain": [
       "<pandas.io.formats.style.Styler at 0x7fdd60c0dc90>"
      ]
     },
     "execution_count": 46,
     "metadata": {},
     "output_type": "execute_result"
    }
   ],
   "source": [
    "sales_order_df[['quantity','price']].describe().T.style.background_gradient(cmap=\"Blues\")"
   ]
  },
  {
   "cell_type": "code",
   "execution_count": 47,
   "id": "7133cd1f",
   "metadata": {},
   "outputs": [],
   "source": [
    "# Save merged data in a csv file\n",
    "sales_order_df.to_csv(\"../Resources/pizza_place_sales.csv\")"
   ]
  },
  {
   "cell_type": "markdown",
   "id": "dac70b3a",
   "metadata": {},
   "source": [
    "### Step 7: Explore and Visualize data\n",
    "- How many customers do we have each day? Are there any peak hours?\n",
    "- How many pizzas are typically in an order? Do we have any bestsellers?\n",
    "- How much money did we make this year? Can we identify any seasonality in the sales?\n",
    "- Are there any pizzas we should take of the menu, or any promotions we could leverage?"
   ]
  },
  {
   "cell_type": "markdown",
   "id": "c5f59452",
   "metadata": {},
   "source": [
    "### Peak Hours Summary"
   ]
  },
  {
   "cell_type": "code",
   "execution_count": 48,
   "id": "e53bdd48",
   "metadata": {},
   "outputs": [
    {
     "data": {
      "text/html": [
       "<style type=\"text/css\">\n",
       "#T_0269b_row0_col0, #T_0269b_row0_col1 {\n",
       "  background-color: #08306b;\n",
       "  color: #f1f1f1;\n",
       "}\n",
       "#T_0269b_row1_col0 {\n",
       "  background-color: #083674;\n",
       "  color: #f1f1f1;\n",
       "}\n",
       "#T_0269b_row1_col1 {\n",
       "  background-color: #083d7f;\n",
       "  color: #f1f1f1;\n",
       "}\n",
       "#T_0269b_row2_col0 {\n",
       "  background-color: #083c7d;\n",
       "  color: #f1f1f1;\n",
       "}\n",
       "#T_0269b_row2_col1, #T_0269b_row4_col0 {\n",
       "  background-color: #1764ab;\n",
       "  color: #f1f1f1;\n",
       "}\n",
       "#T_0269b_row3_col0 {\n",
       "  background-color: #084387;\n",
       "  color: #f1f1f1;\n",
       "}\n",
       "#T_0269b_row3_col1 {\n",
       "  background-color: #1d6cb1;\n",
       "  color: #f1f1f1;\n",
       "}\n",
       "#T_0269b_row4_col1, #T_0269b_row6_col0 {\n",
       "  background-color: #3b8bc2;\n",
       "  color: #f1f1f1;\n",
       "}\n",
       "#T_0269b_row5_col0 {\n",
       "  background-color: #1e6db2;\n",
       "  color: #f1f1f1;\n",
       "}\n",
       "#T_0269b_row5_col1 {\n",
       "  background-color: #4191c6;\n",
       "  color: #f1f1f1;\n",
       "}\n",
       "#T_0269b_row6_col1 {\n",
       "  background-color: #64a9d3;\n",
       "  color: #f1f1f1;\n",
       "}\n",
       "#T_0269b_row7_col0, #T_0269b_row8_col0 {\n",
       "  background-color: #4f9bcb;\n",
       "  color: #f1f1f1;\n",
       "}\n",
       "#T_0269b_row7_col1 {\n",
       "  background-color: #60a7d2;\n",
       "  color: #f1f1f1;\n",
       "}\n",
       "#T_0269b_row8_col1, #T_0269b_row10_col0 {\n",
       "  background-color: #75b4d8;\n",
       "  color: #000000;\n",
       "}\n",
       "#T_0269b_row9_col0 {\n",
       "  background-color: #6fb0d7;\n",
       "  color: #f1f1f1;\n",
       "}\n",
       "#T_0269b_row9_col1 {\n",
       "  background-color: #94c4df;\n",
       "  color: #000000;\n",
       "}\n",
       "#T_0269b_row10_col1 {\n",
       "  background-color: #9dcae1;\n",
       "  color: #000000;\n",
       "}\n",
       "#T_0269b_row11_col0 {\n",
       "  background-color: #c2d9ee;\n",
       "  color: #000000;\n",
       "}\n",
       "#T_0269b_row11_col1 {\n",
       "  background-color: #cfe1f2;\n",
       "  color: #000000;\n",
       "}\n",
       "#T_0269b_row12_col0, #T_0269b_row12_col1 {\n",
       "  background-color: #f5fafe;\n",
       "  color: #000000;\n",
       "}\n",
       "#T_0269b_row13_col0, #T_0269b_row13_col1, #T_0269b_row14_col0, #T_0269b_row14_col1 {\n",
       "  background-color: #f7fbff;\n",
       "  color: #000000;\n",
       "}\n",
       "</style>\n",
       "<table id=\"T_0269b_\">\n",
       "  <thead>\n",
       "    <tr>\n",
       "      <th class=\"blank level0\" >&nbsp;</th>\n",
       "      <th class=\"col_heading level0 col0\" >Total Orders</th>\n",
       "      <th class=\"col_heading level0 col1\" >Total Quantity</th>\n",
       "    </tr>\n",
       "    <tr>\n",
       "      <th class=\"index_name level0\" >order_hour</th>\n",
       "      <th class=\"blank col0\" >&nbsp;</th>\n",
       "      <th class=\"blank col1\" >&nbsp;</th>\n",
       "    </tr>\n",
       "  </thead>\n",
       "  <tbody>\n",
       "    <tr>\n",
       "      <th id=\"T_0269b_level0_row0\" class=\"row_heading level0 row0\" >12</th>\n",
       "      <td id=\"T_0269b_row0_col0\" class=\"data row0 col0\" >2520</td>\n",
       "      <td id=\"T_0269b_row0_col1\" class=\"data row0 col1\" >6776</td>\n",
       "    </tr>\n",
       "    <tr>\n",
       "      <th id=\"T_0269b_level0_row1\" class=\"row_heading level0 row1\" >13</th>\n",
       "      <td id=\"T_0269b_row1_col0\" class=\"data row1 col0\" >2455</td>\n",
       "      <td id=\"T_0269b_row1_col1\" class=\"data row1 col1\" >6413</td>\n",
       "    </tr>\n",
       "    <tr>\n",
       "      <th id=\"T_0269b_level0_row2\" class=\"row_heading level0 row2\" >18</th>\n",
       "      <td id=\"T_0269b_row2_col0\" class=\"data row2 col0\" >2399</td>\n",
       "      <td id=\"T_0269b_row2_col1\" class=\"data row2 col1\" >5417</td>\n",
       "    </tr>\n",
       "    <tr>\n",
       "      <th id=\"T_0269b_level0_row3\" class=\"row_heading level0 row3\" >17</th>\n",
       "      <td id=\"T_0269b_row3_col0\" class=\"data row3 col0\" >2336</td>\n",
       "      <td id=\"T_0269b_row3_col1\" class=\"data row3 col1\" >5211</td>\n",
       "    </tr>\n",
       "    <tr>\n",
       "      <th id=\"T_0269b_level0_row4\" class=\"row_heading level0 row4\" >19</th>\n",
       "      <td id=\"T_0269b_row4_col0\" class=\"data row4 col0\" >2009</td>\n",
       "      <td id=\"T_0269b_row4_col1\" class=\"data row4 col1\" >4406</td>\n",
       "    </tr>\n",
       "    <tr>\n",
       "      <th id=\"T_0269b_level0_row5\" class=\"row_heading level0 row5\" >16</th>\n",
       "      <td id=\"T_0269b_row5_col0\" class=\"data row5 col0\" >1920</td>\n",
       "      <td id=\"T_0269b_row5_col1\" class=\"data row5 col1\" >4239</td>\n",
       "    </tr>\n",
       "    <tr>\n",
       "      <th id=\"T_0269b_level0_row6\" class=\"row_heading level0 row6\" >20</th>\n",
       "      <td id=\"T_0269b_row6_col0\" class=\"data row6 col0\" >1642</td>\n",
       "      <td id=\"T_0269b_row6_col1\" class=\"data row6 col1\" >3534</td>\n",
       "    </tr>\n",
       "    <tr>\n",
       "      <th id=\"T_0269b_level0_row7\" class=\"row_heading level0 row7\" >14</th>\n",
       "      <td id=\"T_0269b_row7_col0\" class=\"data row7 col0\" >1472</td>\n",
       "      <td id=\"T_0269b_row7_col1\" class=\"data row7 col1\" >3613</td>\n",
       "    </tr>\n",
       "    <tr>\n",
       "      <th id=\"T_0269b_level0_row8\" class=\"row_heading level0 row8\" >15</th>\n",
       "      <td id=\"T_0269b_row8_col0\" class=\"data row8 col0\" >1468</td>\n",
       "      <td id=\"T_0269b_row8_col1\" class=\"data row8 col1\" >3216</td>\n",
       "    </tr>\n",
       "    <tr>\n",
       "      <th id=\"T_0269b_level0_row9\" class=\"row_heading level0 row9\" >11</th>\n",
       "      <td id=\"T_0269b_row9_col0\" class=\"data row9 col0\" >1231</td>\n",
       "      <td id=\"T_0269b_row9_col1\" class=\"data row9 col1\" >2728</td>\n",
       "    </tr>\n",
       "    <tr>\n",
       "      <th id=\"T_0269b_level0_row10\" class=\"row_heading level0 row10\" >21</th>\n",
       "      <td id=\"T_0269b_row10_col0\" class=\"data row10 col0\" >1198</td>\n",
       "      <td id=\"T_0269b_row10_col1\" class=\"data row10 col1\" >2545</td>\n",
       "    </tr>\n",
       "    <tr>\n",
       "      <th id=\"T_0269b_level0_row11\" class=\"row_heading level0 row11\" >22</th>\n",
       "      <td id=\"T_0269b_row11_col0\" class=\"data row11 col0\" >663</td>\n",
       "      <td id=\"T_0269b_row11_col1\" class=\"data row11 col1\" >1386</td>\n",
       "    </tr>\n",
       "    <tr>\n",
       "      <th id=\"T_0269b_level0_row12\" class=\"row_heading level0 row12\" >23</th>\n",
       "      <td id=\"T_0269b_row12_col0\" class=\"data row12 col0\" >28</td>\n",
       "      <td id=\"T_0269b_row12_col1\" class=\"data row12 col1\" >68</td>\n",
       "    </tr>\n",
       "    <tr>\n",
       "      <th id=\"T_0269b_level0_row13\" class=\"row_heading level0 row13\" >10</th>\n",
       "      <td id=\"T_0269b_row13_col0\" class=\"data row13 col0\" >8</td>\n",
       "      <td id=\"T_0269b_row13_col1\" class=\"data row13 col1\" >18</td>\n",
       "    </tr>\n",
       "    <tr>\n",
       "      <th id=\"T_0269b_level0_row14\" class=\"row_heading level0 row14\" >9</th>\n",
       "      <td id=\"T_0269b_row14_col0\" class=\"data row14 col0\" >1</td>\n",
       "      <td id=\"T_0269b_row14_col1\" class=\"data row14 col1\" >4</td>\n",
       "    </tr>\n",
       "  </tbody>\n",
       "</table>\n"
      ],
      "text/plain": [
       "<pandas.io.formats.style.Styler at 0x7fdd6095e750>"
      ]
     },
     "execution_count": 48,
     "metadata": {},
     "output_type": "execute_result"
    }
   ],
   "source": [
    "# Create a spread sheet type pivot table as a dataframe\n",
    "peak_hours_df = sales_order_df.pivot_table(values=[\"order_id\",\"quantity\"],\n",
    "                                           index=[\"order_hour\"],\n",
    "                                           aggfunc={\"order_id\":pd.Series.nunique,\"quantity\":'sum'}\n",
    "                                          )\n",
    "# Rename the columns\n",
    "peak_hours_df.columns = [\"Total Orders\",\"Total Quantity\"]\n",
    "\n",
    "# Display the pivot table\n",
    "peak_hours_df.sort_values(by=[\"Total Orders\",\"Total Quantity\"], \n",
    "                          ascending=False).style.background_gradient(\n",
    "    subset=pd.IndexSlice[:,[\"Total Orders\",\"Total Quantity\"]],cmap=\"Blues\")"
   ]
  },
  {
   "cell_type": "markdown",
   "id": "c7c1fca3",
   "metadata": {},
   "source": [
    "### Busy Days in a week "
   ]
  },
  {
   "cell_type": "code",
   "execution_count": 49,
   "id": "23ea3567",
   "metadata": {},
   "outputs": [
    {
     "data": {
      "text/html": [
       "<style type=\"text/css\">\n",
       "#T_7d72e_row0_col0, #T_7d72e_row0_col1 {\n",
       "  background-color: #08306b;\n",
       "  color: #f1f1f1;\n",
       "}\n",
       "#T_7d72e_row1_col0 {\n",
       "  background-color: #3585bf;\n",
       "  color: #f1f1f1;\n",
       "}\n",
       "#T_7d72e_row1_col1 {\n",
       "  background-color: #3a8ac2;\n",
       "  color: #f1f1f1;\n",
       "}\n",
       "#T_7d72e_row2_col0 {\n",
       "  background-color: #4f9bcb;\n",
       "  color: #f1f1f1;\n",
       "}\n",
       "#T_7d72e_row2_col1 {\n",
       "  background-color: #3888c1;\n",
       "  color: #f1f1f1;\n",
       "}\n",
       "#T_7d72e_row3_col0 {\n",
       "  background-color: #84bcdb;\n",
       "  color: #000000;\n",
       "}\n",
       "#T_7d72e_row3_col1 {\n",
       "  background-color: #8fc2de;\n",
       "  color: #000000;\n",
       "}\n",
       "#T_7d72e_row4_col0 {\n",
       "  background-color: #9cc9e1;\n",
       "  color: #000000;\n",
       "}\n",
       "#T_7d72e_row4_col1 {\n",
       "  background-color: #99c7e0;\n",
       "  color: #000000;\n",
       "}\n",
       "#T_7d72e_row5_col0 {\n",
       "  background-color: #d3e3f3;\n",
       "  color: #000000;\n",
       "}\n",
       "#T_7d72e_row5_col1 {\n",
       "  background-color: #cfe1f2;\n",
       "  color: #000000;\n",
       "}\n",
       "#T_7d72e_row6_col0, #T_7d72e_row6_col1 {\n",
       "  background-color: #f7fbff;\n",
       "  color: #000000;\n",
       "}\n",
       "</style>\n",
       "<table id=\"T_7d72e_\">\n",
       "  <thead>\n",
       "    <tr>\n",
       "      <th class=\"blank level0\" >&nbsp;</th>\n",
       "      <th class=\"col_heading level0 col0\" >Total Orders</th>\n",
       "      <th class=\"col_heading level0 col1\" >Total Quantity</th>\n",
       "    </tr>\n",
       "    <tr>\n",
       "      <th class=\"index_name level0\" >order_day</th>\n",
       "      <th class=\"blank col0\" >&nbsp;</th>\n",
       "      <th class=\"blank col1\" >&nbsp;</th>\n",
       "    </tr>\n",
       "  </thead>\n",
       "  <tbody>\n",
       "    <tr>\n",
       "      <th id=\"T_7d72e_level0_row0\" class=\"row_heading level0 row0\" >Friday</th>\n",
       "      <td id=\"T_7d72e_row0_col0\" class=\"data row0 col0\" >3538</td>\n",
       "      <td id=\"T_7d72e_row0_col1\" class=\"data row0 col1\" >8242</td>\n",
       "    </tr>\n",
       "    <tr>\n",
       "      <th id=\"T_7d72e_level0_row1\" class=\"row_heading level0 row1\" >Thursday</th>\n",
       "      <td id=\"T_7d72e_row1_col0\" class=\"data row1 col0\" >3239</td>\n",
       "      <td id=\"T_7d72e_row1_col1\" class=\"data row1 col1\" >7478</td>\n",
       "    </tr>\n",
       "    <tr>\n",
       "      <th id=\"T_7d72e_level0_row2\" class=\"row_heading level0 row2\" >Saturday</th>\n",
       "      <td id=\"T_7d72e_row2_col0\" class=\"data row2 col0\" >3158</td>\n",
       "      <td id=\"T_7d72e_row2_col1\" class=\"data row2 col1\" >7493</td>\n",
       "    </tr>\n",
       "    <tr>\n",
       "      <th id=\"T_7d72e_level0_row3\" class=\"row_heading level0 row3\" >Wednesday</th>\n",
       "      <td id=\"T_7d72e_row3_col0\" class=\"data row3 col0\" >3024</td>\n",
       "      <td id=\"T_7d72e_row3_col1\" class=\"data row3 col1\" >6946</td>\n",
       "    </tr>\n",
       "    <tr>\n",
       "      <th id=\"T_7d72e_level0_row4\" class=\"row_heading level0 row4\" >Tuesday</th>\n",
       "      <td id=\"T_7d72e_row4_col0\" class=\"data row4 col0\" >2973</td>\n",
       "      <td id=\"T_7d72e_row4_col1\" class=\"data row4 col1\" >6895</td>\n",
       "    </tr>\n",
       "    <tr>\n",
       "      <th id=\"T_7d72e_level0_row5\" class=\"row_heading level0 row5\" >Monday</th>\n",
       "      <td id=\"T_7d72e_row5_col0\" class=\"data row5 col0\" >2794</td>\n",
       "      <td id=\"T_7d72e_row5_col1\" class=\"data row5 col1\" >6485</td>\n",
       "    </tr>\n",
       "    <tr>\n",
       "      <th id=\"T_7d72e_level0_row6\" class=\"row_heading level0 row6\" >Sunday</th>\n",
       "      <td id=\"T_7d72e_row6_col0\" class=\"data row6 col0\" >2624</td>\n",
       "      <td id=\"T_7d72e_row6_col1\" class=\"data row6 col1\" >6035</td>\n",
       "    </tr>\n",
       "  </tbody>\n",
       "</table>\n"
      ],
      "text/plain": [
       "<pandas.io.formats.style.Styler at 0x7fdd60ebf210>"
      ]
     },
     "execution_count": 49,
     "metadata": {},
     "output_type": "execute_result"
    }
   ],
   "source": [
    "busy_hours_df = sales_order_df.pivot_table(values=[\"order_id\",\"quantity\"],\n",
    "                                           index=[\"order_day\"],\n",
    "                                           aggfunc={\"order_id\":pd.Series.nunique,\"quantity\":'sum'}\n",
    "                                          )\n",
    "# Rename the columns\n",
    "busy_hours_df.columns = [\"Total Orders\",\"Total Quantity\"]\n",
    "\n",
    "# Display table\n",
    "busy_hours_df.sort_values(by=[\"Total Orders\",\"Total Quantity\"], \n",
    "                          ascending=False).style.background_gradient(\n",
    "    subset=pd.IndexSlice[:,[\"Total Orders\",\"Total Quantity\"]],cmap=\"Blues\")"
   ]
  },
  {
   "cell_type": "markdown",
   "id": "dcb6d6cb",
   "metadata": {},
   "source": [
    "### Busy months in the year"
   ]
  },
  {
   "cell_type": "code",
   "execution_count": 50,
   "id": "4647098d",
   "metadata": {},
   "outputs": [
    {
     "data": {
      "text/html": [
       "<style type=\"text/css\">\n",
       "#T_ae868_row0_col0, #T_ae868_row0_col1 {\n",
       "  background-color: #08306b;\n",
       "  color: #f1f1f1;\n",
       "}\n",
       "#T_ae868_row1_col0 {\n",
       "  background-color: #2a7ab9;\n",
       "  color: #f1f1f1;\n",
       "}\n",
       "#T_ae868_row1_col1 {\n",
       "  background-color: #08519c;\n",
       "  color: #f1f1f1;\n",
       "}\n",
       "#T_ae868_row2_col0 {\n",
       "  background-color: #3181bd;\n",
       "  color: #f1f1f1;\n",
       "}\n",
       "#T_ae868_row2_col1 {\n",
       "  background-color: #3282be;\n",
       "  color: #f1f1f1;\n",
       "}\n",
       "#T_ae868_row3_col0 {\n",
       "  background-color: #3585bf;\n",
       "  color: #f1f1f1;\n",
       "}\n",
       "#T_ae868_row3_col1 {\n",
       "  background-color: #57a0ce;\n",
       "  color: #f1f1f1;\n",
       "}\n",
       "#T_ae868_row4_col0 {\n",
       "  background-color: #3686c0;\n",
       "  color: #f1f1f1;\n",
       "}\n",
       "#T_ae868_row4_col1 {\n",
       "  background-color: #2272b6;\n",
       "  color: #f1f1f1;\n",
       "}\n",
       "#T_ae868_row5_col0 {\n",
       "  background-color: #61a7d2;\n",
       "  color: #f1f1f1;\n",
       "}\n",
       "#T_ae868_row5_col1 {\n",
       "  background-color: #63a8d3;\n",
       "  color: #f1f1f1;\n",
       "}\n",
       "#T_ae868_row6_col0 {\n",
       "  background-color: #69add5;\n",
       "  color: #f1f1f1;\n",
       "}\n",
       "#T_ae868_row6_col1 {\n",
       "  background-color: #2070b4;\n",
       "  color: #f1f1f1;\n",
       "}\n",
       "#T_ae868_row7_col0, #T_ae868_row7_col1 {\n",
       "  background-color: #84bcdb;\n",
       "  color: #000000;\n",
       "}\n",
       "#T_ae868_row8_col0 {\n",
       "  background-color: #dceaf6;\n",
       "  color: #000000;\n",
       "}\n",
       "#T_ae868_row8_col1 {\n",
       "  background-color: #d9e7f5;\n",
       "  color: #000000;\n",
       "}\n",
       "#T_ae868_row9_col0 {\n",
       "  background-color: #dfecf7;\n",
       "  color: #000000;\n",
       "}\n",
       "#T_ae868_row9_col1 {\n",
       "  background-color: #e3eef8;\n",
       "  color: #000000;\n",
       "}\n",
       "#T_ae868_row10_col0 {\n",
       "  background-color: #edf4fc;\n",
       "  color: #000000;\n",
       "}\n",
       "#T_ae868_row10_col1 {\n",
       "  background-color: #f5f9fe;\n",
       "  color: #000000;\n",
       "}\n",
       "#T_ae868_row11_col0, #T_ae868_row11_col1 {\n",
       "  background-color: #f7fbff;\n",
       "  color: #000000;\n",
       "}\n",
       "</style>\n",
       "<table id=\"T_ae868_\">\n",
       "  <thead>\n",
       "    <tr>\n",
       "      <th class=\"blank level0\" >&nbsp;</th>\n",
       "      <th class=\"col_heading level0 col0\" >Total Orders</th>\n",
       "      <th class=\"col_heading level0 col1\" >Total Quantity</th>\n",
       "    </tr>\n",
       "    <tr>\n",
       "      <th class=\"index_name level0\" >order_month</th>\n",
       "      <th class=\"blank col0\" >&nbsp;</th>\n",
       "      <th class=\"blank col1\" >&nbsp;</th>\n",
       "    </tr>\n",
       "  </thead>\n",
       "  <tbody>\n",
       "    <tr>\n",
       "      <th id=\"T_ae868_level0_row0\" class=\"row_heading level0 row0\" >July</th>\n",
       "      <td id=\"T_ae868_row0_col0\" class=\"data row0 col0\" >1935</td>\n",
       "      <td id=\"T_ae868_row0_col1\" class=\"data row0 col1\" >4392</td>\n",
       "    </tr>\n",
       "    <tr>\n",
       "      <th id=\"T_ae868_level0_row1\" class=\"row_heading level0 row1\" >May</th>\n",
       "      <td id=\"T_ae868_row1_col0\" class=\"data row1 col0\" >1853</td>\n",
       "      <td id=\"T_ae868_row1_col1\" class=\"data row1 col1\" >4328</td>\n",
       "    </tr>\n",
       "    <tr>\n",
       "      <th id=\"T_ae868_level0_row2\" class=\"row_heading level0 row2\" >January</th>\n",
       "      <td id=\"T_ae868_row2_col0\" class=\"data row2 col0\" >1845</td>\n",
       "      <td id=\"T_ae868_row2_col1\" class=\"data row2 col1\" >4232</td>\n",
       "    </tr>\n",
       "    <tr>\n",
       "      <th id=\"T_ae868_level0_row3\" class=\"row_heading level0 row3\" >August</th>\n",
       "      <td id=\"T_ae868_row3_col0\" class=\"data row3 col0\" >1841</td>\n",
       "      <td id=\"T_ae868_row3_col1\" class=\"data row3 col1\" >4168</td>\n",
       "    </tr>\n",
       "    <tr>\n",
       "      <th id=\"T_ae868_level0_row4\" class=\"row_heading level0 row4\" >March</th>\n",
       "      <td id=\"T_ae868_row4_col0\" class=\"data row4 col0\" >1840</td>\n",
       "      <td id=\"T_ae868_row4_col1\" class=\"data row4 col1\" >4261</td>\n",
       "    </tr>\n",
       "    <tr>\n",
       "      <th id=\"T_ae868_level0_row5\" class=\"row_heading level0 row5\" >April</th>\n",
       "      <td id=\"T_ae868_row5_col0\" class=\"data row5 col0\" >1799</td>\n",
       "      <td id=\"T_ae868_row5_col1\" class=\"data row5 col1\" >4151</td>\n",
       "    </tr>\n",
       "    <tr>\n",
       "      <th id=\"T_ae868_level0_row6\" class=\"row_heading level0 row6\" >November</th>\n",
       "      <td id=\"T_ae868_row6_col0\" class=\"data row6 col0\" >1792</td>\n",
       "      <td id=\"T_ae868_row6_col1\" class=\"data row6 col1\" >4266</td>\n",
       "    </tr>\n",
       "    <tr>\n",
       "      <th id=\"T_ae868_level0_row7\" class=\"row_heading level0 row7\" >June</th>\n",
       "      <td id=\"T_ae868_row7_col0\" class=\"data row7 col0\" >1773</td>\n",
       "      <td id=\"T_ae868_row7_col1\" class=\"data row7 col1\" >4107</td>\n",
       "    </tr>\n",
       "    <tr>\n",
       "      <th id=\"T_ae868_level0_row8\" class=\"row_heading level0 row8\" >February</th>\n",
       "      <td id=\"T_ae868_row8_col0\" class=\"data row8 col0\" >1685</td>\n",
       "      <td id=\"T_ae868_row8_col1\" class=\"data row8 col1\" >3961</td>\n",
       "    </tr>\n",
       "    <tr>\n",
       "      <th id=\"T_ae868_level0_row9\" class=\"row_heading level0 row9\" >December</th>\n",
       "      <td id=\"T_ae868_row9_col0\" class=\"data row9 col0\" >1680</td>\n",
       "      <td id=\"T_ae868_row9_col1\" class=\"data row9 col1\" >3935</td>\n",
       "    </tr>\n",
       "    <tr>\n",
       "      <th id=\"T_ae868_level0_row10\" class=\"row_heading level0 row10\" >September</th>\n",
       "      <td id=\"T_ae868_row10_col0\" class=\"data row10 col0\" >1661</td>\n",
       "      <td id=\"T_ae868_row10_col1\" class=\"data row10 col1\" >3890</td>\n",
       "    </tr>\n",
       "    <tr>\n",
       "      <th id=\"T_ae868_level0_row11\" class=\"row_heading level0 row11\" >October</th>\n",
       "      <td id=\"T_ae868_row11_col0\" class=\"data row11 col0\" >1646</td>\n",
       "      <td id=\"T_ae868_row11_col1\" class=\"data row11 col1\" >3883</td>\n",
       "    </tr>\n",
       "  </tbody>\n",
       "</table>\n"
      ],
      "text/plain": [
       "<pandas.io.formats.style.Styler at 0x7fdd60e51650>"
      ]
     },
     "execution_count": 50,
     "metadata": {},
     "output_type": "execute_result"
    }
   ],
   "source": [
    "busy_months_df = sales_order_df.pivot_table(values=[\"order_id\",\"quantity\"],\n",
    "                                            index=[\"order_month\"],\n",
    "                                            aggfunc={\"order_id\":pd.Series.nunique,\"quantity\":'sum'}\n",
    "                                           )\n",
    "\n",
    "# Rename columns\n",
    "busy_months_df.columns = [\"Total Orders\",\"Total Quantity\"]\n",
    "\n",
    "# Display Month summary\n",
    "busy_months_df.sort_values(by=[\"Total Orders\",\"Total Quantity\"], \n",
    "                          ascending=False).style.background_gradient(\n",
    "    subset=pd.IndexSlice[:,[\"Total Orders\",\"Total Quantity\"]],cmap=\"Blues\")"
   ]
  },
  {
   "cell_type": "markdown",
   "id": "5d0f5556",
   "metadata": {},
   "source": [
    "### Pizza bestsellers"
   ]
  },
  {
   "cell_type": "code",
   "execution_count": 51,
   "id": "4f89ecef",
   "metadata": {},
   "outputs": [
    {
     "data": {
      "text/html": [
       "<style type=\"text/css\">\n",
       "#T_e264f_row0_col0, #T_e264f_row0_col1 {\n",
       "  background-color: #08306b;\n",
       "  color: #f1f1f1;\n",
       "}\n",
       "#T_e264f_row1_col0 {\n",
       "  background-color: #083674;\n",
       "  color: #f1f1f1;\n",
       "}\n",
       "#T_e264f_row1_col1, #T_e264f_row2_col1 {\n",
       "  background-color: #083471;\n",
       "  color: #f1f1f1;\n",
       "}\n",
       "#T_e264f_row2_col0, #T_e264f_row3_col0 {\n",
       "  background-color: #083776;\n",
       "  color: #f1f1f1;\n",
       "}\n",
       "#T_e264f_row3_col1 {\n",
       "  background-color: #08326e;\n",
       "  color: #f1f1f1;\n",
       "}\n",
       "#T_e264f_row4_col0 {\n",
       "  background-color: #083e81;\n",
       "  color: #f1f1f1;\n",
       "}\n",
       "#T_e264f_row4_col1, #T_e264f_row5_col1 {\n",
       "  background-color: #083a7a;\n",
       "  color: #f1f1f1;\n",
       "}\n",
       "#T_e264f_row5_col0 {\n",
       "  background-color: #084387;\n",
       "  color: #f1f1f1;\n",
       "}\n",
       "#T_e264f_row6_col0, #T_e264f_row6_col1 {\n",
       "  background-color: #2676b8;\n",
       "  color: #f1f1f1;\n",
       "}\n",
       "#T_e264f_row7_col0, #T_e264f_row8_col0, #T_e264f_row9_col1 {\n",
       "  background-color: #2777b8;\n",
       "  color: #f1f1f1;\n",
       "}\n",
       "#T_e264f_row7_col1 {\n",
       "  background-color: #2575b7;\n",
       "  color: #f1f1f1;\n",
       "}\n",
       "#T_e264f_row8_col1 {\n",
       "  background-color: #2474b7;\n",
       "  color: #f1f1f1;\n",
       "}\n",
       "#T_e264f_row9_col0, #T_e264f_row10_col0, #T_e264f_row10_col1 {\n",
       "  background-color: #2979b9;\n",
       "  color: #f1f1f1;\n",
       "}\n",
       "#T_e264f_row11_col0, #T_e264f_row11_col1 {\n",
       "  background-color: #2c7cba;\n",
       "  color: #f1f1f1;\n",
       "}\n",
       "#T_e264f_row12_col0 {\n",
       "  background-color: #60a7d2;\n",
       "  color: #f1f1f1;\n",
       "}\n",
       "#T_e264f_row12_col1 {\n",
       "  background-color: #61a7d2;\n",
       "  color: #f1f1f1;\n",
       "}\n",
       "#T_e264f_row13_col0, #T_e264f_row14_col0 {\n",
       "  background-color: #68acd5;\n",
       "  color: #f1f1f1;\n",
       "}\n",
       "#T_e264f_row13_col1 {\n",
       "  background-color: #69add5;\n",
       "  color: #f1f1f1;\n",
       "}\n",
       "#T_e264f_row14_col1, #T_e264f_row15_col0, #T_e264f_row16_col0 {\n",
       "  background-color: #6caed6;\n",
       "  color: #f1f1f1;\n",
       "}\n",
       "#T_e264f_row15_col1, #T_e264f_row17_col1, #T_e264f_row18_col0 {\n",
       "  background-color: #71b1d7;\n",
       "  color: #f1f1f1;\n",
       "}\n",
       "#T_e264f_row16_col1 {\n",
       "  background-color: #6dafd7;\n",
       "  color: #f1f1f1;\n",
       "}\n",
       "#T_e264f_row17_col0 {\n",
       "  background-color: #6fb0d7;\n",
       "  color: #f1f1f1;\n",
       "}\n",
       "#T_e264f_row18_col1 {\n",
       "  background-color: #72b2d8;\n",
       "  color: #f1f1f1;\n",
       "}\n",
       "#T_e264f_row19_col0, #T_e264f_row19_col1, #T_e264f_row20_col0 {\n",
       "  background-color: #75b4d8;\n",
       "  color: #000000;\n",
       "}\n",
       "#T_e264f_row20_col1 {\n",
       "  background-color: #79b5d9;\n",
       "  color: #000000;\n",
       "}\n",
       "#T_e264f_row21_col0 {\n",
       "  background-color: #7fb9da;\n",
       "  color: #000000;\n",
       "}\n",
       "#T_e264f_row21_col1 {\n",
       "  background-color: #82bbdb;\n",
       "  color: #000000;\n",
       "}\n",
       "#T_e264f_row22_col0 {\n",
       "  background-color: #c1d9ed;\n",
       "  color: #000000;\n",
       "}\n",
       "#T_e264f_row22_col1 {\n",
       "  background-color: #c3daee;\n",
       "  color: #000000;\n",
       "}\n",
       "#T_e264f_row23_col0 {\n",
       "  background-color: #c2d9ee;\n",
       "  color: #000000;\n",
       "}\n",
       "#T_e264f_row23_col1, #T_e264f_row24_col1, #T_e264f_row25_col0 {\n",
       "  background-color: #c6dbef;\n",
       "  color: #000000;\n",
       "}\n",
       "#T_e264f_row24_col0 {\n",
       "  background-color: #c4daee;\n",
       "  color: #000000;\n",
       "}\n",
       "#T_e264f_row25_col1, #T_e264f_row27_col1 {\n",
       "  background-color: #c7dcef;\n",
       "  color: #000000;\n",
       "}\n",
       "#T_e264f_row26_col0, #T_e264f_row27_col0 {\n",
       "  background-color: #c7dbef;\n",
       "  color: #000000;\n",
       "}\n",
       "#T_e264f_row26_col1 {\n",
       "  background-color: #c8dcf0;\n",
       "  color: #000000;\n",
       "}\n",
       "#T_e264f_row28_col0, #T_e264f_row29_col0 {\n",
       "  background-color: #c9ddf0;\n",
       "  color: #000000;\n",
       "}\n",
       "#T_e264f_row28_col1, #T_e264f_row30_col0 {\n",
       "  background-color: #caddf0;\n",
       "  color: #000000;\n",
       "}\n",
       "#T_e264f_row29_col1 {\n",
       "  background-color: #cadef0;\n",
       "  color: #000000;\n",
       "}\n",
       "#T_e264f_row30_col1 {\n",
       "  background-color: #cbdef1;\n",
       "  color: #000000;\n",
       "}\n",
       "#T_e264f_row31_col0, #T_e264f_row31_col1 {\n",
       "  background-color: #f7fbff;\n",
       "  color: #000000;\n",
       "}\n",
       "</style>\n",
       "<table id=\"T_e264f_\">\n",
       "  <thead>\n",
       "    <tr>\n",
       "      <th class=\"blank level0\" >&nbsp;</th>\n",
       "      <th class=\"col_heading level0 col0\" >Total Orders</th>\n",
       "      <th class=\"col_heading level0 col1\" >Total Quantity</th>\n",
       "    </tr>\n",
       "    <tr>\n",
       "      <th class=\"index_name level0\" >name</th>\n",
       "      <th class=\"blank col0\" >&nbsp;</th>\n",
       "      <th class=\"blank col1\" >&nbsp;</th>\n",
       "    </tr>\n",
       "  </thead>\n",
       "  <tbody>\n",
       "    <tr>\n",
       "      <th id=\"T_e264f_level0_row0\" class=\"row_heading level0 row0\" >The Classic Deluxe Pizza</th>\n",
       "      <td id=\"T_e264f_row0_col0\" class=\"data row0 col0\" >2329</td>\n",
       "      <td id=\"T_e264f_row0_col1\" class=\"data row0 col1\" >2453</td>\n",
       "    </tr>\n",
       "    <tr>\n",
       "      <th id=\"T_e264f_level0_row1\" class=\"row_heading level0 row1\" >The Hawaiian Pizza</th>\n",
       "      <td id=\"T_e264f_row1_col0\" class=\"data row1 col0\" >2280</td>\n",
       "      <td id=\"T_e264f_row1_col1\" class=\"data row1 col1\" >2422</td>\n",
       "    </tr>\n",
       "    <tr>\n",
       "      <th id=\"T_e264f_level0_row2\" class=\"row_heading level0 row2\" >The Pepperoni Pizza</th>\n",
       "      <td id=\"T_e264f_row2_col0\" class=\"data row2 col0\" >2278</td>\n",
       "      <td id=\"T_e264f_row2_col1\" class=\"data row2 col1\" >2418</td>\n",
       "    </tr>\n",
       "    <tr>\n",
       "      <th id=\"T_e264f_level0_row3\" class=\"row_heading level0 row3\" >The Barbecue Chicken Pizza</th>\n",
       "      <td id=\"T_e264f_row3_col0\" class=\"data row3 col0\" >2273</td>\n",
       "      <td id=\"T_e264f_row3_col1\" class=\"data row3 col1\" >2432</td>\n",
       "    </tr>\n",
       "    <tr>\n",
       "      <th id=\"T_e264f_level0_row4\" class=\"row_heading level0 row4\" >The Thai Chicken Pizza</th>\n",
       "      <td id=\"T_e264f_row4_col0\" class=\"data row4 col0\" >2225</td>\n",
       "      <td id=\"T_e264f_row4_col1\" class=\"data row4 col1\" >2371</td>\n",
       "    </tr>\n",
       "    <tr>\n",
       "      <th id=\"T_e264f_level0_row5\" class=\"row_heading level0 row5\" >The California Chicken Pizza</th>\n",
       "      <td id=\"T_e264f_row5_col0\" class=\"data row5 col0\" >2197</td>\n",
       "      <td id=\"T_e264f_row5_col1\" class=\"data row5 col1\" >2370</td>\n",
       "    </tr>\n",
       "    <tr>\n",
       "      <th id=\"T_e264f_level0_row6\" class=\"row_heading level0 row6\" >The Southwest Chicken Pizza</th>\n",
       "      <td id=\"T_e264f_row6_col0\" class=\"data row6 col0\" >1825</td>\n",
       "      <td id=\"T_e264f_row6_col1\" class=\"data row6 col1\" >1917</td>\n",
       "    </tr>\n",
       "    <tr>\n",
       "      <th id=\"T_e264f_level0_row7\" class=\"row_heading level0 row7\" >The Spicy Italian Pizza</th>\n",
       "      <td id=\"T_e264f_row7_col0\" class=\"data row7 col0\" >1822</td>\n",
       "      <td id=\"T_e264f_row7_col1\" class=\"data row7 col1\" >1924</td>\n",
       "    </tr>\n",
       "    <tr>\n",
       "      <th id=\"T_e264f_level0_row8\" class=\"row_heading level0 row8\" >The Sicilian Pizza</th>\n",
       "      <td id=\"T_e264f_row8_col0\" class=\"data row8 col0\" >1820</td>\n",
       "      <td id=\"T_e264f_row8_col1\" class=\"data row8 col1\" >1938</td>\n",
       "    </tr>\n",
       "    <tr>\n",
       "      <th id=\"T_e264f_level0_row9\" class=\"row_heading level0 row9\" >The Big Meat Pizza</th>\n",
       "      <td id=\"T_e264f_row9_col0\" class=\"data row9 col0\" >1811</td>\n",
       "      <td id=\"T_e264f_row9_col1\" class=\"data row9 col1\" >1914</td>\n",
       "    </tr>\n",
       "    <tr>\n",
       "      <th id=\"T_e264f_level0_row10\" class=\"row_heading level0 row10\" >The Four Cheese Pizza</th>\n",
       "      <td id=\"T_e264f_row10_col0\" class=\"data row10 col0\" >1809</td>\n",
       "      <td id=\"T_e264f_row10_col1\" class=\"data row10 col1\" >1902</td>\n",
       "    </tr>\n",
       "    <tr>\n",
       "      <th id=\"T_e264f_level0_row11\" class=\"row_heading level0 row11\" >The Italian Supreme Pizza</th>\n",
       "      <td id=\"T_e264f_row11_col0\" class=\"data row11 col0\" >1791</td>\n",
       "      <td id=\"T_e264f_row11_col1\" class=\"data row11 col1\" >1884</td>\n",
       "    </tr>\n",
       "    <tr>\n",
       "      <th id=\"T_e264f_level0_row12\" class=\"row_heading level0 row12\" >The Vegetables + Vegetables Pizza</th>\n",
       "      <td id=\"T_e264f_row12_col0\" class=\"data row12 col0\" >1463</td>\n",
       "      <td id=\"T_e264f_row12_col1\" class=\"data row12 col1\" >1526</td>\n",
       "    </tr>\n",
       "    <tr>\n",
       "      <th id=\"T_e264f_level0_row13\" class=\"row_heading level0 row13\" >The Mexicana Pizza</th>\n",
       "      <td id=\"T_e264f_row13_col0\" class=\"data row13 col0\" >1426</td>\n",
       "      <td id=\"T_e264f_row13_col1\" class=\"data row13 col1\" >1484</td>\n",
       "    </tr>\n",
       "    <tr>\n",
       "      <th id=\"T_e264f_level0_row14\" class=\"row_heading level0 row14\" >The Napolitana Pizza</th>\n",
       "      <td id=\"T_e264f_row14_col0\" class=\"data row14 col0\" >1421</td>\n",
       "      <td id=\"T_e264f_row14_col1\" class=\"data row14 col1\" >1464</td>\n",
       "    </tr>\n",
       "    <tr>\n",
       "      <th id=\"T_e264f_level0_row15\" class=\"row_heading level0 row15\" >The Spinach and Feta Pizza</th>\n",
       "      <td id=\"T_e264f_row15_col0\" class=\"data row15 col0\" >1402</td>\n",
       "      <td id=\"T_e264f_row15_col1\" class=\"data row15 col1\" >1446</td>\n",
       "    </tr>\n",
       "    <tr>\n",
       "      <th id=\"T_e264f_level0_row16\" class=\"row_heading level0 row16\" >The Prosciutto and Arugula Pizza</th>\n",
       "      <td id=\"T_e264f_row16_col0\" class=\"data row16 col0\" >1398</td>\n",
       "      <td id=\"T_e264f_row16_col1\" class=\"data row16 col1\" >1457</td>\n",
       "    </tr>\n",
       "    <tr>\n",
       "      <th id=\"T_e264f_level0_row17\" class=\"row_heading level0 row17\" >The Pepper Salami Pizza</th>\n",
       "      <td id=\"T_e264f_row17_col0\" class=\"data row17 col0\" >1383</td>\n",
       "      <td id=\"T_e264f_row17_col1\" class=\"data row17 col1\" >1446</td>\n",
       "    </tr>\n",
       "    <tr>\n",
       "      <th id=\"T_e264f_level0_row18\" class=\"row_heading level0 row18\" >The Italian Capocollo Pizza</th>\n",
       "      <td id=\"T_e264f_row18_col0\" class=\"data row18 col0\" >1380</td>\n",
       "      <td id=\"T_e264f_row18_col1\" class=\"data row18 col1\" >1438</td>\n",
       "    </tr>\n",
       "    <tr>\n",
       "      <th id=\"T_e264f_level0_row19\" class=\"row_heading level0 row19\" >The Greek Pizza</th>\n",
       "      <td id=\"T_e264f_row19_col0\" class=\"data row19 col0\" >1361</td>\n",
       "      <td id=\"T_e264f_row19_col1\" class=\"data row19 col1\" >1420</td>\n",
       "    </tr>\n",
       "    <tr>\n",
       "      <th id=\"T_e264f_level0_row20\" class=\"row_heading level0 row20\" >The Five Cheese Pizza</th>\n",
       "      <td id=\"T_e264f_row20_col0\" class=\"data row20 col0\" >1359</td>\n",
       "      <td id=\"T_e264f_row20_col1\" class=\"data row20 col1\" >1409</td>\n",
       "    </tr>\n",
       "    <tr>\n",
       "      <th id=\"T_e264f_level0_row21\" class=\"row_heading level0 row21\" >The Pepperoni, Mushroom, and Peppers Pizza</th>\n",
       "      <td id=\"T_e264f_row21_col0\" class=\"data row21 col0\" >1316</td>\n",
       "      <td id=\"T_e264f_row21_col1\" class=\"data row21 col1\" >1359</td>\n",
       "    </tr>\n",
       "    <tr>\n",
       "      <th id=\"T_e264f_level0_row22\" class=\"row_heading level0 row22\" >The Green Garden Pizza</th>\n",
       "      <td id=\"T_e264f_row22_col0\" class=\"data row22 col0\" >976</td>\n",
       "      <td id=\"T_e264f_row22_col1\" class=\"data row22 col1\" >997</td>\n",
       "    </tr>\n",
       "    <tr>\n",
       "      <th id=\"T_e264f_level0_row23\" class=\"row_heading level0 row23\" >The Chicken Alfredo Pizza</th>\n",
       "      <td id=\"T_e264f_row23_col0\" class=\"data row23 col0\" >967</td>\n",
       "      <td id=\"T_e264f_row23_col1\" class=\"data row23 col1\" >987</td>\n",
       "    </tr>\n",
       "    <tr>\n",
       "      <th id=\"T_e264f_level0_row24\" class=\"row_heading level0 row24\" >The Italian Vegetables Pizza</th>\n",
       "      <td id=\"T_e264f_row24_col0\" class=\"data row24 col0\" >952</td>\n",
       "      <td id=\"T_e264f_row24_col1\" class=\"data row24 col1\" >981</td>\n",
       "    </tr>\n",
       "    <tr>\n",
       "      <th id=\"T_e264f_level0_row25\" class=\"row_heading level0 row25\" >The Spinach Pesto Pizza</th>\n",
       "      <td id=\"T_e264f_row25_col0\" class=\"data row25 col0\" >945</td>\n",
       "      <td id=\"T_e264f_row25_col1\" class=\"data row25 col1\" >970</td>\n",
       "    </tr>\n",
       "    <tr>\n",
       "      <th id=\"T_e264f_level0_row26\" class=\"row_heading level0 row26\" >The Soppressata Pizza</th>\n",
       "      <td id=\"T_e264f_row26_col0\" class=\"data row26 col0\" >941</td>\n",
       "      <td id=\"T_e264f_row26_col1\" class=\"data row26 col1\" >961</td>\n",
       "    </tr>\n",
       "    <tr>\n",
       "      <th id=\"T_e264f_level0_row27\" class=\"row_heading level0 row27\" >The Chicken Pesto Pizza</th>\n",
       "      <td id=\"T_e264f_row27_col0\" class=\"data row27 col0\" >938</td>\n",
       "      <td id=\"T_e264f_row27_col1\" class=\"data row27 col1\" >973</td>\n",
       "    </tr>\n",
       "    <tr>\n",
       "      <th id=\"T_e264f_level0_row28\" class=\"row_heading level0 row28\" >The Spinach Supreme Pizza</th>\n",
       "      <td id=\"T_e264f_row28_col0\" class=\"data row28 col0\" >918</td>\n",
       "      <td id=\"T_e264f_row28_col1\" class=\"data row28 col1\" >950</td>\n",
       "    </tr>\n",
       "    <tr>\n",
       "      <th id=\"T_e264f_level0_row29\" class=\"row_heading level0 row29\" >The Calabrese Pizza</th>\n",
       "      <td id=\"T_e264f_row29_col0\" class=\"data row29 col0\" >918</td>\n",
       "      <td id=\"T_e264f_row29_col1\" class=\"data row29 col1\" >937</td>\n",
       "    </tr>\n",
       "    <tr>\n",
       "      <th id=\"T_e264f_level0_row30\" class=\"row_heading level0 row30\" >The Mediterranean Pizza</th>\n",
       "      <td id=\"T_e264f_row30_col0\" class=\"data row30 col0\" >912</td>\n",
       "      <td id=\"T_e264f_row30_col1\" class=\"data row30 col1\" >934</td>\n",
       "    </tr>\n",
       "    <tr>\n",
       "      <th id=\"T_e264f_level0_row31\" class=\"row_heading level0 row31\" >The Brie Carre Pizza</th>\n",
       "      <td id=\"T_e264f_row31_col0\" class=\"data row31 col0\" >480</td>\n",
       "      <td id=\"T_e264f_row31_col1\" class=\"data row31 col1\" >490</td>\n",
       "    </tr>\n",
       "  </tbody>\n",
       "</table>\n"
      ],
      "text/plain": [
       "<pandas.io.formats.style.Styler at 0x7fdd60c5f910>"
      ]
     },
     "execution_count": 51,
     "metadata": {},
     "output_type": "execute_result"
    }
   ],
   "source": [
    "# Best sold pizza\n",
    "pizza_bestsellers_df = sales_order_df.pivot_table(values=['order_id','quantity'],\n",
    "                                                 index=['name'],\n",
    "                                                 aggfunc={\"order_id\":pd.Series.nunique,\"quantity\":'sum'}\n",
    "                                                 )\n",
    "# Rename columns\n",
    "pizza_bestsellers_df.columns = [\"Total Orders\",\"Total Quantity\"]\n",
    "\n",
    "# Sort and Display table\n",
    "pizza_bestsellers_df.sort_values(by=[\"Total Orders\",\"Total Quantity\"], \n",
    "                          ascending=False).style.background_gradient(\n",
    "    subset=pd.IndexSlice[:,[\"Total Orders\",\"Total Quantity\"]],cmap=\"Blues\")"
   ]
  },
  {
   "cell_type": "code",
   "execution_count": 52,
   "id": "a11e3e18",
   "metadata": {},
   "outputs": [
    {
     "data": {
      "text/plain": [
       "(array([ 0,  1,  2,  3,  4,  5,  6,  7,  8,  9, 10, 11, 12, 13, 14, 15, 16,\n",
       "        17, 18, 19, 20, 21, 22, 23, 24, 25, 26, 27, 28, 29, 30, 31]),\n",
       " [Text(0, 0, 'The Hawaiian Pizza'),\n",
       "  Text(1, 0, 'The Classic Deluxe Pizza'),\n",
       "  Text(2, 0, 'The Five Cheese Pizza'),\n",
       "  Text(3, 0, 'The Italian Supreme Pizza'),\n",
       "  Text(4, 0, 'The Mexicana Pizza'),\n",
       "  Text(5, 0, 'The Thai Chicken Pizza'),\n",
       "  Text(6, 0, 'The Prosciutto and Arugula Pizza'),\n",
       "  Text(7, 0, 'The Barbecue Chicken Pizza'),\n",
       "  Text(8, 0, 'The Greek Pizza'),\n",
       "  Text(9, 0, 'The Spinach Supreme Pizza'),\n",
       "  Text(10, 0, 'The Green Garden Pizza'),\n",
       "  Text(11, 0, 'The Italian Capocollo Pizza'),\n",
       "  Text(12, 0, 'The Spicy Italian Pizza'),\n",
       "  Text(13, 0, 'The Spinach Pesto Pizza'),\n",
       "  Text(14, 0, 'The Vegetables + Vegetables Pizza'),\n",
       "  Text(15, 0, 'The Southwest Chicken Pizza'),\n",
       "  Text(16, 0, 'The California Chicken Pizza'),\n",
       "  Text(17, 0, 'The Pepperoni Pizza'),\n",
       "  Text(18, 0, 'The Chicken Pesto Pizza'),\n",
       "  Text(19, 0, 'The Big Meat Pizza'),\n",
       "  Text(20, 0, 'The Soppressata Pizza'),\n",
       "  Text(21, 0, 'The Four Cheese Pizza'),\n",
       "  Text(22, 0, 'The Napolitana Pizza'),\n",
       "  Text(23, 0, 'The Calabrese Pizza'),\n",
       "  Text(24, 0, 'The Italian Vegetables Pizza'),\n",
       "  Text(25, 0, 'The Mediterranean Pizza'),\n",
       "  Text(26, 0, 'The Pepper Salami Pizza'),\n",
       "  Text(27, 0, 'The Spinach and Feta Pizza'),\n",
       "  Text(28, 0, 'The Sicilian Pizza'),\n",
       "  Text(29, 0, 'The Chicken Alfredo Pizza'),\n",
       "  Text(30, 0, 'The Pepperoni, Mushroom, and Peppers Pizza'),\n",
       "  Text(31, 0, 'The Brie Carre Pizza')])"
      ]
     },
     "execution_count": 52,
     "metadata": {},
     "output_type": "execute_result"
    },
    {
     "data": {
      "image/png": "[encoded data removed]",
      "text/plain": [
       "<Figure size 640x480 with 1 Axes>"
      ]
     },
     "metadata": {},
     "output_type": "display_data"
    }
   ],
   "source": [
    "sns.countplot(data=sales_order_df,x=\"name\")\n",
    "plt.xlabel(\"Pizza Name\",fontsize=8,color=\"black\")\n",
    "plt.ylabel(\"Count\",fontsize=8,color=\"black\")\n",
    "plt.title(\"Pizza Bestsellers\")\n",
    "plt.xticks(rotation=90)"
   ]
  },
  {
   "cell_type": "code",
   "execution_count": 53,
   "id": "a617f0dd",
   "metadata": {},
   "outputs": [
    {
     "name": "stdout",
     "output_type": "stream",
     "text": [
      "category\n",
      "Classic    14888\n",
      "Supreme    11987\n",
      "Veggie     11649\n",
      "Chicken    11050\n",
      "Name: quantity, dtype: int64\n"
     ]
    }
   ],
   "source": [
    "# Best sold pizza category\n",
    "category_bestsellers_df = sales_order_df.groupby('category')['quantity'].sum().sort_values(ascending=False)\n",
    "print(category_bestsellers_df)"
   ]
  },
  {
   "cell_type": "code",
   "execution_count": 78,
   "id": "93813dad",
   "metadata": {},
   "outputs": [
    {
     "data": {
      "text/plain": [
       "<AxesSubplot:ylabel='quantity'>"
      ]
     },
     "execution_count": 78,
     "metadata": {},
     "output_type": "execute_result"
    },
    {
     "data": {
      "image/png": "[encoded data removed]",
      "text/plain": [
       "<Figure size 640x480 with 1 Axes>"
      ]
     },
     "metadata": {},
     "output_type": "display_data"
    }
   ],
   "source": [
    "category_bestsellers_df.plot.pie(y='quantity',autopct='%1.1f%%')"
   ]
  },
  {
   "cell_type": "markdown",
   "id": "755d9643",
   "metadata": {},
   "source": [
    "### Sales Summary"
   ]
  },
  {
   "cell_type": "code",
   "execution_count": 54,
   "id": "870be623",
   "metadata": {},
   "outputs": [
    {
     "name": "stdout",
     "output_type": "stream",
     "text": [
      "Annual Sales: $817860.05\n"
     ]
    }
   ],
   "source": [
    "print(f'Annual Sales: ${round(sum(sales_order_df[\"quantity\"] * sales_order_df[\"price\"]),2)}')"
   ]
  },
  {
   "cell_type": "code",
   "execution_count": 55,
   "id": "93c9a258",
   "metadata": {},
   "outputs": [
    {
     "name": "stdout",
     "output_type": "stream",
     "text": [
      "Average order value: $38.31\n"
     ]
    }
   ],
   "source": [
    "print(f'Average order value: ${round(sum(sales_order_df[\"quantity\"] * sales_order_df[\"price\"])/len(orders_df),2)}')"
   ]
  },
  {
   "cell_type": "code",
   "execution_count": 56,
   "id": "577ed07d",
   "metadata": {},
   "outputs": [
    {
     "data": {
      "text/plain": [
       "[<matplotlib.lines.Line2D at 0x7fdd61a8d4d0>]"
      ]
     },
     "execution_count": 56,
     "metadata": {},
     "output_type": "execute_result"
    },
    {
     "data": {
      "image/png": "[encoded data removed]",
      "text/plain": [
       "<Figure size 3200x800 with 1 Axes>"
      ]
     },
     "metadata": {},
     "output_type": "display_data"
    }
   ],
   "source": [
    "# Plot the sales per date in the year\n",
    "order_groups_by_day_df = sales_order_df.groupby('order_date')['price'].sum().reset_index()\n",
    "plt.figure(figsize=(32, 8))\n",
    "plt.plot(order_groups_by_day_df['price'])\n"
   ]
  },
  {
   "cell_type": "code",
   "execution_count": null,
   "id": "d494091d",
   "metadata": {},
   "outputs": [],
   "source": [
    "# Which pizza size earned more revenue?"
   ]
  },
  {
   "cell_type": "code",
   "execution_count": null,
   "id": "02b3ad54",
   "metadata": {},
   "outputs": [],
   "source": [
    "# Which pizza category earned more revenue?"
   ]
  },
  {
   "cell_type": "code",
   "execution_count": null,
   "id": "2dc94948",
   "metadata": {},
   "outputs": [],
   "source": [
    "# Revenue generated group by pizza name"
   ]
  }
 ],
 "metadata": {
  "kernelspec": {
   "display_name": "mlenv",
   "language": "python",
   "name": "mlenv"
  },
  "language_info": {
   "codemirror_mode": {
    "name": "ipython",
    "version": 3
   },
   "file_extension": ".py",
   "mimetype": "text/x-python",
   "name": "python",
   "nbconvert_exporter": "python",
   "pygments_lexer": "ipython3",
   "version": "3.7.13"
  }
 },
 "nbformat": 4,
 "nbformat_minor": 5
}
